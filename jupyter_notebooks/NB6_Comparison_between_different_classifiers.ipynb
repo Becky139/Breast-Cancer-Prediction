{
 "cells": [
  {
   "cell_type": "markdown",
   "metadata": {},
   "source": [
    "# NB6 Comparison Between Different Classifiers"
   ]
  },
  {
   "cell_type": "markdown",
   "metadata": {
    "id": "1eLEkw5O0ECa"
   },
   "source": [
    "## Objectives\n",
    "\n",
    "Compare with other classification methods\n",
    "   * Decision trees with **`tree.DecisionTreeClassifier()`**\n",
    "   * K-nearest neighbors with **`neighbors.KNeighborsClassifier()`**\n",
    "   * Random forests with **`ensemble.RandomForestClassifier()`**\n",
    "   * Perceptron (both gradient and stochastic gradient) with **`mlxtend.classifier.Perceptron`**\n",
    "   * Multilayer perceptron network (both gradient and stochastic gradient) with **`mlxtend.classifier.MultiLayerPerceptron`**\n",
    "\n",
    "## Inputs\n",
    "\n",
    "* Write here which data or information you need to run the notebook \n",
    "\n",
    "## Outputs\n",
    "\n",
    "* Write here which files, code or artefacts you generate by the end of the notebook \n",
    "\n",
    "## Additional Comments\n",
    "\n",
    "* In case you have any additional comments that don't fit in the previous bullets, please state them here. \n"
   ]
  },
  {
   "cell_type": "markdown",
   "metadata": {},
   "source": [
    "---"
   ]
  },
  {
   "cell_type": "markdown",
   "metadata": {},
   "source": [
    "# Change working directory"
   ]
  },
  {
   "cell_type": "markdown",
   "metadata": {},
   "source": [
    "* We are assuming you will store the notebooks in a subfolder, therefore when running the notebook in the editor, you will need to change the working directory"
   ]
  },
  {
   "cell_type": "markdown",
   "metadata": {},
   "source": [
    "We need to change the working directory from its current folder to its parent folder\n",
    "* We access the current directory with os.getcwd()"
   ]
  },
  {
   "cell_type": "code",
   "execution_count": 1,
   "metadata": {},
   "outputs": [
    {
     "output_type": "execute_result",
     "data": {
      "text/plain": "'/workspaces/Breast-Cancer-Prediction/jupyter_notebooks'"
     },
     "metadata": {},
     "execution_count": 1
    }
   ],
   "source": [
    "import os\n",
    "current_dir = os.getcwd()\n",
    "current_dir"
   ]
  },
  {
   "cell_type": "markdown",
   "metadata": {},
   "source": [
    "We want to make the parent of the current directory the new current directory\n",
    "* os.path.dirname() gets the parent directory\n",
    "* os.chir() defines the new current directory"
   ]
  },
  {
   "cell_type": "code",
   "execution_count": 2,
   "metadata": {
    "tags": []
   },
   "outputs": [
    {
     "output_type": "stream",
     "name": "stdout",
     "text": "You set a new current directory\n"
    }
   ],
   "source": [
    "os.chdir(os.path.dirname(current_dir))\n",
    "print(\"You set a new current directory\")"
   ]
  },
  {
   "cell_type": "markdown",
   "metadata": {},
   "source": [
    "Confirm the new current directory"
   ]
  },
  {
   "cell_type": "code",
   "execution_count": 3,
   "metadata": {},
   "outputs": [
    {
     "output_type": "execute_result",
     "data": {
      "text/plain": "'/workspaces/Breast-Cancer-Prediction'"
     },
     "metadata": {},
     "execution_count": 3
    }
   ],
   "source": [
    "current_dir = os.getcwd()\n",
    "current_dir"
   ]
  },
  {
   "cell_type": "markdown",
   "metadata": {},
   "source": [
    "---"
   ]
  },
  {
   "cell_type": "markdown",
   "metadata": {
    "nbpresent": {
     "id": "b1daa992-4a28-496f-b325-6e8be1a7844c"
    },
    "slideshow": {
     "slide_type": "slide"
    }
   },
   "source": [
    "## Automate the ML process using pipelines \n",
    "\n",
    "There are standard workflows in a machine learning project that can be automated. In Python scikit-learn, Pipelines help to clearly define and automate these workflows.\n",
    "* Pipelines help overcome common problems like data leakage in your test harness. \n",
    "* Python scikit-learn provides a Pipeline utility to help automate machine learning workflows.\n",
    "* Pipelines work by allowing for a linear sequence of data transforms to be chained together culminating in a modeling process that can be evaluated.\n",
    "\n",
    "### Data Preparation and Modeling Pipeline"
   ]
  },
  {
   "cell_type": "code",
   "execution_count": 5,
   "metadata": {},
   "outputs": [],
   "source": [
    "%pycodestyle_on"
   ]
  },
  {
   "cell_type": "code",
   "execution_count": 19,
   "metadata": {
    "tags": []
   },
   "outputs": [],
   "source": [
    "import matplotlib.pyplot as plt\n",
    "\n",
    "# Create a pipeline that standardizes the data then creates a model\n",
    "# Load libraries for data processing\n",
    "import pandas as pd  # data processing, CSV file I/O (e.g. pd.read_csv)\n",
    "import numpy as np\n",
    "from scipy.stats import norm\n",
    "\n",
    "from sklearn.model_selection import train_test_split, cross_val_score, KFold\n",
    "from sklearn.preprocessing import LabelEncoder\n",
    "from sklearn.preprocessing import StandardScaler\n",
    "from sklearn.decomposition import PCA\n",
    "\n",
    "from sklearn.pipeline import Pipeline\n",
    "from sklearn.model_selection import GridSearchCV\n",
    "\n",
    "from sklearn.linear_model import LogisticRegression\n",
    "from sklearn.tree import DecisionTreeClassifier\n",
    "from sklearn.neighbors import KNeighborsClassifier\n",
    "from sklearn.discriminant_analysis import LinearDiscriminantAnalysis\n",
    "from sklearn.naive_bayes import GaussianNB\n",
    "from sklearn.svm import SVC\n",
    "from sklearn.metrics import confusion_matrix\n",
    "from sklearn.metrics import accuracy_score\n",
    "from sklearn.metrics import classification_report\n",
    "\n",
    "# visualization\n",
    "import seaborn as sns\n",
    "plt.style.use('fivethirtyeight')\n",
    "sns.set_style(\"white\")\n",
    "\n",
    "plt.rcParams['figure.figsize'] = (8, 4)"
   ]
  },
  {
   "cell_type": "markdown",
   "metadata": {},
   "source": [
    "### Evaluate Some Algorithms\n",
    "Now it is time to create some models of the data and estimate their accuracy on unseen data. Here is what we are going to cover in this step:\n",
    "1. Separate out a validation dataset.\n",
    "2. Setup the test harness to use 10-fold cross validation.\n",
    "3. Build 5 different models  \n",
    "4. Select the best model\n",
    "\n",
    "## 1.0 Validation Dataset"
   ]
  },
  {
   "cell_type": "code",
   "execution_count": 28,
   "metadata": {
    "tags": []
   },
   "outputs": [
    {
     "output_type": "stream",
     "name": "stderr",
     "text": "12:80: E501 line too long (82 > 79 characters)\n"
    }
   ],
   "source": [
    "# Load data\n",
    "data = pd.read_csv('outputs/datasets/cleaned/data.csv', index_col=False)\n",
    "data.drop('Unnamed: 0', axis=1, inplace=True)\n",
    "\n",
    "# Split-out validation dataset\n",
    "array = data.values\n",
    "X = array[:, 1:31]\n",
    "y = array[:, 0]\n",
    "\n",
    "# Divide records in training and testing sets.\n",
    "X_train, X_test, y_train, y_test = train_test_split(X, y, test_size=0.3, random_state=7)\n",
    "\n",
    "# Transform the class labels from their original string representation\n",
    "# (M and B) into integers\n",
    "le = LabelEncoder()\n",
    "y = le.fit_transform(y)"
   ]
  },
  {
   "cell_type": "markdown",
   "metadata": {},
   "source": [
    "## 2.0 Evaluate Algorithms: Baseline"
   ]
  },
  {
   "cell_type": "code",
   "execution_count": 30,
   "metadata": {
    "tags": []
   },
   "outputs": [
    {
     "output_type": "stream",
     "name": "stdout",
     "text": "LR: 0.949872 (0.031522)\n\n➔ 10-Fold cross-validation accurcay score for the training data for six classifiers\nLDA: 0.954744 (0.018784)\n\n➔ 10-Fold cross-validation accurcay score for the training data for six classifiers\nKNN: 0.937179 (0.028218)\n\n➔ 10-Fold cross-validation accurcay score for the training data for six classifiers\nCART: 0.917244 (0.035211)\n\n➔ 10-Fold cross-validation accurcay score for the training data for six classifiers\n25:80: E501 line too long (84 > 79 characters)\n30:80: E501 line too long (98 > 79 characters)\n30:99: W291 trailing whitespace\nNB: 0.937115 (0.040822)\n\n➔ 10-Fold cross-validation accurcay score for the training data for six classifiers\nSVM: 0.901987 (0.047020)\n\n➔ 10-Fold cross-validation accurcay score for the training data for six classifiers\n"
    }
   ],
   "source": [
    "# Spot-Check Algorithms\n",
    "models = []\n",
    "models.append(('LR', LogisticRegression(solver='lbfgs', max_iter=1000)))\n",
    "models.append(('LDA', LinearDiscriminantAnalysis()))\n",
    "models.append(('KNN', KNeighborsClassifier()))\n",
    "models.append(('CART', DecisionTreeClassifier()))\n",
    "models.append(('NB', GaussianNB()))\n",
    "models.append(('SVM', SVC()))\n",
    "\n",
    "# Test options and evaluation metric\n",
    "num_folds = 10\n",
    "num_instances = len(X_train)\n",
    "seed = 7\n",
    "scoring = 'accuracy'\n",
    "\n",
    "# Test options and evaluation metric\n",
    "num_folds = 10\n",
    "num_instances = len(X_train)\n",
    "seed = 7\n",
    "scoring = 'accuracy'\n",
    "results = []\n",
    "names = []\n",
    "for name, model in models:\n",
    "    kfold = KFold(n_splits=num_folds, random_state=seed, shuffle=True)\n",
    "    cv_results = cross_val_score(model, X_train, y_train, cv=kfold, scoring=scoring)\n",
    "    results.append(cv_results)\n",
    "    names.append(name)\n",
    "    msg = \"%s: %f (%f)\" % (name, cv_results.mean(), cv_results.std())\n",
    "    print(msg)\n",
    "    print('\\n➔ 10-Fold cross-validation accurcay score for the training data for six classifiers')"
   ]
  },
  {
   "cell_type": "markdown",
   "metadata": {
    "collapsed": true
   },
   "source": [
    "#### Observation\n",
    "> The results suggest That both Logistic Regression and LDA may be worth further study. These are just mean accuracy values. It is always wise to look at the distribution of accuracy values calculated across cross validation folds. We can do that graphically using box and whisker plots.\n"
   ]
  },
  {
   "cell_type": "code",
   "execution_count": 31,
   "metadata": {
    "tags": []
   },
   "outputs": [
    {
     "output_type": "display_data",
     "data": {
      "text/plain": "<Figure size 800x400 with 1 Axes>",
      "image/svg+xml": "<?xml version=\"1.0\" encoding=\"utf-8\" standalone=\"no\"?>\n<!DOCTYPE svg PUBLIC \"-//W3C//DTD SVG 1.1//EN\"\n  \"http://www.w3.org/Graphics/SVG/1.1/DTD/svg11.dtd\">\n<svg xmlns:xlink=\"http://www.w3.org/1999/xlink\" width=\"559.099375pt\" height=\"293.529375pt\" viewBox=\"0 0 559.099375 293.529375\" xmlns=\"http://www.w3.org/2000/svg\" version=\"1.1\">\n <metadata>\n  <rdf:RDF xmlns:dc=\"http://purl.org/dc/elements/1.1/\" xmlns:cc=\"http://creativecommons.org/ns#\" xmlns:rdf=\"http://www.w3.org/1999/02/22-rdf-syntax-ns#\">\n   <cc:Work>\n    <dc:type rdf:resource=\"http://purl.org/dc/dcmitype/StillImage\"/>\n    <dc:date>2023-06-06T13:53:16.575887</dc:date>\n    <dc:format>image/svg+xml</dc:format>\n    <dc:creator>\n     <cc:Agent>\n      <dc:title>Matplotlib v3.6.3, https://matplotlib.org/</dc:title>\n     </cc:Agent>\n    </dc:creator>\n   </cc:Work>\n  </rdf:RDF>\n </metadata>\n <defs>\n  <style type=\"text/css\">*{stroke-linejoin: round; stroke-linecap: butt}</style>\n </defs>\n <g id=\"figure_1\">\n  <g id=\"patch_1\">\n   <path d=\"M 0 293.529375 \nL 559.099375 293.529375 \nL 559.099375 0 \nL 0 0 \nz\n\" style=\"fill: #ffffff\"/>\n  </g>\n  <g id=\"axes_1\">\n   <g id=\"patch_2\">\n    <path d=\"M 50.779375 269.28 \nL 551.899375 269.28 \nL 551.899375 36 \nL 50.779375 36 \nz\n\" style=\"fill: #ffffff\"/>\n   </g>\n   <g id=\"matplotlib.axis_1\">\n    <g id=\"xtick_1\">\n     <g id=\"text_1\">\n      <!-- LR -->\n      <g style=\"fill: #262626\" transform=\"translate(83.775156 283.417812) scale(0.14 -0.14)\">\n       <defs>\n        <path id=\"DejaVuSans-4c\" d=\"M 628 4666 \nL 1259 4666 \nL 1259 531 \nL 3531 531 \nL 3531 0 \nL 628 0 \nL 628 4666 \nz\n\" transform=\"scale(0.015625)\"/>\n        <path id=\"DejaVuSans-52\" d=\"M 2841 2188 \nQ 3044 2119 3236 1894 \nQ 3428 1669 3622 1275 \nL 4263 0 \nL 3584 0 \nL 2988 1197 \nQ 2756 1666 2539 1819 \nQ 2322 1972 1947 1972 \nL 1259 1972 \nL 1259 0 \nL 628 0 \nL 628 4666 \nL 2053 4666 \nQ 2853 4666 3247 4331 \nQ 3641 3997 3641 3322 \nQ 3641 2881 3436 2590 \nQ 3231 2300 2841 2188 \nz\nM 1259 4147 \nL 1259 2491 \nL 2053 2491 \nQ 2509 2491 2742 2702 \nQ 2975 2913 2975 3322 \nQ 2975 3731 2742 3939 \nQ 2509 4147 2053 4147 \nL 1259 4147 \nz\n\" transform=\"scale(0.015625)\"/>\n       </defs>\n       <use xlink:href=\"#DejaVuSans-4c\"/>\n       <use xlink:href=\"#DejaVuSans-52\" x=\"55.712891\"/>\n      </g>\n     </g>\n    </g>\n    <g id=\"xtick_2\">\n     <g id=\"text_2\">\n      <!-- LDA -->\n      <g style=\"fill: #262626\" transform=\"translate(162.103125 283.417812) scale(0.14 -0.14)\">\n       <defs>\n        <path id=\"DejaVuSans-44\" d=\"M 1259 4147 \nL 1259 519 \nL 2022 519 \nQ 2988 519 3436 956 \nQ 3884 1394 3884 2338 \nQ 3884 3275 3436 3711 \nQ 2988 4147 2022 4147 \nL 1259 4147 \nz\nM 628 4666 \nL 1925 4666 \nQ 3281 4666 3915 4102 \nQ 4550 3538 4550 2338 \nQ 4550 1131 3912 565 \nQ 3275 0 1925 0 \nL 628 0 \nL 628 4666 \nz\n\" transform=\"scale(0.015625)\"/>\n        <path id=\"DejaVuSans-41\" d=\"M 2188 4044 \nL 1331 1722 \nL 3047 1722 \nL 2188 4044 \nz\nM 1831 4666 \nL 2547 4666 \nL 4325 0 \nL 3669 0 \nL 3244 1197 \nL 1141 1197 \nL 716 0 \nL 50 0 \nL 1831 4666 \nz\n\" transform=\"scale(0.015625)\"/>\n       </defs>\n       <use xlink:href=\"#DejaVuSans-4c\"/>\n       <use xlink:href=\"#DejaVuSans-44\" x=\"55.712891\"/>\n       <use xlink:href=\"#DejaVuSans-41\" x=\"130.964844\"/>\n      </g>\n     </g>\n    </g>\n    <g id=\"xtick_3\">\n     <g id=\"text_3\">\n      <!-- KNN -->\n      <g style=\"fill: #262626\" transform=\"translate(244.515156 283.417812) scale(0.14 -0.14)\">\n       <defs>\n        <path id=\"DejaVuSans-4b\" d=\"M 628 4666 \nL 1259 4666 \nL 1259 2694 \nL 3353 4666 \nL 4166 4666 \nL 1850 2491 \nL 4331 0 \nL 3500 0 \nL 1259 2247 \nL 1259 0 \nL 628 0 \nL 628 4666 \nz\n\" transform=\"scale(0.015625)\"/>\n        <path id=\"DejaVuSans-4e\" d=\"M 628 4666 \nL 1478 4666 \nL 3547 763 \nL 3547 4666 \nL 4159 4666 \nL 4159 0 \nL 3309 0 \nL 1241 3903 \nL 1241 0 \nL 628 0 \nL 628 4666 \nz\n\" transform=\"scale(0.015625)\"/>\n       </defs>\n       <use xlink:href=\"#DejaVuSans-4b\"/>\n       <use xlink:href=\"#DejaVuSans-4e\" x=\"65.576172\"/>\n       <use xlink:href=\"#DejaVuSans-4e\" x=\"140.380859\"/>\n      </g>\n     </g>\n    </g>\n    <g id=\"xtick_4\">\n     <g id=\"text_4\">\n      <!-- CART -->\n      <g style=\"fill: #262626\" transform=\"translate(324.791094 283.417812) scale(0.14 -0.14)\">\n       <defs>\n        <path id=\"DejaVuSans-43\" d=\"M 4122 4306 \nL 4122 3641 \nQ 3803 3938 3442 4084 \nQ 3081 4231 2675 4231 \nQ 1875 4231 1450 3742 \nQ 1025 3253 1025 2328 \nQ 1025 1406 1450 917 \nQ 1875 428 2675 428 \nQ 3081 428 3442 575 \nQ 3803 722 4122 1019 \nL 4122 359 \nQ 3791 134 3420 21 \nQ 3050 -91 2638 -91 \nQ 1578 -91 968 557 \nQ 359 1206 359 2328 \nQ 359 3453 968 4101 \nQ 1578 4750 2638 4750 \nQ 3056 4750 3426 4639 \nQ 3797 4528 4122 4306 \nz\n\" transform=\"scale(0.015625)\"/>\n        <path id=\"DejaVuSans-54\" d=\"M -19 4666 \nL 3928 4666 \nL 3928 4134 \nL 2272 4134 \nL 2272 0 \nL 1638 0 \nL 1638 4134 \nL -19 4134 \nL -19 4666 \nz\n\" transform=\"scale(0.015625)\"/>\n       </defs>\n       <use xlink:href=\"#DejaVuSans-43\"/>\n       <use xlink:href=\"#DejaVuSans-41\" x=\"69.824219\"/>\n       <use xlink:href=\"#DejaVuSans-52\" x=\"138.232422\"/>\n       <use xlink:href=\"#DejaVuSans-54\" x=\"200.464844\"/>\n      </g>\n     </g>\n    </g>\n    <g id=\"xtick_5\">\n     <g id=\"text_5\">\n      <!-- NB -->\n      <g style=\"fill: #262626\" transform=\"translate(416.579844 283.417812) scale(0.14 -0.14)\">\n       <defs>\n        <path id=\"DejaVuSans-42\" d=\"M 1259 2228 \nL 1259 519 \nL 2272 519 \nQ 2781 519 3026 730 \nQ 3272 941 3272 1375 \nQ 3272 1813 3026 2020 \nQ 2781 2228 2272 2228 \nL 1259 2228 \nz\nM 1259 4147 \nL 1259 2741 \nL 2194 2741 \nQ 2656 2741 2882 2914 \nQ 3109 3088 3109 3444 \nQ 3109 3797 2882 3972 \nQ 2656 4147 2194 4147 \nL 1259 4147 \nz\nM 628 4666 \nL 2241 4666 \nQ 2963 4666 3353 4366 \nQ 3744 4066 3744 3513 \nQ 3744 3084 3544 2831 \nQ 3344 2578 2956 2516 \nQ 3422 2416 3680 2098 \nQ 3938 1781 3938 1306 \nQ 3938 681 3513 340 \nQ 3088 0 2303 0 \nL 628 0 \nL 628 4666 \nz\n\" transform=\"scale(0.015625)\"/>\n       </defs>\n       <use xlink:href=\"#DejaVuSans-4e\"/>\n       <use xlink:href=\"#DejaVuSans-42\" x=\"74.804688\"/>\n      </g>\n     </g>\n    </g>\n    <g id=\"xtick_6\">\n     <g id=\"text_6\">\n      <!-- SVM -->\n      <g style=\"fill: #262626\" transform=\"translate(494.867344 283.417812) scale(0.14 -0.14)\">\n       <defs>\n        <path id=\"DejaVuSans-53\" d=\"M 3425 4513 \nL 3425 3897 \nQ 3066 4069 2747 4153 \nQ 2428 4238 2131 4238 \nQ 1616 4238 1336 4038 \nQ 1056 3838 1056 3469 \nQ 1056 3159 1242 3001 \nQ 1428 2844 1947 2747 \nL 2328 2669 \nQ 3034 2534 3370 2195 \nQ 3706 1856 3706 1288 \nQ 3706 609 3251 259 \nQ 2797 -91 1919 -91 \nQ 1588 -91 1214 -16 \nQ 841 59 441 206 \nL 441 856 \nQ 825 641 1194 531 \nQ 1563 422 1919 422 \nQ 2459 422 2753 634 \nQ 3047 847 3047 1241 \nQ 3047 1584 2836 1778 \nQ 2625 1972 2144 2069 \nL 1759 2144 \nQ 1053 2284 737 2584 \nQ 422 2884 422 3419 \nQ 422 4038 858 4394 \nQ 1294 4750 2059 4750 \nQ 2388 4750 2728 4690 \nQ 3069 4631 3425 4513 \nz\n\" transform=\"scale(0.015625)\"/>\n        <path id=\"DejaVuSans-56\" d=\"M 1831 0 \nL 50 4666 \nL 709 4666 \nL 2188 738 \nL 3669 4666 \nL 4325 4666 \nL 2547 0 \nL 1831 0 \nz\n\" transform=\"scale(0.015625)\"/>\n        <path id=\"DejaVuSans-4d\" d=\"M 628 4666 \nL 1569 4666 \nL 2759 1491 \nL 3956 4666 \nL 4897 4666 \nL 4897 0 \nL 4281 0 \nL 4281 4097 \nL 3078 897 \nL 2444 897 \nL 1241 4097 \nL 1241 0 \nL 628 0 \nL 628 4666 \nz\n\" transform=\"scale(0.015625)\"/>\n       </defs>\n       <use xlink:href=\"#DejaVuSans-53\"/>\n       <use xlink:href=\"#DejaVuSans-56\" x=\"63.476562\"/>\n       <use xlink:href=\"#DejaVuSans-4d\" x=\"131.884766\"/>\n      </g>\n     </g>\n    </g>\n   </g>\n   <g id=\"matplotlib.axis_2\">\n    <g id=\"ytick_1\">\n     <g id=\"text_7\">\n      <!-- 0.850 -->\n      <g style=\"fill: #262626\" transform=\"translate(7.2 258.693452) scale(0.14 -0.14)\">\n       <defs>\n        <path id=\"DejaVuSans-30\" d=\"M 2034 4250 \nQ 1547 4250 1301 3770 \nQ 1056 3291 1056 2328 \nQ 1056 1369 1301 889 \nQ 1547 409 2034 409 \nQ 2525 409 2770 889 \nQ 3016 1369 3016 2328 \nQ 3016 3291 2770 3770 \nQ 2525 4250 2034 4250 \nz\nM 2034 4750 \nQ 2819 4750 3233 4129 \nQ 3647 3509 3647 2328 \nQ 3647 1150 3233 529 \nQ 2819 -91 2034 -91 \nQ 1250 -91 836 529 \nQ 422 1150 422 2328 \nQ 422 3509 836 4129 \nQ 1250 4750 2034 4750 \nz\n\" transform=\"scale(0.015625)\"/>\n        <path id=\"DejaVuSans-2e\" d=\"M 684 794 \nL 1344 794 \nL 1344 0 \nL 684 0 \nL 684 794 \nz\n\" transform=\"scale(0.015625)\"/>\n        <path id=\"DejaVuSans-38\" d=\"M 2034 2216 \nQ 1584 2216 1326 1975 \nQ 1069 1734 1069 1313 \nQ 1069 891 1326 650 \nQ 1584 409 2034 409 \nQ 2484 409 2743 651 \nQ 3003 894 3003 1313 \nQ 3003 1734 2745 1975 \nQ 2488 2216 2034 2216 \nz\nM 1403 2484 \nQ 997 2584 770 2862 \nQ 544 3141 544 3541 \nQ 544 4100 942 4425 \nQ 1341 4750 2034 4750 \nQ 2731 4750 3128 4425 \nQ 3525 4100 3525 3541 \nQ 3525 3141 3298 2862 \nQ 3072 2584 2669 2484 \nQ 3125 2378 3379 2068 \nQ 3634 1759 3634 1313 \nQ 3634 634 3220 271 \nQ 2806 -91 2034 -91 \nQ 1263 -91 848 271 \nQ 434 634 434 1313 \nQ 434 1759 690 2068 \nQ 947 2378 1403 2484 \nz\nM 1172 3481 \nQ 1172 3119 1398 2916 \nQ 1625 2713 2034 2713 \nQ 2441 2713 2670 2916 \nQ 2900 3119 2900 3481 \nQ 2900 3844 2670 4047 \nQ 2441 4250 2034 4250 \nQ 1625 4250 1398 4047 \nQ 1172 3844 1172 3481 \nz\n\" transform=\"scale(0.015625)\"/>\n        <path id=\"DejaVuSans-35\" d=\"M 691 4666 \nL 3169 4666 \nL 3169 4134 \nL 1269 4134 \nL 1269 2991 \nQ 1406 3038 1543 3061 \nQ 1681 3084 1819 3084 \nQ 2600 3084 3056 2656 \nQ 3513 2228 3513 1497 \nQ 3513 744 3044 326 \nQ 2575 -91 1722 -91 \nQ 1428 -91 1123 -41 \nQ 819 9 494 109 \nL 494 744 \nQ 775 591 1075 516 \nQ 1375 441 1709 441 \nQ 2250 441 2565 725 \nQ 2881 1009 2881 1497 \nQ 2881 1984 2565 2268 \nQ 2250 2553 1709 2553 \nQ 1456 2553 1204 2497 \nQ 953 2441 691 2322 \nL 691 4666 \nz\n\" transform=\"scale(0.015625)\"/>\n       </defs>\n       <use xlink:href=\"#DejaVuSans-30\"/>\n       <use xlink:href=\"#DejaVuSans-2e\" x=\"63.623047\"/>\n       <use xlink:href=\"#DejaVuSans-38\" x=\"95.410156\"/>\n       <use xlink:href=\"#DejaVuSans-35\" x=\"159.033203\"/>\n       <use xlink:href=\"#DejaVuSans-30\" x=\"222.65625\"/>\n      </g>\n     </g>\n    </g>\n    <g id=\"ytick_2\">\n     <g id=\"text_8\">\n      <!-- 0.875 -->\n      <g style=\"fill: #262626\" transform=\"translate(7.2 224.231634) scale(0.14 -0.14)\">\n       <defs>\n        <path id=\"DejaVuSans-37\" d=\"M 525 4666 \nL 3525 4666 \nL 3525 4397 \nL 1831 0 \nL 1172 0 \nL 2766 4134 \nL 525 4134 \nL 525 4666 \nz\n\" transform=\"scale(0.015625)\"/>\n       </defs>\n       <use xlink:href=\"#DejaVuSans-30\"/>\n       <use xlink:href=\"#DejaVuSans-2e\" x=\"63.623047\"/>\n       <use xlink:href=\"#DejaVuSans-38\" x=\"95.410156\"/>\n       <use xlink:href=\"#DejaVuSans-37\" x=\"159.033203\"/>\n       <use xlink:href=\"#DejaVuSans-35\" x=\"222.65625\"/>\n      </g>\n     </g>\n    </g>\n    <g id=\"ytick_3\">\n     <g id=\"text_9\">\n      <!-- 0.900 -->\n      <g style=\"fill: #262626\" transform=\"translate(7.2 189.769815) scale(0.14 -0.14)\">\n       <defs>\n        <path id=\"DejaVuSans-39\" d=\"M 703 97 \nL 703 672 \nQ 941 559 1184 500 \nQ 1428 441 1663 441 \nQ 2288 441 2617 861 \nQ 2947 1281 2994 2138 \nQ 2813 1869 2534 1725 \nQ 2256 1581 1919 1581 \nQ 1219 1581 811 2004 \nQ 403 2428 403 3163 \nQ 403 3881 828 4315 \nQ 1253 4750 1959 4750 \nQ 2769 4750 3195 4129 \nQ 3622 3509 3622 2328 \nQ 3622 1225 3098 567 \nQ 2575 -91 1691 -91 \nQ 1453 -91 1209 -44 \nQ 966 3 703 97 \nz\nM 1959 2075 \nQ 2384 2075 2632 2365 \nQ 2881 2656 2881 3163 \nQ 2881 3666 2632 3958 \nQ 2384 4250 1959 4250 \nQ 1534 4250 1286 3958 \nQ 1038 3666 1038 3163 \nQ 1038 2656 1286 2365 \nQ 1534 2075 1959 2075 \nz\n\" transform=\"scale(0.015625)\"/>\n       </defs>\n       <use xlink:href=\"#DejaVuSans-30\"/>\n       <use xlink:href=\"#DejaVuSans-2e\" x=\"63.623047\"/>\n       <use xlink:href=\"#DejaVuSans-39\" x=\"95.410156\"/>\n       <use xlink:href=\"#DejaVuSans-30\" x=\"159.033203\"/>\n       <use xlink:href=\"#DejaVuSans-30\" x=\"222.65625\"/>\n      </g>\n     </g>\n    </g>\n    <g id=\"ytick_4\">\n     <g id=\"text_10\">\n      <!-- 0.925 -->\n      <g style=\"fill: #262626\" transform=\"translate(7.2 155.307997) scale(0.14 -0.14)\">\n       <defs>\n        <path id=\"DejaVuSans-32\" d=\"M 1228 531 \nL 3431 531 \nL 3431 0 \nL 469 0 \nL 469 531 \nQ 828 903 1448 1529 \nQ 2069 2156 2228 2338 \nQ 2531 2678 2651 2914 \nQ 2772 3150 2772 3378 \nQ 2772 3750 2511 3984 \nQ 2250 4219 1831 4219 \nQ 1534 4219 1204 4116 \nQ 875 4013 500 3803 \nL 500 4441 \nQ 881 4594 1212 4672 \nQ 1544 4750 1819 4750 \nQ 2544 4750 2975 4387 \nQ 3406 4025 3406 3419 \nQ 3406 3131 3298 2873 \nQ 3191 2616 2906 2266 \nQ 2828 2175 2409 1742 \nQ 1991 1309 1228 531 \nz\n\" transform=\"scale(0.015625)\"/>\n       </defs>\n       <use xlink:href=\"#DejaVuSans-30\"/>\n       <use xlink:href=\"#DejaVuSans-2e\" x=\"63.623047\"/>\n       <use xlink:href=\"#DejaVuSans-39\" x=\"95.410156\"/>\n       <use xlink:href=\"#DejaVuSans-32\" x=\"159.033203\"/>\n       <use xlink:href=\"#DejaVuSans-35\" x=\"222.65625\"/>\n      </g>\n     </g>\n    </g>\n    <g id=\"ytick_5\">\n     <g id=\"text_11\">\n      <!-- 0.950 -->\n      <g style=\"fill: #262626\" transform=\"translate(7.2 120.846179) scale(0.14 -0.14)\">\n       <use xlink:href=\"#DejaVuSans-30\"/>\n       <use xlink:href=\"#DejaVuSans-2e\" x=\"63.623047\"/>\n       <use xlink:href=\"#DejaVuSans-39\" x=\"95.410156\"/>\n       <use xlink:href=\"#DejaVuSans-35\" x=\"159.033203\"/>\n       <use xlink:href=\"#DejaVuSans-30\" x=\"222.65625\"/>\n      </g>\n     </g>\n    </g>\n    <g id=\"ytick_6\">\n     <g id=\"text_12\">\n      <!-- 0.975 -->\n      <g style=\"fill: #262626\" transform=\"translate(7.2 86.384361) scale(0.14 -0.14)\">\n       <use xlink:href=\"#DejaVuSans-30\"/>\n       <use xlink:href=\"#DejaVuSans-2e\" x=\"63.623047\"/>\n       <use xlink:href=\"#DejaVuSans-39\" x=\"95.410156\"/>\n       <use xlink:href=\"#DejaVuSans-37\" x=\"159.033203\"/>\n       <use xlink:href=\"#DejaVuSans-35\" x=\"222.65625\"/>\n      </g>\n     </g>\n    </g>\n    <g id=\"ytick_7\">\n     <g id=\"text_13\">\n      <!-- 1.000 -->\n      <g style=\"fill: #262626\" transform=\"translate(7.2 51.922543) scale(0.14 -0.14)\">\n       <defs>\n        <path id=\"DejaVuSans-31\" d=\"M 794 531 \nL 1825 531 \nL 1825 4091 \nL 703 3866 \nL 703 4441 \nL 1819 4666 \nL 2450 4666 \nL 2450 531 \nL 3481 531 \nL 3481 0 \nL 794 0 \nL 794 531 \nz\n\" transform=\"scale(0.015625)\"/>\n       </defs>\n       <use xlink:href=\"#DejaVuSans-31\"/>\n       <use xlink:href=\"#DejaVuSans-2e\" x=\"63.623047\"/>\n       <use xlink:href=\"#DejaVuSans-30\" x=\"95.410156\"/>\n       <use xlink:href=\"#DejaVuSans-30\" x=\"159.033203\"/>\n       <use xlink:href=\"#DejaVuSans-30\" x=\"222.65625\"/>\n      </g>\n     </g>\n    </g>\n   </g>\n   <g id=\"line2d_1\">\n    <path d=\"M 71.659375 141.373636 \nL 113.419375 141.373636 \nL 113.419375 81.286364 \nL 71.659375 81.286364 \nL 71.659375 141.373636 \n\" clip-path=\"url(#pd6d20d3ae4)\" style=\"fill: none; stroke: #000000; stroke-linecap: round\"/>\n   </g>\n   <g id=\"line2d_2\">\n    <path d=\"M 92.539375 141.373636 \nL 92.539375 218.912727 \n\" clip-path=\"url(#pd6d20d3ae4)\" style=\"fill: none; stroke: #000000; stroke-linecap: round\"/>\n   </g>\n   <g id=\"line2d_3\">\n    <path d=\"M 92.539375 81.286364 \nL 92.539375 81.065455 \n\" clip-path=\"url(#pd6d20d3ae4)\" style=\"fill: none; stroke: #000000; stroke-linecap: round\"/>\n   </g>\n   <g id=\"line2d_4\">\n    <path d=\"M 82.099375 218.912727 \nL 102.979375 218.912727 \n\" clip-path=\"url(#pd6d20d3ae4)\" style=\"fill: none; stroke: #000000; stroke-linecap: round\"/>\n   </g>\n   <g id=\"line2d_5\">\n    <path d=\"M 82.099375 81.065455 \nL 102.979375 81.065455 \n\" clip-path=\"url(#pd6d20d3ae4)\" style=\"fill: none; stroke: #000000; stroke-linecap: round\"/>\n   </g>\n   <g id=\"line2d_6\"/>\n   <g id=\"line2d_7\">\n    <path d=\"M 155.179375 116.852727 \nL 196.939375 116.852727 \nL 196.939375 115.527273 \nL 155.179375 115.527273 \nL 155.179375 116.852727 \n\" clip-path=\"url(#pd6d20d3ae4)\" style=\"fill: none; stroke: #000000; stroke-linecap: round\"/>\n   </g>\n   <g id=\"line2d_8\">\n    <path d=\"M 176.059375 116.852727 \nL 176.059375 117.294545 \n\" clip-path=\"url(#pd6d20d3ae4)\" style=\"fill: none; stroke: #000000; stroke-linecap: round\"/>\n   </g>\n   <g id=\"line2d_9\">\n    <path d=\"M 176.059375 115.527273 \nL 176.059375 115.527273 \n\" clip-path=\"url(#pd6d20d3ae4)\" style=\"fill: none; stroke: #000000; stroke-linecap: round\"/>\n   </g>\n   <g id=\"line2d_10\">\n    <path d=\"M 165.619375 117.294545 \nL 186.499375 117.294545 \n\" clip-path=\"url(#pd6d20d3ae4)\" style=\"fill: none; stroke: #000000; stroke-linecap: round\"/>\n   </g>\n   <g id=\"line2d_11\">\n    <path d=\"M 165.619375 115.527273 \nL 186.499375 115.527273 \n\" clip-path=\"url(#pd6d20d3ae4)\" style=\"fill: none; stroke: #000000; stroke-linecap: round\"/>\n   </g>\n   <g id=\"line2d_12\">\n    <defs>\n     <path id=\"m12a4d2c2cf\" d=\"M 0 3 \nC 0.795609 3 1.55874 2.683901 2.12132 2.12132 \nC 2.683901 1.55874 3 0.795609 3 0 \nC 3 -0.795609 2.683901 -1.55874 2.12132 -2.12132 \nC 1.55874 -2.683901 0.795609 -3 0 -3 \nC -0.795609 -3 -1.55874 -2.683901 -2.12132 -2.12132 \nC -2.683901 -1.55874 -3 -0.795609 -3 0 \nC -3 0.795609 -2.683901 1.55874 -2.12132 2.12132 \nC -1.55874 2.683901 -0.795609 3 0 3 \nz\n\" style=\"stroke: #000000\"/>\n    </defs>\n    <g clip-path=\"url(#pd6d20d3ae4)\">\n     <use xlink:href=\"#m12a4d2c2cf\" x=\"176.059375\" y=\"149.989091\" style=\"fill-opacity: 0; stroke: #000000\"/>\n     <use xlink:href=\"#m12a4d2c2cf\" x=\"176.059375\" y=\"46.603636\" style=\"fill-opacity: 0; stroke: #000000\"/>\n     <use xlink:href=\"#m12a4d2c2cf\" x=\"176.059375\" y=\"81.065455\" style=\"fill-opacity: 0; stroke: #000000\"/>\n    </g>\n   </g>\n   <g id=\"line2d_13\">\n    <path d=\"M 238.699375 149.989091 \nL 280.459375 149.989091 \nL 280.459375 90.343636 \nL 238.699375 90.343636 \nL 238.699375 149.989091 \n\" clip-path=\"url(#pd6d20d3ae4)\" style=\"fill: none; stroke: #000000; stroke-linecap: round\"/>\n   </g>\n   <g id=\"line2d_14\">\n    <path d=\"M 259.579375 149.989091 \nL 259.579375 187.985455 \n\" clip-path=\"url(#pd6d20d3ae4)\" style=\"fill: none; stroke: #000000; stroke-linecap: round\"/>\n   </g>\n   <g id=\"line2d_15\">\n    <path d=\"M 259.579375 90.343636 \nL 259.579375 81.065455 \n\" clip-path=\"url(#pd6d20d3ae4)\" style=\"fill: none; stroke: #000000; stroke-linecap: round\"/>\n   </g>\n   <g id=\"line2d_16\">\n    <path d=\"M 249.139375 187.985455 \nL 270.019375 187.985455 \n\" clip-path=\"url(#pd6d20d3ae4)\" style=\"fill: none; stroke: #000000; stroke-linecap: round\"/>\n   </g>\n   <g id=\"line2d_17\">\n    <path d=\"M 249.139375 81.065455 \nL 270.019375 81.065455 \n\" clip-path=\"url(#pd6d20d3ae4)\" style=\"fill: none; stroke: #000000; stroke-linecap: round\"/>\n   </g>\n   <g id=\"line2d_18\"/>\n   <g id=\"line2d_19\">\n    <path d=\"M 322.219375 210.297273 \nL 363.979375 210.297273 \nL 363.979375 117.294545 \nL 322.219375 117.294545 \nL 322.219375 210.297273 \n\" clip-path=\"url(#pd6d20d3ae4)\" style=\"fill: none; stroke: #000000; stroke-linecap: round\"/>\n   </g>\n   <g id=\"line2d_20\">\n    <path d=\"M 343.099375 210.297273 \nL 343.099375 218.912727 \n\" clip-path=\"url(#pd6d20d3ae4)\" style=\"fill: none; stroke: #000000; stroke-linecap: round\"/>\n   </g>\n   <g id=\"line2d_21\">\n    <path d=\"M 343.099375 117.294545 \nL 343.099375 81.065455 \n\" clip-path=\"url(#pd6d20d3ae4)\" style=\"fill: none; stroke: #000000; stroke-linecap: round\"/>\n   </g>\n   <g id=\"line2d_22\">\n    <path d=\"M 332.659375 218.912727 \nL 353.539375 218.912727 \n\" clip-path=\"url(#pd6d20d3ae4)\" style=\"fill: none; stroke: #000000; stroke-linecap: round\"/>\n   </g>\n   <g id=\"line2d_23\">\n    <path d=\"M 332.659375 81.065455 \nL 353.539375 81.065455 \n\" clip-path=\"url(#pd6d20d3ae4)\" style=\"fill: none; stroke: #000000; stroke-linecap: round\"/>\n   </g>\n   <g id=\"line2d_24\"/>\n   <g id=\"line2d_25\">\n    <path d=\"M 405.739375 152.64 \nL 447.499375 152.64 \nL 447.499375 81.065455 \nL 405.739375 81.065455 \nL 405.739375 152.64 \n\" clip-path=\"url(#pd6d20d3ae4)\" style=\"fill: none; stroke: #000000; stroke-linecap: round\"/>\n   </g>\n   <g id=\"line2d_26\">\n    <path d=\"M 426.619375 152.64 \nL 426.619375 218.912727 \n\" clip-path=\"url(#pd6d20d3ae4)\" style=\"fill: none; stroke: #000000; stroke-linecap: round\"/>\n   </g>\n   <g id=\"line2d_27\">\n    <path d=\"M 426.619375 81.065455 \nL 426.619375 46.603636 \n\" clip-path=\"url(#pd6d20d3ae4)\" style=\"fill: none; stroke: #000000; stroke-linecap: round\"/>\n   </g>\n   <g id=\"line2d_28\">\n    <path d=\"M 416.179375 218.912727 \nL 437.059375 218.912727 \n\" clip-path=\"url(#pd6d20d3ae4)\" style=\"fill: none; stroke: #000000; stroke-linecap: round\"/>\n   </g>\n   <g id=\"line2d_29\">\n    <path d=\"M 416.179375 46.603636 \nL 437.059375 46.603636 \n\" clip-path=\"url(#pd6d20d3ae4)\" style=\"fill: none; stroke: #000000; stroke-linecap: round\"/>\n   </g>\n   <g id=\"line2d_30\"/>\n   <g id=\"line2d_31\">\n    <path d=\"M 489.259375 244.759091 \nL 531.019375 244.759091 \nL 531.019375 134.083636 \nL 489.259375 134.083636 \nL 489.259375 244.759091 \n\" clip-path=\"url(#pd6d20d3ae4)\" style=\"fill: none; stroke: #000000; stroke-linecap: round\"/>\n   </g>\n   <g id=\"line2d_32\">\n    <path d=\"M 510.139375 244.759091 \nL 510.139375 258.676364 \n\" clip-path=\"url(#pd6d20d3ae4)\" style=\"fill: none; stroke: #000000; stroke-linecap: round\"/>\n   </g>\n   <g id=\"line2d_33\">\n    <path d=\"M 510.139375 134.083636 \nL 510.139375 81.065455 \n\" clip-path=\"url(#pd6d20d3ae4)\" style=\"fill: none; stroke: #000000; stroke-linecap: round\"/>\n   </g>\n   <g id=\"line2d_34\">\n    <path d=\"M 499.699375 258.676364 \nL 520.579375 258.676364 \n\" clip-path=\"url(#pd6d20d3ae4)\" style=\"fill: none; stroke: #000000; stroke-linecap: round\"/>\n   </g>\n   <g id=\"line2d_35\">\n    <path d=\"M 499.699375 81.065455 \nL 520.579375 81.065455 \n\" clip-path=\"url(#pd6d20d3ae4)\" style=\"fill: none; stroke: #000000; stroke-linecap: round\"/>\n   </g>\n   <g id=\"line2d_36\"/>\n   <g id=\"line2d_37\">\n    <path d=\"M 71.659375 98.738182 \nL 113.419375 98.738182 \n\" clip-path=\"url(#pd6d20d3ae4)\" style=\"fill: none; stroke: #fc4f30; stroke-linecap: round\"/>\n   </g>\n   <g id=\"line2d_38\">\n    <path d=\"M 155.179375 115.527273 \nL 196.939375 115.527273 \n\" clip-path=\"url(#pd6d20d3ae4)\" style=\"fill: none; stroke: #fc4f30; stroke-linecap: round\"/>\n   </g>\n   <g id=\"line2d_39\">\n    <path d=\"M 238.699375 149.989091 \nL 280.459375 149.989091 \n\" clip-path=\"url(#pd6d20d3ae4)\" style=\"fill: none; stroke: #fc4f30; stroke-linecap: round\"/>\n   </g>\n   <g id=\"line2d_40\">\n    <path d=\"M 322.219375 167.22 \nL 363.979375 167.22 \n\" clip-path=\"url(#pd6d20d3ae4)\" style=\"fill: none; stroke: #fc4f30; stroke-linecap: round\"/>\n   </g>\n   <g id=\"line2d_41\">\n    <path d=\"M 405.739375 149.989091 \nL 447.499375 149.989091 \n\" clip-path=\"url(#pd6d20d3ae4)\" style=\"fill: none; stroke: #fc4f30; stroke-linecap: round\"/>\n   </g>\n   <g id=\"line2d_42\">\n    <path d=\"M 489.259375 184.450909 \nL 531.019375 184.450909 \n\" clip-path=\"url(#pd6d20d3ae4)\" style=\"fill: none; stroke: #fc4f30; stroke-linecap: round\"/>\n   </g>\n   <g id=\"patch_3\">\n    <path d=\"M 50.779375 269.28 \nL 50.779375 36 \n\" style=\"fill: none; stroke: #262626; stroke-width: 3; stroke-linejoin: miter; stroke-linecap: square\"/>\n   </g>\n   <g id=\"patch_4\">\n    <path d=\"M 551.899375 269.28 \nL 551.899375 36 \n\" style=\"fill: none; stroke: #262626; stroke-width: 3; stroke-linejoin: miter; stroke-linecap: square\"/>\n   </g>\n   <g id=\"patch_5\">\n    <path d=\"M 50.779375 269.28 \nL 551.899375 269.28 \n\" style=\"fill: none; stroke: #262626; stroke-width: 3; stroke-linejoin: miter; stroke-linecap: square\"/>\n   </g>\n   <g id=\"patch_6\">\n    <path d=\"M 50.779375 36 \nL 551.899375 36 \n\" style=\"fill: none; stroke: #262626; stroke-width: 3; stroke-linejoin: miter; stroke-linecap: square\"/>\n   </g>\n  </g>\n  <g id=\"text_14\">\n   <!-- Algorithm Comparison -->\n   <g style=\"fill: #262626\" transform=\"translate(198.598375 19.965375) scale(0.168 -0.168)\">\n    <defs>\n     <path id=\"DejaVuSans-6c\" d=\"M 603 4863 \nL 1178 4863 \nL 1178 0 \nL 603 0 \nL 603 4863 \nz\n\" transform=\"scale(0.015625)\"/>\n     <path id=\"DejaVuSans-67\" d=\"M 2906 1791 \nQ 2906 2416 2648 2759 \nQ 2391 3103 1925 3103 \nQ 1463 3103 1205 2759 \nQ 947 2416 947 1791 \nQ 947 1169 1205 825 \nQ 1463 481 1925 481 \nQ 2391 481 2648 825 \nQ 2906 1169 2906 1791 \nz\nM 3481 434 \nQ 3481 -459 3084 -895 \nQ 2688 -1331 1869 -1331 \nQ 1566 -1331 1297 -1286 \nQ 1028 -1241 775 -1147 \nL 775 -588 \nQ 1028 -725 1275 -790 \nQ 1522 -856 1778 -856 \nQ 2344 -856 2625 -561 \nQ 2906 -266 2906 331 \nL 2906 616 \nQ 2728 306 2450 153 \nQ 2172 0 1784 0 \nQ 1141 0 747 490 \nQ 353 981 353 1791 \nQ 353 2603 747 3093 \nQ 1141 3584 1784 3584 \nQ 2172 3584 2450 3431 \nQ 2728 3278 2906 2969 \nL 2906 3500 \nL 3481 3500 \nL 3481 434 \nz\n\" transform=\"scale(0.015625)\"/>\n     <path id=\"DejaVuSans-6f\" d=\"M 1959 3097 \nQ 1497 3097 1228 2736 \nQ 959 2375 959 1747 \nQ 959 1119 1226 758 \nQ 1494 397 1959 397 \nQ 2419 397 2687 759 \nQ 2956 1122 2956 1747 \nQ 2956 2369 2687 2733 \nQ 2419 3097 1959 3097 \nz\nM 1959 3584 \nQ 2709 3584 3137 3096 \nQ 3566 2609 3566 1747 \nQ 3566 888 3137 398 \nQ 2709 -91 1959 -91 \nQ 1206 -91 779 398 \nQ 353 888 353 1747 \nQ 353 2609 779 3096 \nQ 1206 3584 1959 3584 \nz\n\" transform=\"scale(0.015625)\"/>\n     <path id=\"DejaVuSans-72\" d=\"M 2631 2963 \nQ 2534 3019 2420 3045 \nQ 2306 3072 2169 3072 \nQ 1681 3072 1420 2755 \nQ 1159 2438 1159 1844 \nL 1159 0 \nL 581 0 \nL 581 3500 \nL 1159 3500 \nL 1159 2956 \nQ 1341 3275 1631 3429 \nQ 1922 3584 2338 3584 \nQ 2397 3584 2469 3576 \nQ 2541 3569 2628 3553 \nL 2631 2963 \nz\n\" transform=\"scale(0.015625)\"/>\n     <path id=\"DejaVuSans-69\" d=\"M 603 3500 \nL 1178 3500 \nL 1178 0 \nL 603 0 \nL 603 3500 \nz\nM 603 4863 \nL 1178 4863 \nL 1178 4134 \nL 603 4134 \nL 603 4863 \nz\n\" transform=\"scale(0.015625)\"/>\n     <path id=\"DejaVuSans-74\" d=\"M 1172 4494 \nL 1172 3500 \nL 2356 3500 \nL 2356 3053 \nL 1172 3053 \nL 1172 1153 \nQ 1172 725 1289 603 \nQ 1406 481 1766 481 \nL 2356 481 \nL 2356 0 \nL 1766 0 \nQ 1100 0 847 248 \nQ 594 497 594 1153 \nL 594 3053 \nL 172 3053 \nL 172 3500 \nL 594 3500 \nL 594 4494 \nL 1172 4494 \nz\n\" transform=\"scale(0.015625)\"/>\n     <path id=\"DejaVuSans-68\" d=\"M 3513 2113 \nL 3513 0 \nL 2938 0 \nL 2938 2094 \nQ 2938 2591 2744 2837 \nQ 2550 3084 2163 3084 \nQ 1697 3084 1428 2787 \nQ 1159 2491 1159 1978 \nL 1159 0 \nL 581 0 \nL 581 4863 \nL 1159 4863 \nL 1159 2956 \nQ 1366 3272 1645 3428 \nQ 1925 3584 2291 3584 \nQ 2894 3584 3203 3211 \nQ 3513 2838 3513 2113 \nz\n\" transform=\"scale(0.015625)\"/>\n     <path id=\"DejaVuSans-6d\" d=\"M 3328 2828 \nQ 3544 3216 3844 3400 \nQ 4144 3584 4550 3584 \nQ 5097 3584 5394 3201 \nQ 5691 2819 5691 2113 \nL 5691 0 \nL 5113 0 \nL 5113 2094 \nQ 5113 2597 4934 2840 \nQ 4756 3084 4391 3084 \nQ 3944 3084 3684 2787 \nQ 3425 2491 3425 1978 \nL 3425 0 \nL 2847 0 \nL 2847 2094 \nQ 2847 2600 2669 2842 \nQ 2491 3084 2119 3084 \nQ 1678 3084 1418 2786 \nQ 1159 2488 1159 1978 \nL 1159 0 \nL 581 0 \nL 581 3500 \nL 1159 3500 \nL 1159 2956 \nQ 1356 3278 1631 3431 \nQ 1906 3584 2284 3584 \nQ 2666 3584 2933 3390 \nQ 3200 3197 3328 2828 \nz\n\" transform=\"scale(0.015625)\"/>\n     <path id=\"DejaVuSans-20\" transform=\"scale(0.015625)\"/>\n     <path id=\"DejaVuSans-70\" d=\"M 1159 525 \nL 1159 -1331 \nL 581 -1331 \nL 581 3500 \nL 1159 3500 \nL 1159 2969 \nQ 1341 3281 1617 3432 \nQ 1894 3584 2278 3584 \nQ 2916 3584 3314 3078 \nQ 3713 2572 3713 1747 \nQ 3713 922 3314 415 \nQ 2916 -91 2278 -91 \nQ 1894 -91 1617 61 \nQ 1341 213 1159 525 \nz\nM 3116 1747 \nQ 3116 2381 2855 2742 \nQ 2594 3103 2138 3103 \nQ 1681 3103 1420 2742 \nQ 1159 2381 1159 1747 \nQ 1159 1113 1420 752 \nQ 1681 391 2138 391 \nQ 2594 391 2855 752 \nQ 3116 1113 3116 1747 \nz\n\" transform=\"scale(0.015625)\"/>\n     <path id=\"DejaVuSans-61\" d=\"M 2194 1759 \nQ 1497 1759 1228 1600 \nQ 959 1441 959 1056 \nQ 959 750 1161 570 \nQ 1363 391 1709 391 \nQ 2188 391 2477 730 \nQ 2766 1069 2766 1631 \nL 2766 1759 \nL 2194 1759 \nz\nM 3341 1997 \nL 3341 0 \nL 2766 0 \nL 2766 531 \nQ 2569 213 2275 61 \nQ 1981 -91 1556 -91 \nQ 1019 -91 701 211 \nQ 384 513 384 1019 \nQ 384 1609 779 1909 \nQ 1175 2209 1959 2209 \nL 2766 2209 \nL 2766 2266 \nQ 2766 2663 2505 2880 \nQ 2244 3097 1772 3097 \nQ 1472 3097 1187 3025 \nQ 903 2953 641 2809 \nL 641 3341 \nQ 956 3463 1253 3523 \nQ 1550 3584 1831 3584 \nQ 2591 3584 2966 3190 \nQ 3341 2797 3341 1997 \nz\n\" transform=\"scale(0.015625)\"/>\n     <path id=\"DejaVuSans-73\" d=\"M 2834 3397 \nL 2834 2853 \nQ 2591 2978 2328 3040 \nQ 2066 3103 1784 3103 \nQ 1356 3103 1142 2972 \nQ 928 2841 928 2578 \nQ 928 2378 1081 2264 \nQ 1234 2150 1697 2047 \nL 1894 2003 \nQ 2506 1872 2764 1633 \nQ 3022 1394 3022 966 \nQ 3022 478 2636 193 \nQ 2250 -91 1575 -91 \nQ 1294 -91 989 -36 \nQ 684 19 347 128 \nL 347 722 \nQ 666 556 975 473 \nQ 1284 391 1588 391 \nQ 1994 391 2212 530 \nQ 2431 669 2431 922 \nQ 2431 1156 2273 1281 \nQ 2116 1406 1581 1522 \nL 1381 1569 \nQ 847 1681 609 1914 \nQ 372 2147 372 2553 \nQ 372 3047 722 3315 \nQ 1072 3584 1716 3584 \nQ 2034 3584 2315 3537 \nQ 2597 3491 2834 3397 \nz\n\" transform=\"scale(0.015625)\"/>\n     <path id=\"DejaVuSans-6e\" d=\"M 3513 2113 \nL 3513 0 \nL 2938 0 \nL 2938 2094 \nQ 2938 2591 2744 2837 \nQ 2550 3084 2163 3084 \nQ 1697 3084 1428 2787 \nQ 1159 2491 1159 1978 \nL 1159 0 \nL 581 0 \nL 581 3500 \nL 1159 3500 \nL 1159 2956 \nQ 1366 3272 1645 3428 \nQ 1925 3584 2291 3584 \nQ 2894 3584 3203 3211 \nQ 3513 2838 3513 2113 \nz\n\" transform=\"scale(0.015625)\"/>\n    </defs>\n    <use xlink:href=\"#DejaVuSans-41\"/>\n    <use xlink:href=\"#DejaVuSans-6c\" x=\"68.408203\"/>\n    <use xlink:href=\"#DejaVuSans-67\" x=\"96.191406\"/>\n    <use xlink:href=\"#DejaVuSans-6f\" x=\"159.667969\"/>\n    <use xlink:href=\"#DejaVuSans-72\" x=\"220.849609\"/>\n    <use xlink:href=\"#DejaVuSans-69\" x=\"261.962891\"/>\n    <use xlink:href=\"#DejaVuSans-74\" x=\"289.746094\"/>\n    <use xlink:href=\"#DejaVuSans-68\" x=\"328.955078\"/>\n    <use xlink:href=\"#DejaVuSans-6d\" x=\"392.333984\"/>\n    <use xlink:href=\"#DejaVuSans-20\" x=\"489.746094\"/>\n    <use xlink:href=\"#DejaVuSans-43\" x=\"521.533203\"/>\n    <use xlink:href=\"#DejaVuSans-6f\" x=\"591.357422\"/>\n    <use xlink:href=\"#DejaVuSans-6d\" x=\"652.539062\"/>\n    <use xlink:href=\"#DejaVuSans-70\" x=\"749.951172\"/>\n    <use xlink:href=\"#DejaVuSans-61\" x=\"813.427734\"/>\n    <use xlink:href=\"#DejaVuSans-72\" x=\"874.707031\"/>\n    <use xlink:href=\"#DejaVuSans-69\" x=\"915.820312\"/>\n    <use xlink:href=\"#DejaVuSans-73\" x=\"943.603516\"/>\n    <use xlink:href=\"#DejaVuSans-6f\" x=\"995.703125\"/>\n    <use xlink:href=\"#DejaVuSans-6e\" x=\"1056.884766\"/>\n   </g>\n  </g>\n </g>\n <defs>\n  <clipPath id=\"pd6d20d3ae4\">\n   <rect x=\"50.779375\" y=\"36\" width=\"501.12\" height=\"233.28\"/>\n  </clipPath>\n </defs>\n</svg>\n",
      "image/png": "[encoded data removed]"
     },
     "metadata": {}
    }
   ],
   "source": [
    "# Compare Algorithms\n",
    "fig = plt.figure()\n",
    "fig.suptitle('Algorithm Comparison')\n",
    "ax = fig.add_subplot(111)\n",
    "plt.boxplot(results)\n",
    "ax.set_xticklabels(names)\n",
    "plt.savefig(\"outputs/nb6/compare_algorithm.jpeg\")\n",
    "plt.show()"
   ]
  },
  {
   "cell_type": "markdown",
   "metadata": {},
   "source": [
    "#### Observation\n",
    "> The results show a similar tight distribution for all classifiers except SVM which is encouraging, suggesting low variance. The poor results for SVM are surprising.\n",
    "\n",
    "> It is possible the varied distribution of the attributes may have an effect on the accuracy of algorithms such as SVM. In the next section we will repeat this spot-check with a standardized copy of the training dataset.\n",
    "\n",
    "\n",
    "### 2.1 Evaluate Algorithms: Standardize Data"
   ]
  },
  {
   "cell_type": "code",
   "execution_count": 35,
   "metadata": {
    "tags": []
   },
   "outputs": [
    {
     "output_type": "stream",
     "name": "stdout",
     "text": "ScaledLR: 0.974936 (0.015813)\nScaledLDA: 0.954744 (0.018784)\nScaledKNN: 0.957372 (0.033665)\nScaledCART: 0.922308 (0.045196)\nScaledNB: 0.937115 (0.039261)\n3:80: E501 line too long (102 > 79 characters)\n4:80: E501 line too long (112 > 79 characters)\n5:80: E501 line too long (106 > 79 characters)\n6:80: E501 line too long (110 > 79 characters)\n7:80: E501 line too long (94 > 79 characters)\n8:80: E501 line too long (89 > 79 characters)\nScaledSVM: 0.967436 (0.027483)\n"
    }
   ],
   "source": [
    "# Standardize the dataset\n",
    "pipelines = []\n",
    "pipelines.append(('ScaledLR', Pipeline([('Scaler', StandardScaler()), ('LR', LogisticRegression())])))\n",
    "pipelines.append(('ScaledLDA', Pipeline([('Scaler', StandardScaler()), ('LDA', LinearDiscriminantAnalysis())])))\n",
    "pipelines.append(('ScaledKNN', Pipeline([('Scaler', StandardScaler()), ('KNN', KNeighborsClassifier())])))\n",
    "pipelines.append(('ScaledCART', Pipeline([('Scaler', StandardScaler()), ('CART', DecisionTreeClassifier())])))\n",
    "pipelines.append(('ScaledNB', Pipeline([('Scaler', StandardScaler()), ('NB', GaussianNB())])))\n",
    "pipelines.append(('ScaledSVM', Pipeline([('Scaler', StandardScaler()), ('SVM', SVC())])))\n",
    "\n",
    "results = []\n",
    "names = []\n",
    "\n",
    "for name, model in pipelines:\n",
    "    kfold = KFold(n_splits=num_folds, random_state=seed, shuffle=True)\n",
    "    cv_results = cross_val_score(model, X_train, y_train, cv=kfold,\n",
    "                                 scoring=scoring)\n",
    "    results.append(cv_results)\n",
    "    names.append(name)\n",
    "    msg = \"%s: %f (%f)\" % (name, cv_results.mean(), cv_results.std())\n",
    "    print(msg)"
   ]
  },
  {
   "cell_type": "code",
   "execution_count": 36,
   "metadata": {
    "tags": []
   },
   "outputs": [
    {
     "output_type": "display_data",
     "data": {
      "text/plain": "<Figure size 800x400 with 1 Axes>",
      "image/svg+xml": "<?xml version=\"1.0\" encoding=\"utf-8\" standalone=\"no\"?>\n<!DOCTYPE svg PUBLIC \"-//W3C//DTD SVG 1.1//EN\"\n  \"http://www.w3.org/Graphics/SVG/1.1/DTD/svg11.dtd\">\n<svg xmlns:xlink=\"http://www.w3.org/1999/xlink\" width=\"559.099375pt\" height=\"293.529375pt\" viewBox=\"0 0 559.099375 293.529375\" xmlns=\"http://www.w3.org/2000/svg\" version=\"1.1\">\n <metadata>\n  <rdf:RDF xmlns:dc=\"http://purl.org/dc/elements/1.1/\" xmlns:cc=\"http://creativecommons.org/ns#\" xmlns:rdf=\"http://www.w3.org/1999/02/22-rdf-syntax-ns#\">\n   <cc:Work>\n    <dc:type rdf:resource=\"http://purl.org/dc/dcmitype/StillImage\"/>\n    <dc:date>2023-06-06T13:55:51.394630</dc:date>\n    <dc:format>image/svg+xml</dc:format>\n    <dc:creator>\n     <cc:Agent>\n      <dc:title>Matplotlib v3.6.3, https://matplotlib.org/</dc:title>\n     </cc:Agent>\n    </dc:creator>\n   </cc:Work>\n  </rdf:RDF>\n </metadata>\n <defs>\n  <style type=\"text/css\">*{stroke-linejoin: round; stroke-linecap: butt}</style>\n </defs>\n <g id=\"figure_1\">\n  <g id=\"patch_1\">\n   <path d=\"M 0 293.529375 \nL 559.099375 293.529375 \nL 559.099375 0 \nL 0 0 \nz\n\" style=\"fill: #ffffff\"/>\n  </g>\n  <g id=\"axes_1\">\n   <g id=\"patch_2\">\n    <path d=\"M 50.779375 269.28 \nL 551.899375 269.28 \nL 551.899375 36 \nL 50.779375 36 \nz\n\" style=\"fill: #ffffff\"/>\n   </g>\n   <g id=\"matplotlib.axis_1\">\n    <g id=\"xtick_1\">\n     <g id=\"text_1\">\n      <!-- ScaledLR -->\n      <g style=\"fill: #262626\" transform=\"translate(60.496875 283.417812) scale(0.14 -0.14)\">\n       <defs>\n        <path id=\"DejaVuSans-53\" d=\"M 3425 4513 \nL 3425 3897 \nQ 3066 4069 2747 4153 \nQ 2428 4238 2131 4238 \nQ 1616 4238 1336 4038 \nQ 1056 3838 1056 3469 \nQ 1056 3159 1242 3001 \nQ 1428 2844 1947 2747 \nL 2328 2669 \nQ 3034 2534 3370 2195 \nQ 3706 1856 3706 1288 \nQ 3706 609 3251 259 \nQ 2797 -91 1919 -91 \nQ 1588 -91 1214 -16 \nQ 841 59 441 206 \nL 441 856 \nQ 825 641 1194 531 \nQ 1563 422 1919 422 \nQ 2459 422 2753 634 \nQ 3047 847 3047 1241 \nQ 3047 1584 2836 1778 \nQ 2625 1972 2144 2069 \nL 1759 2144 \nQ 1053 2284 737 2584 \nQ 422 2884 422 3419 \nQ 422 4038 858 4394 \nQ 1294 4750 2059 4750 \nQ 2388 4750 2728 4690 \nQ 3069 4631 3425 4513 \nz\n\" transform=\"scale(0.015625)\"/>\n        <path id=\"DejaVuSans-63\" d=\"M 3122 3366 \nL 3122 2828 \nQ 2878 2963 2633 3030 \nQ 2388 3097 2138 3097 \nQ 1578 3097 1268 2742 \nQ 959 2388 959 1747 \nQ 959 1106 1268 751 \nQ 1578 397 2138 397 \nQ 2388 397 2633 464 \nQ 2878 531 3122 666 \nL 3122 134 \nQ 2881 22 2623 -34 \nQ 2366 -91 2075 -91 \nQ 1284 -91 818 406 \nQ 353 903 353 1747 \nQ 353 2603 823 3093 \nQ 1294 3584 2113 3584 \nQ 2378 3584 2631 3529 \nQ 2884 3475 3122 3366 \nz\n\" transform=\"scale(0.015625)\"/>\n        <path id=\"DejaVuSans-61\" d=\"M 2194 1759 \nQ 1497 1759 1228 1600 \nQ 959 1441 959 1056 \nQ 959 750 1161 570 \nQ 1363 391 1709 391 \nQ 2188 391 2477 730 \nQ 2766 1069 2766 1631 \nL 2766 1759 \nL 2194 1759 \nz\nM 3341 1997 \nL 3341 0 \nL 2766 0 \nL 2766 531 \nQ 2569 213 2275 61 \nQ 1981 -91 1556 -91 \nQ 1019 -91 701 211 \nQ 384 513 384 1019 \nQ 384 1609 779 1909 \nQ 1175 2209 1959 2209 \nL 2766 2209 \nL 2766 2266 \nQ 2766 2663 2505 2880 \nQ 2244 3097 1772 3097 \nQ 1472 3097 1187 3025 \nQ 903 2953 641 2809 \nL 641 3341 \nQ 956 3463 1253 3523 \nQ 1550 3584 1831 3584 \nQ 2591 3584 2966 3190 \nQ 3341 2797 3341 1997 \nz\n\" transform=\"scale(0.015625)\"/>\n        <path id=\"DejaVuSans-6c\" d=\"M 603 4863 \nL 1178 4863 \nL 1178 0 \nL 603 0 \nL 603 4863 \nz\n\" transform=\"scale(0.015625)\"/>\n        <path id=\"DejaVuSans-65\" d=\"M 3597 1894 \nL 3597 1613 \nL 953 1613 \nQ 991 1019 1311 708 \nQ 1631 397 2203 397 \nQ 2534 397 2845 478 \nQ 3156 559 3463 722 \nL 3463 178 \nQ 3153 47 2828 -22 \nQ 2503 -91 2169 -91 \nQ 1331 -91 842 396 \nQ 353 884 353 1716 \nQ 353 2575 817 3079 \nQ 1281 3584 2069 3584 \nQ 2775 3584 3186 3129 \nQ 3597 2675 3597 1894 \nz\nM 3022 2063 \nQ 3016 2534 2758 2815 \nQ 2500 3097 2075 3097 \nQ 1594 3097 1305 2825 \nQ 1016 2553 972 2059 \nL 3022 2063 \nz\n\" transform=\"scale(0.015625)\"/>\n        <path id=\"DejaVuSans-64\" d=\"M 2906 2969 \nL 2906 4863 \nL 3481 4863 \nL 3481 0 \nL 2906 0 \nL 2906 525 \nQ 2725 213 2448 61 \nQ 2172 -91 1784 -91 \nQ 1150 -91 751 415 \nQ 353 922 353 1747 \nQ 353 2572 751 3078 \nQ 1150 3584 1784 3584 \nQ 2172 3584 2448 3432 \nQ 2725 3281 2906 2969 \nz\nM 947 1747 \nQ 947 1113 1208 752 \nQ 1469 391 1925 391 \nQ 2381 391 2643 752 \nQ 2906 1113 2906 1747 \nQ 2906 2381 2643 2742 \nQ 2381 3103 1925 3103 \nQ 1469 3103 1208 2742 \nQ 947 2381 947 1747 \nz\n\" transform=\"scale(0.015625)\"/>\n        <path id=\"DejaVuSans-4c\" d=\"M 628 4666 \nL 1259 4666 \nL 1259 531 \nL 3531 531 \nL 3531 0 \nL 628 0 \nL 628 4666 \nz\n\" transform=\"scale(0.015625)\"/>\n        <path id=\"DejaVuSans-52\" d=\"M 2841 2188 \nQ 3044 2119 3236 1894 \nQ 3428 1669 3622 1275 \nL 4263 0 \nL 3584 0 \nL 2988 1197 \nQ 2756 1666 2539 1819 \nQ 2322 1972 1947 1972 \nL 1259 1972 \nL 1259 0 \nL 628 0 \nL 628 4666 \nL 2053 4666 \nQ 2853 4666 3247 4331 \nQ 3641 3997 3641 3322 \nQ 3641 2881 3436 2590 \nQ 3231 2300 2841 2188 \nz\nM 1259 4147 \nL 1259 2491 \nL 2053 2491 \nQ 2509 2491 2742 2702 \nQ 2975 2913 2975 3322 \nQ 2975 3731 2742 3939 \nQ 2509 4147 2053 4147 \nL 1259 4147 \nz\n\" transform=\"scale(0.015625)\"/>\n       </defs>\n       <use xlink:href=\"#DejaVuSans-53\"/>\n       <use xlink:href=\"#DejaVuSans-63\" x=\"63.476562\"/>\n       <use xlink:href=\"#DejaVuSans-61\" x=\"118.457031\"/>\n       <use xlink:href=\"#DejaVuSans-6c\" x=\"179.736328\"/>\n       <use xlink:href=\"#DejaVuSans-65\" x=\"207.519531\"/>\n       <use xlink:href=\"#DejaVuSans-64\" x=\"269.042969\"/>\n       <use xlink:href=\"#DejaVuSans-4c\" x=\"332.519531\"/>\n       <use xlink:href=\"#DejaVuSans-52\" x=\"388.232422\"/>\n      </g>\n     </g>\n    </g>\n    <g id=\"xtick_2\">\n     <g id=\"text_2\">\n      <!-- ScaledLDA -->\n      <g style=\"fill: #262626\" transform=\"translate(138.824844 283.417812) scale(0.14 -0.14)\">\n       <defs>\n        <path id=\"DejaVuSans-44\" d=\"M 1259 4147 \nL 1259 519 \nL 2022 519 \nQ 2988 519 3436 956 \nQ 3884 1394 3884 2338 \nQ 3884 3275 3436 3711 \nQ 2988 4147 2022 4147 \nL 1259 4147 \nz\nM 628 4666 \nL 1925 4666 \nQ 3281 4666 3915 4102 \nQ 4550 3538 4550 2338 \nQ 4550 1131 3912 565 \nQ 3275 0 1925 0 \nL 628 0 \nL 628 4666 \nz\n\" transform=\"scale(0.015625)\"/>\n        <path id=\"DejaVuSans-41\" d=\"M 2188 4044 \nL 1331 1722 \nL 3047 1722 \nL 2188 4044 \nz\nM 1831 4666 \nL 2547 4666 \nL 4325 0 \nL 3669 0 \nL 3244 1197 \nL 1141 1197 \nL 716 0 \nL 50 0 \nL 1831 4666 \nz\n\" transform=\"scale(0.015625)\"/>\n       </defs>\n       <use xlink:href=\"#DejaVuSans-53\"/>\n       <use xlink:href=\"#DejaVuSans-63\" x=\"63.476562\"/>\n       <use xlink:href=\"#DejaVuSans-61\" x=\"118.457031\"/>\n       <use xlink:href=\"#DejaVuSans-6c\" x=\"179.736328\"/>\n       <use xlink:href=\"#DejaVuSans-65\" x=\"207.519531\"/>\n       <use xlink:href=\"#DejaVuSans-64\" x=\"269.042969\"/>\n       <use xlink:href=\"#DejaVuSans-4c\" x=\"332.519531\"/>\n       <use xlink:href=\"#DejaVuSans-44\" x=\"388.232422\"/>\n       <use xlink:href=\"#DejaVuSans-41\" x=\"463.484375\"/>\n      </g>\n     </g>\n    </g>\n    <g id=\"xtick_3\">\n     <g id=\"text_3\">\n      <!-- ScaledKNN -->\n      <g style=\"fill: #262626\" transform=\"translate(221.236875 283.417812) scale(0.14 -0.14)\">\n       <defs>\n        <path id=\"DejaVuSans-4b\" d=\"M 628 4666 \nL 1259 4666 \nL 1259 2694 \nL 3353 4666 \nL 4166 4666 \nL 1850 2491 \nL 4331 0 \nL 3500 0 \nL 1259 2247 \nL 1259 0 \nL 628 0 \nL 628 4666 \nz\n\" transform=\"scale(0.015625)\"/>\n        <path id=\"DejaVuSans-4e\" d=\"M 628 4666 \nL 1478 4666 \nL 3547 763 \nL 3547 4666 \nL 4159 4666 \nL 4159 0 \nL 3309 0 \nL 1241 3903 \nL 1241 0 \nL 628 0 \nL 628 4666 \nz\n\" transform=\"scale(0.015625)\"/>\n       </defs>\n       <use xlink:href=\"#DejaVuSans-53\"/>\n       <use xlink:href=\"#DejaVuSans-63\" x=\"63.476562\"/>\n       <use xlink:href=\"#DejaVuSans-61\" x=\"118.457031\"/>\n       <use xlink:href=\"#DejaVuSans-6c\" x=\"179.736328\"/>\n       <use xlink:href=\"#DejaVuSans-65\" x=\"207.519531\"/>\n       <use xlink:href=\"#DejaVuSans-64\" x=\"269.042969\"/>\n       <use xlink:href=\"#DejaVuSans-4b\" x=\"332.519531\"/>\n       <use xlink:href=\"#DejaVuSans-4e\" x=\"398.095703\"/>\n       <use xlink:href=\"#DejaVuSans-4e\" x=\"472.900391\"/>\n      </g>\n     </g>\n    </g>\n    <g id=\"xtick_4\">\n     <g id=\"text_4\">\n      <!-- ScaledCART -->\n      <g style=\"fill: #262626\" transform=\"translate(301.512812 283.417812) scale(0.14 -0.14)\">\n       <defs>\n        <path id=\"DejaVuSans-43\" d=\"M 4122 4306 \nL 4122 3641 \nQ 3803 3938 3442 4084 \nQ 3081 4231 2675 4231 \nQ 1875 4231 1450 3742 \nQ 1025 3253 1025 2328 \nQ 1025 1406 1450 917 \nQ 1875 428 2675 428 \nQ 3081 428 3442 575 \nQ 3803 722 4122 1019 \nL 4122 359 \nQ 3791 134 3420 21 \nQ 3050 -91 2638 -91 \nQ 1578 -91 968 557 \nQ 359 1206 359 2328 \nQ 359 3453 968 4101 \nQ 1578 4750 2638 4750 \nQ 3056 4750 3426 4639 \nQ 3797 4528 4122 4306 \nz\n\" transform=\"scale(0.015625)\"/>\n        <path id=\"DejaVuSans-54\" d=\"M -19 4666 \nL 3928 4666 \nL 3928 4134 \nL 2272 4134 \nL 2272 0 \nL 1638 0 \nL 1638 4134 \nL -19 4134 \nL -19 4666 \nz\n\" transform=\"scale(0.015625)\"/>\n       </defs>\n       <use xlink:href=\"#DejaVuSans-53\"/>\n       <use xlink:href=\"#DejaVuSans-63\" x=\"63.476562\"/>\n       <use xlink:href=\"#DejaVuSans-61\" x=\"118.457031\"/>\n       <use xlink:href=\"#DejaVuSans-6c\" x=\"179.736328\"/>\n       <use xlink:href=\"#DejaVuSans-65\" x=\"207.519531\"/>\n       <use xlink:href=\"#DejaVuSans-64\" x=\"269.042969\"/>\n       <use xlink:href=\"#DejaVuSans-43\" x=\"332.519531\"/>\n       <use xlink:href=\"#DejaVuSans-41\" x=\"402.34375\"/>\n       <use xlink:href=\"#DejaVuSans-52\" x=\"470.751953\"/>\n       <use xlink:href=\"#DejaVuSans-54\" x=\"532.984375\"/>\n      </g>\n     </g>\n    </g>\n    <g id=\"xtick_5\">\n     <g id=\"text_5\">\n      <!-- ScaledNB -->\n      <g style=\"fill: #262626\" transform=\"translate(393.301562 283.417812) scale(0.14 -0.14)\">\n       <defs>\n        <path id=\"DejaVuSans-42\" d=\"M 1259 2228 \nL 1259 519 \nL 2272 519 \nQ 2781 519 3026 730 \nQ 3272 941 3272 1375 \nQ 3272 1813 3026 2020 \nQ 2781 2228 2272 2228 \nL 1259 2228 \nz\nM 1259 4147 \nL 1259 2741 \nL 2194 2741 \nQ 2656 2741 2882 2914 \nQ 3109 3088 3109 3444 \nQ 3109 3797 2882 3972 \nQ 2656 4147 2194 4147 \nL 1259 4147 \nz\nM 628 4666 \nL 2241 4666 \nQ 2963 4666 3353 4366 \nQ 3744 4066 3744 3513 \nQ 3744 3084 3544 2831 \nQ 3344 2578 2956 2516 \nQ 3422 2416 3680 2098 \nQ 3938 1781 3938 1306 \nQ 3938 681 3513 340 \nQ 3088 0 2303 0 \nL 628 0 \nL 628 4666 \nz\n\" transform=\"scale(0.015625)\"/>\n       </defs>\n       <use xlink:href=\"#DejaVuSans-53\"/>\n       <use xlink:href=\"#DejaVuSans-63\" x=\"63.476562\"/>\n       <use xlink:href=\"#DejaVuSans-61\" x=\"118.457031\"/>\n       <use xlink:href=\"#DejaVuSans-6c\" x=\"179.736328\"/>\n       <use xlink:href=\"#DejaVuSans-65\" x=\"207.519531\"/>\n       <use xlink:href=\"#DejaVuSans-64\" x=\"269.042969\"/>\n       <use xlink:href=\"#DejaVuSans-4e\" x=\"332.519531\"/>\n       <use xlink:href=\"#DejaVuSans-42\" x=\"407.324219\"/>\n      </g>\n     </g>\n    </g>\n    <g id=\"xtick_6\">\n     <g id=\"text_6\">\n      <!-- ScaledSVM -->\n      <g style=\"fill: #262626\" transform=\"translate(471.589062 283.417812) scale(0.14 -0.14)\">\n       <defs>\n        <path id=\"DejaVuSans-56\" d=\"M 1831 0 \nL 50 4666 \nL 709 4666 \nL 2188 738 \nL 3669 4666 \nL 4325 4666 \nL 2547 0 \nL 1831 0 \nz\n\" transform=\"scale(0.015625)\"/>\n        <path id=\"DejaVuSans-4d\" d=\"M 628 4666 \nL 1569 4666 \nL 2759 1491 \nL 3956 4666 \nL 4897 4666 \nL 4897 0 \nL 4281 0 \nL 4281 4097 \nL 3078 897 \nL 2444 897 \nL 1241 4097 \nL 1241 0 \nL 628 0 \nL 628 4666 \nz\n\" transform=\"scale(0.015625)\"/>\n       </defs>\n       <use xlink:href=\"#DejaVuSans-53\"/>\n       <use xlink:href=\"#DejaVuSans-63\" x=\"63.476562\"/>\n       <use xlink:href=\"#DejaVuSans-61\" x=\"118.457031\"/>\n       <use xlink:href=\"#DejaVuSans-6c\" x=\"179.736328\"/>\n       <use xlink:href=\"#DejaVuSans-65\" x=\"207.519531\"/>\n       <use xlink:href=\"#DejaVuSans-64\" x=\"269.042969\"/>\n       <use xlink:href=\"#DejaVuSans-53\" x=\"332.519531\"/>\n       <use xlink:href=\"#DejaVuSans-56\" x=\"395.996094\"/>\n       <use xlink:href=\"#DejaVuSans-4d\" x=\"464.404297\"/>\n      </g>\n     </g>\n    </g>\n   </g>\n   <g id=\"matplotlib.axis_2\">\n    <g id=\"ytick_1\">\n     <g id=\"text_7\">\n      <!-- 0.825 -->\n      <g style=\"fill: #262626\" transform=\"translate(7.2 263.99527) scale(0.14 -0.14)\">\n       <defs>\n        <path id=\"DejaVuSans-30\" d=\"M 2034 4250 \nQ 1547 4250 1301 3770 \nQ 1056 3291 1056 2328 \nQ 1056 1369 1301 889 \nQ 1547 409 2034 409 \nQ 2525 409 2770 889 \nQ 3016 1369 3016 2328 \nQ 3016 3291 2770 3770 \nQ 2525 4250 2034 4250 \nz\nM 2034 4750 \nQ 2819 4750 3233 4129 \nQ 3647 3509 3647 2328 \nQ 3647 1150 3233 529 \nQ 2819 -91 2034 -91 \nQ 1250 -91 836 529 \nQ 422 1150 422 2328 \nQ 422 3509 836 4129 \nQ 1250 4750 2034 4750 \nz\n\" transform=\"scale(0.015625)\"/>\n        <path id=\"DejaVuSans-2e\" d=\"M 684 794 \nL 1344 794 \nL 1344 0 \nL 684 0 \nL 684 794 \nz\n\" transform=\"scale(0.015625)\"/>\n        <path id=\"DejaVuSans-38\" d=\"M 2034 2216 \nQ 1584 2216 1326 1975 \nQ 1069 1734 1069 1313 \nQ 1069 891 1326 650 \nQ 1584 409 2034 409 \nQ 2484 409 2743 651 \nQ 3003 894 3003 1313 \nQ 3003 1734 2745 1975 \nQ 2488 2216 2034 2216 \nz\nM 1403 2484 \nQ 997 2584 770 2862 \nQ 544 3141 544 3541 \nQ 544 4100 942 4425 \nQ 1341 4750 2034 4750 \nQ 2731 4750 3128 4425 \nQ 3525 4100 3525 3541 \nQ 3525 3141 3298 2862 \nQ 3072 2584 2669 2484 \nQ 3125 2378 3379 2068 \nQ 3634 1759 3634 1313 \nQ 3634 634 3220 271 \nQ 2806 -91 2034 -91 \nQ 1263 -91 848 271 \nQ 434 634 434 1313 \nQ 434 1759 690 2068 \nQ 947 2378 1403 2484 \nz\nM 1172 3481 \nQ 1172 3119 1398 2916 \nQ 1625 2713 2034 2713 \nQ 2441 2713 2670 2916 \nQ 2900 3119 2900 3481 \nQ 2900 3844 2670 4047 \nQ 2441 4250 2034 4250 \nQ 1625 4250 1398 4047 \nQ 1172 3844 1172 3481 \nz\n\" transform=\"scale(0.015625)\"/>\n        <path id=\"DejaVuSans-32\" d=\"M 1228 531 \nL 3431 531 \nL 3431 0 \nL 469 0 \nL 469 531 \nQ 828 903 1448 1529 \nQ 2069 2156 2228 2338 \nQ 2531 2678 2651 2914 \nQ 2772 3150 2772 3378 \nQ 2772 3750 2511 3984 \nQ 2250 4219 1831 4219 \nQ 1534 4219 1204 4116 \nQ 875 4013 500 3803 \nL 500 4441 \nQ 881 4594 1212 4672 \nQ 1544 4750 1819 4750 \nQ 2544 4750 2975 4387 \nQ 3406 4025 3406 3419 \nQ 3406 3131 3298 2873 \nQ 3191 2616 2906 2266 \nQ 2828 2175 2409 1742 \nQ 1991 1309 1228 531 \nz\n\" transform=\"scale(0.015625)\"/>\n        <path id=\"DejaVuSans-35\" d=\"M 691 4666 \nL 3169 4666 \nL 3169 4134 \nL 1269 4134 \nL 1269 2991 \nQ 1406 3038 1543 3061 \nQ 1681 3084 1819 3084 \nQ 2600 3084 3056 2656 \nQ 3513 2228 3513 1497 \nQ 3513 744 3044 326 \nQ 2575 -91 1722 -91 \nQ 1428 -91 1123 -41 \nQ 819 9 494 109 \nL 494 744 \nQ 775 591 1075 516 \nQ 1375 441 1709 441 \nQ 2250 441 2565 725 \nQ 2881 1009 2881 1497 \nQ 2881 1984 2565 2268 \nQ 2250 2553 1709 2553 \nQ 1456 2553 1204 2497 \nQ 953 2441 691 2322 \nL 691 4666 \nz\n\" transform=\"scale(0.015625)\"/>\n       </defs>\n       <use xlink:href=\"#DejaVuSans-30\"/>\n       <use xlink:href=\"#DejaVuSans-2e\" x=\"63.623047\"/>\n       <use xlink:href=\"#DejaVuSans-38\" x=\"95.410156\"/>\n       <use xlink:href=\"#DejaVuSans-32\" x=\"159.033203\"/>\n       <use xlink:href=\"#DejaVuSans-35\" x=\"222.65625\"/>\n      </g>\n     </g>\n    </g>\n    <g id=\"ytick_2\">\n     <g id=\"text_8\">\n      <!-- 0.850 -->\n      <g style=\"fill: #262626\" transform=\"translate(7.2 233.699166) scale(0.14 -0.14)\">\n       <use xlink:href=\"#DejaVuSans-30\"/>\n       <use xlink:href=\"#DejaVuSans-2e\" x=\"63.623047\"/>\n       <use xlink:href=\"#DejaVuSans-38\" x=\"95.410156\"/>\n       <use xlink:href=\"#DejaVuSans-35\" x=\"159.033203\"/>\n       <use xlink:href=\"#DejaVuSans-30\" x=\"222.65625\"/>\n      </g>\n     </g>\n    </g>\n    <g id=\"ytick_3\">\n     <g id=\"text_9\">\n      <!-- 0.875 -->\n      <g style=\"fill: #262626\" transform=\"translate(7.2 203.403062) scale(0.14 -0.14)\">\n       <defs>\n        <path id=\"DejaVuSans-37\" d=\"M 525 4666 \nL 3525 4666 \nL 3525 4397 \nL 1831 0 \nL 1172 0 \nL 2766 4134 \nL 525 4134 \nL 525 4666 \nz\n\" transform=\"scale(0.015625)\"/>\n       </defs>\n       <use xlink:href=\"#DejaVuSans-30\"/>\n       <use xlink:href=\"#DejaVuSans-2e\" x=\"63.623047\"/>\n       <use xlink:href=\"#DejaVuSans-38\" x=\"95.410156\"/>\n       <use xlink:href=\"#DejaVuSans-37\" x=\"159.033203\"/>\n       <use xlink:href=\"#DejaVuSans-35\" x=\"222.65625\"/>\n      </g>\n     </g>\n    </g>\n    <g id=\"ytick_4\">\n     <g id=\"text_10\">\n      <!-- 0.900 -->\n      <g style=\"fill: #262626\" transform=\"translate(7.2 173.106958) scale(0.14 -0.14)\">\n       <defs>\n        <path id=\"DejaVuSans-39\" d=\"M 703 97 \nL 703 672 \nQ 941 559 1184 500 \nQ 1428 441 1663 441 \nQ 2288 441 2617 861 \nQ 2947 1281 2994 2138 \nQ 2813 1869 2534 1725 \nQ 2256 1581 1919 1581 \nQ 1219 1581 811 2004 \nQ 403 2428 403 3163 \nQ 403 3881 828 4315 \nQ 1253 4750 1959 4750 \nQ 2769 4750 3195 4129 \nQ 3622 3509 3622 2328 \nQ 3622 1225 3098 567 \nQ 2575 -91 1691 -91 \nQ 1453 -91 1209 -44 \nQ 966 3 703 97 \nz\nM 1959 2075 \nQ 2384 2075 2632 2365 \nQ 2881 2656 2881 3163 \nQ 2881 3666 2632 3958 \nQ 2384 4250 1959 4250 \nQ 1534 4250 1286 3958 \nQ 1038 3666 1038 3163 \nQ 1038 2656 1286 2365 \nQ 1534 2075 1959 2075 \nz\n\" transform=\"scale(0.015625)\"/>\n       </defs>\n       <use xlink:href=\"#DejaVuSans-30\"/>\n       <use xlink:href=\"#DejaVuSans-2e\" x=\"63.623047\"/>\n       <use xlink:href=\"#DejaVuSans-39\" x=\"95.410156\"/>\n       <use xlink:href=\"#DejaVuSans-30\" x=\"159.033203\"/>\n       <use xlink:href=\"#DejaVuSans-30\" x=\"222.65625\"/>\n      </g>\n     </g>\n    </g>\n    <g id=\"ytick_5\">\n     <g id=\"text_11\">\n      <!-- 0.925 -->\n      <g style=\"fill: #262626\" transform=\"translate(7.2 142.810854) scale(0.14 -0.14)\">\n       <use xlink:href=\"#DejaVuSans-30\"/>\n       <use xlink:href=\"#DejaVuSans-2e\" x=\"63.623047\"/>\n       <use xlink:href=\"#DejaVuSans-39\" x=\"95.410156\"/>\n       <use xlink:href=\"#DejaVuSans-32\" x=\"159.033203\"/>\n       <use xlink:href=\"#DejaVuSans-35\" x=\"222.65625\"/>\n      </g>\n     </g>\n    </g>\n    <g id=\"ytick_6\">\n     <g id=\"text_12\">\n      <!-- 0.950 -->\n      <g style=\"fill: #262626\" transform=\"translate(7.2 112.51475) scale(0.14 -0.14)\">\n       <use xlink:href=\"#DejaVuSans-30\"/>\n       <use xlink:href=\"#DejaVuSans-2e\" x=\"63.623047\"/>\n       <use xlink:href=\"#DejaVuSans-39\" x=\"95.410156\"/>\n       <use xlink:href=\"#DejaVuSans-35\" x=\"159.033203\"/>\n       <use xlink:href=\"#DejaVuSans-30\" x=\"222.65625\"/>\n      </g>\n     </g>\n    </g>\n    <g id=\"ytick_7\">\n     <g id=\"text_13\">\n      <!-- 0.975 -->\n      <g style=\"fill: #262626\" transform=\"translate(7.2 82.218647) scale(0.14 -0.14)\">\n       <use xlink:href=\"#DejaVuSans-30\"/>\n       <use xlink:href=\"#DejaVuSans-2e\" x=\"63.623047\"/>\n       <use xlink:href=\"#DejaVuSans-39\" x=\"95.410156\"/>\n       <use xlink:href=\"#DejaVuSans-37\" x=\"159.033203\"/>\n       <use xlink:href=\"#DejaVuSans-35\" x=\"222.65625\"/>\n      </g>\n     </g>\n    </g>\n    <g id=\"ytick_8\">\n     <g id=\"text_14\">\n      <!-- 1.000 -->\n      <g style=\"fill: #262626\" transform=\"translate(7.2 51.922543) scale(0.14 -0.14)\">\n       <defs>\n        <path id=\"DejaVuSans-31\" d=\"M 794 531 \nL 1825 531 \nL 1825 4091 \nL 703 3866 \nL 703 4441 \nL 1819 4666 \nL 2450 4666 \nL 2450 531 \nL 3481 531 \nL 3481 0 \nL 794 0 \nL 794 531 \nz\n\" transform=\"scale(0.015625)\"/>\n       </defs>\n       <use xlink:href=\"#DejaVuSans-31\"/>\n       <use xlink:href=\"#DejaVuSans-2e\" x=\"63.623047\"/>\n       <use xlink:href=\"#DejaVuSans-30\" x=\"95.410156\"/>\n       <use xlink:href=\"#DejaVuSans-30\" x=\"159.033203\"/>\n       <use xlink:href=\"#DejaVuSans-30\" x=\"222.65625\"/>\n      </g>\n     </g>\n    </g>\n   </g>\n   <g id=\"line2d_1\">\n    <path d=\"M 71.659375 77.482358 \nL 113.419375 77.482358 \nL 113.419375 76.89974 \nL 71.659375 76.89974 \nL 71.659375 77.482358 \n\" clip-path=\"url(#p333b399bd8)\" style=\"fill: none; stroke: #000000; stroke-linecap: round\"/>\n   </g>\n   <g id=\"line2d_2\">\n    <path d=\"M 92.539375 77.482358 \nL 92.539375 77.676563 \n\" clip-path=\"url(#p333b399bd8)\" style=\"fill: none; stroke: #000000; stroke-linecap: round\"/>\n   </g>\n   <g id=\"line2d_3\">\n    <path d=\"M 92.539375 76.89974 \nL 92.539375 76.89974 \n\" clip-path=\"url(#p333b399bd8)\" style=\"fill: none; stroke: #000000; stroke-linecap: round\"/>\n   </g>\n   <g id=\"line2d_4\">\n    <path d=\"M 82.099375 77.676563 \nL 102.979375 77.676563 \n\" clip-path=\"url(#p333b399bd8)\" style=\"fill: none; stroke: #000000; stroke-linecap: round\"/>\n   </g>\n   <g id=\"line2d_5\">\n    <path d=\"M 82.099375 76.89974 \nL 102.979375 76.89974 \n\" clip-path=\"url(#p333b399bd8)\" style=\"fill: none; stroke: #000000; stroke-linecap: round\"/>\n   </g>\n   <g id=\"line2d_6\">\n    <defs>\n     <path id=\"m6c7b192a75\" d=\"M 0 3 \nC 0.795609 3 1.55874 2.683901 2.12132 2.12132 \nC 2.683901 1.55874 3 0.795609 3 0 \nC 3 -0.795609 2.683901 -1.55874 2.12132 -2.12132 \nC 1.55874 -2.683901 0.795609 -3 0 -3 \nC -0.795609 -3 -1.55874 -2.683901 -2.12132 -2.12132 \nC -2.683901 -1.55874 -3 -0.795609 -3 0 \nC -3 0.795609 -2.683901 1.55874 -2.12132 2.12132 \nC -1.55874 2.683901 -0.795609 3 0 3 \nz\n\" style=\"stroke: #000000\"/>\n    </defs>\n    <g clip-path=\"url(#p333b399bd8)\">\n     <use xlink:href=\"#m6c7b192a75\" x=\"92.539375\" y=\"107.195844\" style=\"fill-opacity: 0; stroke: #000000\"/>\n     <use xlink:href=\"#m6c7b192a75\" x=\"92.539375\" y=\"107.195844\" style=\"fill-opacity: 0; stroke: #000000\"/>\n     <use xlink:href=\"#m6c7b192a75\" x=\"92.539375\" y=\"46.603636\" style=\"fill-opacity: 0; stroke: #000000\"/>\n     <use xlink:href=\"#m6c7b192a75\" x=\"92.539375\" y=\"46.603636\" style=\"fill-opacity: 0; stroke: #000000\"/>\n    </g>\n   </g>\n   <g id=\"line2d_7\">\n    <path d=\"M 155.179375 108.361079 \nL 196.939375 108.361079 \nL 196.939375 107.195844 \nL 155.179375 107.195844 \nL 155.179375 108.361079 \n\" clip-path=\"url(#p333b399bd8)\" style=\"fill: none; stroke: #000000; stroke-linecap: round\"/>\n   </g>\n   <g id=\"line2d_8\">\n    <path d=\"M 176.059375 108.361079 \nL 176.059375 108.749491 \n\" clip-path=\"url(#p333b399bd8)\" style=\"fill: none; stroke: #000000; stroke-linecap: round\"/>\n   </g>\n   <g id=\"line2d_9\">\n    <path d=\"M 176.059375 107.195844 \nL 176.059375 107.195844 \n\" clip-path=\"url(#p333b399bd8)\" style=\"fill: none; stroke: #000000; stroke-linecap: round\"/>\n   </g>\n   <g id=\"line2d_10\">\n    <path d=\"M 165.619375 108.749491 \nL 186.499375 108.749491 \n\" clip-path=\"url(#p333b399bd8)\" style=\"fill: none; stroke: #000000; stroke-linecap: round\"/>\n   </g>\n   <g id=\"line2d_11\">\n    <path d=\"M 165.619375 107.195844 \nL 186.499375 107.195844 \n\" clip-path=\"url(#p333b399bd8)\" style=\"fill: none; stroke: #000000; stroke-linecap: round\"/>\n   </g>\n   <g id=\"line2d_12\">\n    <g clip-path=\"url(#p333b399bd8)\">\n     <use xlink:href=\"#m6c7b192a75\" x=\"176.059375\" y=\"137.491948\" style=\"fill-opacity: 0; stroke: #000000\"/>\n     <use xlink:href=\"#m6c7b192a75\" x=\"176.059375\" y=\"46.603636\" style=\"fill-opacity: 0; stroke: #000000\"/>\n     <use xlink:href=\"#m6c7b192a75\" x=\"176.059375\" y=\"76.89974\" style=\"fill-opacity: 0; stroke: #000000\"/>\n    </g>\n   </g>\n   <g id=\"line2d_13\">\n    <path d=\"M 238.699375 130.306334 \nL 280.459375 130.306334 \nL 280.459375 54.177662 \nL 238.699375 54.177662 \nL 238.699375 130.306334 \n\" clip-path=\"url(#p333b399bd8)\" style=\"fill: none; stroke: #000000; stroke-linecap: round\"/>\n   </g>\n   <g id=\"line2d_14\">\n    <path d=\"M 259.579375 130.306334 \nL 259.579375 167.788052 \n\" clip-path=\"url(#p333b399bd8)\" style=\"fill: none; stroke: #000000; stroke-linecap: round\"/>\n   </g>\n   <g id=\"line2d_15\">\n    <path d=\"M 259.579375 54.177662 \nL 259.579375 46.603636 \n\" clip-path=\"url(#p333b399bd8)\" style=\"fill: none; stroke: #000000; stroke-linecap: round\"/>\n   </g>\n   <g id=\"line2d_16\">\n    <path d=\"M 249.139375 167.788052 \nL 270.019375 167.788052 \n\" clip-path=\"url(#p333b399bd8)\" style=\"fill: none; stroke: #000000; stroke-linecap: round\"/>\n   </g>\n   <g id=\"line2d_17\">\n    <path d=\"M 249.139375 46.603636 \nL 270.019375 46.603636 \n\" clip-path=\"url(#p333b399bd8)\" style=\"fill: none; stroke: #000000; stroke-linecap: round\"/>\n   </g>\n   <g id=\"line2d_18\"/>\n   <g id=\"line2d_19\">\n    <path d=\"M 322.219375 167.788052 \nL 363.979375 167.788052 \nL 363.979375 115.935105 \nL 322.219375 115.935105 \nL 322.219375 167.788052 \n\" clip-path=\"url(#p333b399bd8)\" style=\"fill: none; stroke: #000000; stroke-linecap: round\"/>\n   </g>\n   <g id=\"line2d_20\">\n    <path d=\"M 343.099375 167.788052 \nL 343.099375 167.788052 \n\" clip-path=\"url(#p333b399bd8)\" style=\"fill: none; stroke: #000000; stroke-linecap: round\"/>\n   </g>\n   <g id=\"line2d_21\">\n    <path d=\"M 343.099375 115.935105 \nL 343.099375 46.603636 \n\" clip-path=\"url(#p333b399bd8)\" style=\"fill: none; stroke: #000000; stroke-linecap: round\"/>\n   </g>\n   <g id=\"line2d_22\">\n    <path d=\"M 332.659375 167.788052 \nL 353.539375 167.788052 \n\" clip-path=\"url(#p333b399bd8)\" style=\"fill: none; stroke: #000000; stroke-linecap: round\"/>\n   </g>\n   <g id=\"line2d_23\">\n    <path d=\"M 332.659375 46.603636 \nL 353.539375 46.603636 \n\" clip-path=\"url(#p333b399bd8)\" style=\"fill: none; stroke: #000000; stroke-linecap: round\"/>\n   </g>\n   <g id=\"line2d_24\">\n    <g clip-path=\"url(#p333b399bd8)\">\n     <use xlink:href=\"#m6c7b192a75\" x=\"343.099375\" y=\"258.676364\" style=\"fill-opacity: 0; stroke: #000000\"/>\n    </g>\n   </g>\n   <g id=\"line2d_25\">\n    <path d=\"M 405.739375 160.796643 \nL 447.499375 160.796643 \nL 447.499375 76.89974 \nL 405.739375 76.89974 \nL 405.739375 160.796643 \n\" clip-path=\"url(#p333b399bd8)\" style=\"fill: none; stroke: #000000; stroke-linecap: round\"/>\n   </g>\n   <g id=\"line2d_26\">\n    <path d=\"M 426.619375 160.796643 \nL 426.619375 198.084156 \n\" clip-path=\"url(#p333b399bd8)\" style=\"fill: none; stroke: #000000; stroke-linecap: round\"/>\n   </g>\n   <g id=\"line2d_27\">\n    <path d=\"M 426.619375 76.89974 \nL 426.619375 46.603636 \n\" clip-path=\"url(#p333b399bd8)\" style=\"fill: none; stroke: #000000; stroke-linecap: round\"/>\n   </g>\n   <g id=\"line2d_28\">\n    <path d=\"M 416.179375 198.084156 \nL 437.059375 198.084156 \n\" clip-path=\"url(#p333b399bd8)\" style=\"fill: none; stroke: #000000; stroke-linecap: round\"/>\n   </g>\n   <g id=\"line2d_29\">\n    <path d=\"M 416.179375 46.603636 \nL 437.059375 46.603636 \n\" clip-path=\"url(#p333b399bd8)\" style=\"fill: none; stroke: #000000; stroke-linecap: round\"/>\n   </g>\n   <g id=\"line2d_30\"/>\n   <g id=\"line2d_31\">\n    <path d=\"M 489.259375 99.816024 \nL 531.019375 99.816024 \nL 531.019375 76.89974 \nL 489.259375 76.89974 \nL 489.259375 99.816024 \n\" clip-path=\"url(#p333b399bd8)\" style=\"fill: none; stroke: #000000; stroke-linecap: round\"/>\n   </g>\n   <g id=\"line2d_32\">\n    <path d=\"M 510.139375 99.816024 \nL 510.139375 107.195844 \n\" clip-path=\"url(#p333b399bd8)\" style=\"fill: none; stroke: #000000; stroke-linecap: round\"/>\n   </g>\n   <g id=\"line2d_33\">\n    <path d=\"M 510.139375 76.89974 \nL 510.139375 46.603636 \n\" clip-path=\"url(#p333b399bd8)\" style=\"fill: none; stroke: #000000; stroke-linecap: round\"/>\n   </g>\n   <g id=\"line2d_34\">\n    <path d=\"M 499.699375 107.195844 \nL 520.579375 107.195844 \n\" clip-path=\"url(#p333b399bd8)\" style=\"fill: none; stroke: #000000; stroke-linecap: round\"/>\n   </g>\n   <g id=\"line2d_35\">\n    <path d=\"M 499.699375 46.603636 \nL 520.579375 46.603636 \n\" clip-path=\"url(#p333b399bd8)\" style=\"fill: none; stroke: #000000; stroke-linecap: round\"/>\n   </g>\n   <g id=\"line2d_36\">\n    <g clip-path=\"url(#p333b399bd8)\">\n     <use xlink:href=\"#m6c7b192a75\" x=\"510.139375\" y=\"167.788052\" style=\"fill-opacity: 0; stroke: #000000\"/>\n    </g>\n   </g>\n   <g id=\"line2d_37\">\n    <path d=\"M 71.659375 76.89974 \nL 113.419375 76.89974 \n\" clip-path=\"url(#p333b399bd8)\" style=\"fill: none; stroke: #fc4f30; stroke-linecap: round\"/>\n   </g>\n   <g id=\"line2d_38\">\n    <path d=\"M 155.179375 107.195844 \nL 196.939375 107.195844 \n\" clip-path=\"url(#p333b399bd8)\" style=\"fill: none; stroke: #fc4f30; stroke-linecap: round\"/>\n   </g>\n   <g id=\"line2d_39\">\n    <path d=\"M 238.699375 107.195844 \nL 280.459375 107.195844 \n\" clip-path=\"url(#p333b399bd8)\" style=\"fill: none; stroke: #fc4f30; stroke-linecap: round\"/>\n   </g>\n   <g id=\"line2d_40\">\n    <path d=\"M 322.219375 137.491948 \nL 363.979375 137.491948 \n\" clip-path=\"url(#p333b399bd8)\" style=\"fill: none; stroke: #fc4f30; stroke-linecap: round\"/>\n   </g>\n   <g id=\"line2d_41\">\n    <path d=\"M 405.739375 138.657183 \nL 447.499375 138.657183 \n\" clip-path=\"url(#p333b399bd8)\" style=\"fill: none; stroke: #fc4f30; stroke-linecap: round\"/>\n   </g>\n   <g id=\"line2d_42\">\n    <path d=\"M 489.259375 76.89974 \nL 531.019375 76.89974 \n\" clip-path=\"url(#p333b399bd8)\" style=\"fill: none; stroke: #fc4f30; stroke-linecap: round\"/>\n   </g>\n   <g id=\"patch_3\">\n    <path d=\"M 50.779375 269.28 \nL 50.779375 36 \n\" style=\"fill: none; stroke: #262626; stroke-width: 3; stroke-linejoin: miter; stroke-linecap: square\"/>\n   </g>\n   <g id=\"patch_4\">\n    <path d=\"M 551.899375 269.28 \nL 551.899375 36 \n\" style=\"fill: none; stroke: #262626; stroke-width: 3; stroke-linejoin: miter; stroke-linecap: square\"/>\n   </g>\n   <g id=\"patch_5\">\n    <path d=\"M 50.779375 269.28 \nL 551.899375 269.28 \n\" style=\"fill: none; stroke: #262626; stroke-width: 3; stroke-linejoin: miter; stroke-linecap: square\"/>\n   </g>\n   <g id=\"patch_6\">\n    <path d=\"M 50.779375 36 \nL 551.899375 36 \n\" style=\"fill: none; stroke: #262626; stroke-width: 3; stroke-linejoin: miter; stroke-linecap: square\"/>\n   </g>\n  </g>\n  <g id=\"text_15\">\n   <!-- Scaled Algorithm Comparison -->\n   <g style=\"fill: #262626\" transform=\"translate(167.994813 19.965375) scale(0.168 -0.168)\">\n    <defs>\n     <path id=\"DejaVuSans-20\" transform=\"scale(0.015625)\"/>\n     <path id=\"DejaVuSans-67\" d=\"M 2906 1791 \nQ 2906 2416 2648 2759 \nQ 2391 3103 1925 3103 \nQ 1463 3103 1205 2759 \nQ 947 2416 947 1791 \nQ 947 1169 1205 825 \nQ 1463 481 1925 481 \nQ 2391 481 2648 825 \nQ 2906 1169 2906 1791 \nz\nM 3481 434 \nQ 3481 -459 3084 -895 \nQ 2688 -1331 1869 -1331 \nQ 1566 -1331 1297 -1286 \nQ 1028 -1241 775 -1147 \nL 775 -588 \nQ 1028 -725 1275 -790 \nQ 1522 -856 1778 -856 \nQ 2344 -856 2625 -561 \nQ 2906 -266 2906 331 \nL 2906 616 \nQ 2728 306 2450 153 \nQ 2172 0 1784 0 \nQ 1141 0 747 490 \nQ 353 981 353 1791 \nQ 353 2603 747 3093 \nQ 1141 3584 1784 3584 \nQ 2172 3584 2450 3431 \nQ 2728 3278 2906 2969 \nL 2906 3500 \nL 3481 3500 \nL 3481 434 \nz\n\" transform=\"scale(0.015625)\"/>\n     <path id=\"DejaVuSans-6f\" d=\"M 1959 3097 \nQ 1497 3097 1228 2736 \nQ 959 2375 959 1747 \nQ 959 1119 1226 758 \nQ 1494 397 1959 397 \nQ 2419 397 2687 759 \nQ 2956 1122 2956 1747 \nQ 2956 2369 2687 2733 \nQ 2419 3097 1959 3097 \nz\nM 1959 3584 \nQ 2709 3584 3137 3096 \nQ 3566 2609 3566 1747 \nQ 3566 888 3137 398 \nQ 2709 -91 1959 -91 \nQ 1206 -91 779 398 \nQ 353 888 353 1747 \nQ 353 2609 779 3096 \nQ 1206 3584 1959 3584 \nz\n\" transform=\"scale(0.015625)\"/>\n     <path id=\"DejaVuSans-72\" d=\"M 2631 2963 \nQ 2534 3019 2420 3045 \nQ 2306 3072 2169 3072 \nQ 1681 3072 1420 2755 \nQ 1159 2438 1159 1844 \nL 1159 0 \nL 581 0 \nL 581 3500 \nL 1159 3500 \nL 1159 2956 \nQ 1341 3275 1631 3429 \nQ 1922 3584 2338 3584 \nQ 2397 3584 2469 3576 \nQ 2541 3569 2628 3553 \nL 2631 2963 \nz\n\" transform=\"scale(0.015625)\"/>\n     <path id=\"DejaVuSans-69\" d=\"M 603 3500 \nL 1178 3500 \nL 1178 0 \nL 603 0 \nL 603 3500 \nz\nM 603 4863 \nL 1178 4863 \nL 1178 4134 \nL 603 4134 \nL 603 4863 \nz\n\" transform=\"scale(0.015625)\"/>\n     <path id=\"DejaVuSans-74\" d=\"M 1172 4494 \nL 1172 3500 \nL 2356 3500 \nL 2356 3053 \nL 1172 3053 \nL 1172 1153 \nQ 1172 725 1289 603 \nQ 1406 481 1766 481 \nL 2356 481 \nL 2356 0 \nL 1766 0 \nQ 1100 0 847 248 \nQ 594 497 594 1153 \nL 594 3053 \nL 172 3053 \nL 172 3500 \nL 594 3500 \nL 594 4494 \nL 1172 4494 \nz\n\" transform=\"scale(0.015625)\"/>\n     <path id=\"DejaVuSans-68\" d=\"M 3513 2113 \nL 3513 0 \nL 2938 0 \nL 2938 2094 \nQ 2938 2591 2744 2837 \nQ 2550 3084 2163 3084 \nQ 1697 3084 1428 2787 \nQ 1159 2491 1159 1978 \nL 1159 0 \nL 581 0 \nL 581 4863 \nL 1159 4863 \nL 1159 2956 \nQ 1366 3272 1645 3428 \nQ 1925 3584 2291 3584 \nQ 2894 3584 3203 3211 \nQ 3513 2838 3513 2113 \nz\n\" transform=\"scale(0.015625)\"/>\n     <path id=\"DejaVuSans-6d\" d=\"M 3328 2828 \nQ 3544 3216 3844 3400 \nQ 4144 3584 4550 3584 \nQ 5097 3584 5394 3201 \nQ 5691 2819 5691 2113 \nL 5691 0 \nL 5113 0 \nL 5113 2094 \nQ 5113 2597 4934 2840 \nQ 4756 3084 4391 3084 \nQ 3944 3084 3684 2787 \nQ 3425 2491 3425 1978 \nL 3425 0 \nL 2847 0 \nL 2847 2094 \nQ 2847 2600 2669 2842 \nQ 2491 3084 2119 3084 \nQ 1678 3084 1418 2786 \nQ 1159 2488 1159 1978 \nL 1159 0 \nL 581 0 \nL 581 3500 \nL 1159 3500 \nL 1159 2956 \nQ 1356 3278 1631 3431 \nQ 1906 3584 2284 3584 \nQ 2666 3584 2933 3390 \nQ 3200 3197 3328 2828 \nz\n\" transform=\"scale(0.015625)\"/>\n     <path id=\"DejaVuSans-70\" d=\"M 1159 525 \nL 1159 -1331 \nL 581 -1331 \nL 581 3500 \nL 1159 3500 \nL 1159 2969 \nQ 1341 3281 1617 3432 \nQ 1894 3584 2278 3584 \nQ 2916 3584 3314 3078 \nQ 3713 2572 3713 1747 \nQ 3713 922 3314 415 \nQ 2916 -91 2278 -91 \nQ 1894 -91 1617 61 \nQ 1341 213 1159 525 \nz\nM 3116 1747 \nQ 3116 2381 2855 2742 \nQ 2594 3103 2138 3103 \nQ 1681 3103 1420 2742 \nQ 1159 2381 1159 1747 \nQ 1159 1113 1420 752 \nQ 1681 391 2138 391 \nQ 2594 391 2855 752 \nQ 3116 1113 3116 1747 \nz\n\" transform=\"scale(0.015625)\"/>\n     <path id=\"DejaVuSans-73\" d=\"M 2834 3397 \nL 2834 2853 \nQ 2591 2978 2328 3040 \nQ 2066 3103 1784 3103 \nQ 1356 3103 1142 2972 \nQ 928 2841 928 2578 \nQ 928 2378 1081 2264 \nQ 1234 2150 1697 2047 \nL 1894 2003 \nQ 2506 1872 2764 1633 \nQ 3022 1394 3022 966 \nQ 3022 478 2636 193 \nQ 2250 -91 1575 -91 \nQ 1294 -91 989 -36 \nQ 684 19 347 128 \nL 347 722 \nQ 666 556 975 473 \nQ 1284 391 1588 391 \nQ 1994 391 2212 530 \nQ 2431 669 2431 922 \nQ 2431 1156 2273 1281 \nQ 2116 1406 1581 1522 \nL 1381 1569 \nQ 847 1681 609 1914 \nQ 372 2147 372 2553 \nQ 372 3047 722 3315 \nQ 1072 3584 1716 3584 \nQ 2034 3584 2315 3537 \nQ 2597 3491 2834 3397 \nz\n\" transform=\"scale(0.015625)\"/>\n     <path id=\"DejaVuSans-6e\" d=\"M 3513 2113 \nL 3513 0 \nL 2938 0 \nL 2938 2094 \nQ 2938 2591 2744 2837 \nQ 2550 3084 2163 3084 \nQ 1697 3084 1428 2787 \nQ 1159 2491 1159 1978 \nL 1159 0 \nL 581 0 \nL 581 3500 \nL 1159 3500 \nL 1159 2956 \nQ 1366 3272 1645 3428 \nQ 1925 3584 2291 3584 \nQ 2894 3584 3203 3211 \nQ 3513 2838 3513 2113 \nz\n\" transform=\"scale(0.015625)\"/>\n    </defs>\n    <use xlink:href=\"#DejaVuSans-53\"/>\n    <use xlink:href=\"#DejaVuSans-63\" x=\"63.476562\"/>\n    <use xlink:href=\"#DejaVuSans-61\" x=\"118.457031\"/>\n    <use xlink:href=\"#DejaVuSans-6c\" x=\"179.736328\"/>\n    <use xlink:href=\"#DejaVuSans-65\" x=\"207.519531\"/>\n    <use xlink:href=\"#DejaVuSans-64\" x=\"269.042969\"/>\n    <use xlink:href=\"#DejaVuSans-20\" x=\"332.519531\"/>\n    <use xlink:href=\"#DejaVuSans-41\" x=\"364.306641\"/>\n    <use xlink:href=\"#DejaVuSans-6c\" x=\"432.714844\"/>\n    <use xlink:href=\"#DejaVuSans-67\" x=\"460.498047\"/>\n    <use xlink:href=\"#DejaVuSans-6f\" x=\"523.974609\"/>\n    <use xlink:href=\"#DejaVuSans-72\" x=\"585.15625\"/>\n    <use xlink:href=\"#DejaVuSans-69\" x=\"626.269531\"/>\n    <use xlink:href=\"#DejaVuSans-74\" x=\"654.052734\"/>\n    <use xlink:href=\"#DejaVuSans-68\" x=\"693.261719\"/>\n    <use xlink:href=\"#DejaVuSans-6d\" x=\"756.640625\"/>\n    <use xlink:href=\"#DejaVuSans-20\" x=\"854.052734\"/>\n    <use xlink:href=\"#DejaVuSans-43\" x=\"885.839844\"/>\n    <use xlink:href=\"#DejaVuSans-6f\" x=\"955.664062\"/>\n    <use xlink:href=\"#DejaVuSans-6d\" x=\"1016.845703\"/>\n    <use xlink:href=\"#DejaVuSans-70\" x=\"1114.257812\"/>\n    <use xlink:href=\"#DejaVuSans-61\" x=\"1177.734375\"/>\n    <use xlink:href=\"#DejaVuSans-72\" x=\"1239.013672\"/>\n    <use xlink:href=\"#DejaVuSans-69\" x=\"1280.126953\"/>\n    <use xlink:href=\"#DejaVuSans-73\" x=\"1307.910156\"/>\n    <use xlink:href=\"#DejaVuSans-6f\" x=\"1360.009766\"/>\n    <use xlink:href=\"#DejaVuSans-6e\" x=\"1421.191406\"/>\n   </g>\n  </g>\n </g>\n <defs>\n  <clipPath id=\"p333b399bd8\">\n   <rect x=\"50.779375\" y=\"36\" width=\"501.12\" height=\"233.28\"/>\n  </clipPath>\n </defs>\n</svg>\n",
      "image/png": "[encoded data removed]"
     },
     "metadata": {}
    }
   ],
   "source": [
    "# Compare Algorithms\n",
    "fig = plt.figure()\n",
    "fig.suptitle('Scaled Algorithm Comparison')\n",
    "ax = fig.add_subplot(111)\n",
    "plt.boxplot(results)\n",
    "ax.set_xticklabels(names)\n",
    "plt.savefig(\"outputs/nb6/scaled_algorithm.jpeg\")\n",
    "plt.show()"
   ]
  },
  {
   "cell_type": "markdown",
   "metadata": {},
   "source": [
    "#### Observations\n",
    "> The results show that standardization of the data has lifted the skill of SVM to be the most accurate algorithm tested so far.\n",
    "\n",
    "The results suggest digging deeper into the SVM and LDA and LR algorithms. It is very likely that configuration beyond the default may yield even more accurate models."
   ]
  },
  {
   "cell_type": "markdown",
   "metadata": {},
   "source": [
    "## 3.0 Algorithm Tuning\n",
    "In this section we investigate tuning the parameters for three algorithms that show promise from the spot-checking in the previous section: LR, LDA and SVM.\n",
    "\n",
    "### Tuning hyper-parameters - SVC estimator"
   ]
  },
  {
   "cell_type": "code",
   "execution_count": 37,
   "metadata": {
    "tags": []
   },
   "outputs": [
    {
     "output_type": "stream",
     "name": "stdout",
     "text": "--> Model Training Accuracy: 0.940 +/- 0.034\n11:80: E501 line too long (94 > 79 characters)\n12:53: E225 missing whitespace around operator\n12:80: E501 line too long (86 > 79 characters)\n➔ Tuned Parameters Best Score:  0.9446794871794871\n➔ Best Parameters: \n {'clf__C': 1.0, 'clf__kernel': 'linear'}\n"
    }
   ],
   "source": [
    "# Make Support Vector Classifier Pipeline\n",
    "pipe_svc = Pipeline([('scl', StandardScaler()),\n",
    "                     ('pca', PCA(n_components=2)),\n",
    "                     ('clf', SVC(probability=True, verbose=False))])\n",
    "\n",
    "# Fit Pipeline to training Data\n",
    "pipe_svc.fit(X_train, y_train)\n",
    "\n",
    "# print('--> Fitted Pipeline to training Data')\n",
    "\n",
    "scores = cross_val_score(estimator=pipe_svc, X=X_train, y=y_train, cv=10, n_jobs=1, verbose=0)\n",
    "print('--> Model Training Accuracy: %.3f +/- %.3f' %(np.mean(scores), np.std(scores)))\n",
    "\n",
    "# Tune Hyperparameters\n",
    "param_range = [0.0001, 0.001, 0.01, 0.1, 1.0, 10.0, 100.0, 1000.0]\n",
    "param_grid = [{'clf__C': param_range, 'clf__kernel': ['linear']},\n",
    "              {'clf__C': param_range, 'clf__gamma': param_range,\n",
    "               'clf__kernel': ['rbf']}]\n",
    "gs = GridSearchCV(estimator=pipe_svc,\n",
    "                  param_grid=param_grid,\n",
    "                  scoring='accuracy',\n",
    "                  cv=10,\n",
    "                  n_jobs=1)\n",
    "gs = gs.fit(X_train, y_train)\n",
    "print('➔ Tuned Parameters Best Score: ', gs.best_score_)\n",
    "print('➔ Best Parameters: \\n', gs.best_params_)"
   ]
  },
  {
   "cell_type": "markdown",
   "metadata": {},
   "source": [
    "### Tuning the hyper-parameters - k-NN hyperparameters\n",
    " For your standard k-NN implementation, there are two primary hyperparameters that you’ll want to tune:\n",
    "\n",
    "* The number of neighbors k.\n",
    "* The distance metric/similarity function.\n",
    "\n",
    "Both of these values can dramatically affect the accuracy of your k-NN classifier. Grid object is ready to do 10-fold cross validation on a KNN model using classification accuracy as the evaluation metric\n",
    "In addition, there is a parameter grid to repeat the 10-fold cross validation process 30 times\n",
    "Each time, the n_neighbors parameter should be given a different value from the list\n",
    "We can't give GridSearchCV just a list\n",
    "We've to specify n_neighbors should take on 1 through 30\n",
    "You can set n_jobs = -1 to run computations in parallel (if supported by your computer and OS) "
   ]
  },
  {
   "cell_type": "code",
   "execution_count": 38,
   "metadata": {
    "tags": []
   },
   "outputs": [
    {
     "output_type": "stream",
     "name": "stdout",
     "text": "--> Model Training Accuracy: 0.927 +/- 0.044\n15:53: E225 missing whitespace around operator\n15:80: E501 line too long (86 > 79 characters)\n22:21: E127 continuation line over-indented for visual indent\n23:21: E127 continuation line over-indented for visual indent\n24:21: E127 continuation line over-indented for visual indent\n26:40: E231 missing whitespace after ','\n27:30: E231 missing whitespace after ','\n➔ Tuned Parameters Best Score:  0.9396153846153847\n➔ Best Parameters: \n {'clf__n_neighbors': 19}\n"
    }
   ],
   "source": [
    "from sklearn.neighbors import KNeighborsClassifier as KNN\n",
    "\n",
    "pipe_knn = Pipeline([('scl', StandardScaler()),\n",
    "                     ('pca', PCA(n_components=2)),\n",
    "                     ('clf', KNeighborsClassifier())])\n",
    "\n",
    "# Fit Pipeline to training Data\n",
    "pipe_knn.fit(X_train, y_train)\n",
    "\n",
    "scores = cross_val_score(estimator=pipe_knn,\n",
    "                         X=X_train,\n",
    "                         y=y_train,\n",
    "                         cv=10,\n",
    "                         n_jobs=1)\n",
    "print('--> Model Training Accuracy: %.3f +/- %.3f' %(np.mean(scores), np.std(scores)))\n",
    "\n",
    "# Tune Hyperparameters\n",
    "param_range = range(1, 31)\n",
    "param_grid = [{'clf__n_neighbors': param_range}]\n",
    "# Instantiate the grid\n",
    "gs = GridSearchCV(estimator=pipe_knn,\n",
    "                    param_grid=param_grid,\n",
    "                    cv=10,\n",
    "                    scoring='accuracy')\n",
    "gs = gs.fit(X_train, y_train)\n",
    "print('➔ Tuned Parameters Best Score: ',gs.best_score_)\n",
    "print('➔ Best Parameters: \\n',gs.best_params_)"
   ]
  },
  {
   "cell_type": "markdown",
   "metadata": {},
   "source": [
    "### Finalize Model"
   ]
  },
  {
   "cell_type": "code",
   "execution_count": 15,
   "metadata": {
    "tags": []
   },
   "outputs": [
    {
     "output_type": "stream",
     "name": "stderr",
     "text": "1:1: E265 block comment should start with '# '\n4:1: E265 block comment should start with '# '\n11:59: E225 missing whitespace around operator\n11:80: E501 line too long (92 > 79 characters)\n13:68: E231 missing whitespace after ','\n14:1: W391 blank line at end of file\n--> Final Model Training Accuracy: 0.940 +/- 0.034\n--> Final Accuracy on Test set: 0.94737\n"
    }
   ],
   "source": [
    "#Use best parameters\n",
    "clf_svc = gs.best_estimator_\n",
    "\n",
    "#Get Final Scores\n",
    "clf_svc.fit(X_train, y_train)\n",
    "scores = cross_val_score(estimator=clf_svc,\n",
    "                         X=X_train,\n",
    "                         y=y_train,\n",
    "                         cv=10,\n",
    "                         n_jobs=1)\n",
    "print('--> Final Model Training Accuracy: %.3f +/- %.3f' %(np.mean(scores), np.std(scores)))\n",
    "\n",
    "print('--> Final Accuracy on Test set: %.5f' % clf_svc.score(X_test,y_test))\n"
   ]
  },
  {
   "cell_type": "code",
   "execution_count": 18,
   "metadata": {
    "tags": []
   },
   "outputs": [
    {
     "output_type": "error",
     "ename": "NameError",
     "evalue": "name 'accuracy' is not defined",
     "traceback": [
      "\u001b[0;31m---------------------------------------------------------------------------\u001b[0m",
      "\u001b[0;31mNameError\u001b[0m                                 Traceback (most recent call last)",
      "Cell \u001b[0;32mIn[18], line 3\u001b[0m\n\u001b[1;32m      1\u001b[0m clf \u001b[38;5;241m=\u001b[39m SVC(kernel\u001b[38;5;241m=\u001b[39m\u001b[38;5;124m'\u001b[39m\u001b[38;5;124mrbf\u001b[39m\u001b[38;5;124m'\u001b[39m,C\u001b[38;5;241m=\u001b[39m\u001b[38;5;241m1\u001b[39m)\n\u001b[1;32m      2\u001b[0m clf\u001b[38;5;241m.\u001b[39mfit(X_train,y_train)\n\u001b[0;32m----> 3\u001b[0m \u001b[43maccuracy\u001b[49m(clf)\n",
      "\u001b[0;31mNameError\u001b[0m: name 'accuracy' is not defined"
     ]
    }
   ],
   "source": [
    "clf = SVC(kernel='rbf',C=1)\n",
    "clf.fit(X_train,y_train)\n",
    "accuracy(clf)"
   ]
  },
  {
   "cell_type": "markdown",
   "metadata": {},
   "source": [
    "## Summary\n",
    "\n",
    "Worked through a classification predictive modeling machine learning problem from end-to-end using Python. Specifically, the steps covered were:\n",
    "\n",
    "1. Problem Definition (Breast Cancer data).\n",
    "\n",
    "2. Loading the Dataset.\n",
    "\n",
    "3. Analyze Data (same scale but di↵erent distributions of data).\n",
    "\n",
    "    * Evaluate Algorithms (KNN looked good).\n",
    "    * Evaluate Algorithms with Standardization (KNN and SVM looked good).\n",
    "\n",
    "4. Algorithm Tuning (K=19 for KNN was good, SVM with an RBF kernel and C=100 was best).. \n",
    "5. Finalize Model (use all training data and confirm using validation dataset)\n"
   ]
  }
 ],
 "metadata": {
  "anaconda-cloud": {},
  "kernelspec": {
   "display_name": "Python 3 (ipykernel)",
   "language": "python",
   "name": "python3"
  },
  "language_info": {
   "codemirror_mode": {
    "name": "ipython",
    "version": 3
   },
   "file_extension": ".py",
   "mimetype": "text/x-python",
   "name": "python",
   "nbconvert_exporter": "python",
   "pygments_lexer": "ipython3",
   "version": "3.8.12-final"
  },
  "nbpresent": {
   "slides": {
    "24b4c65f-bb0a-40e5-82d1-e7a32fd7cb81": {
     "id": "24b4c65f-bb0a-40e5-82d1-e7a32fd7cb81",
     "prev": "c916bff9-01b0-4f88-8dfe-48366cbcebbd",
     "regions": {
      "96cec8ec-f802-4388-92b6-3575ae6d35fc": {
       "attrs": {
        "height": 0.8,
        "width": 0.8,
        "x": 0.1,
        "y": 0.1
       },
       "content": {
        "cell": "57b6e52c-2e81-423d-9902-e57a54fadab3",
        "part": "whole"
       },
       "id": "96cec8ec-f802-4388-92b6-3575ae6d35fc"
      }
     }
    },
    "3fe8f6e5-8355-49bd-8b72-54cc03842fdd": {
     "id": "3fe8f6e5-8355-49bd-8b72-54cc03842fdd",
     "prev": "24b4c65f-bb0a-40e5-82d1-e7a32fd7cb81",
     "regions": {
      "15ef1e17-3829-4deb-a95f-49af770554e4": {
       "attrs": {
        "height": 0.4,
        "width": 0.8,
        "x": 0.1,
        "y": 0.5
       },
       "content": {
        "cell": "7c2600b8-f656-4a31-8fff-826146198290",
        "part": "whole"
       },
       "id": "15ef1e17-3829-4deb-a95f-49af770554e4"
      },
      "26043033-eeee-4f5f-9f64-94e8af33b4ad": {
       "attrs": {
        "height": 0.4,
        "width": 0.8,
        "x": 0.1,
        "y": 0.5
       },
       "content": {
        "cell": "7b8e7745-abd5-4313-b1d9-a571faf34d6f",
        "part": "whole"
       },
       "id": "26043033-eeee-4f5f-9f64-94e8af33b4ad"
      },
      "32421559-c70d-4046-9ffb-e3fe7750d949": {
       "attrs": {
        "height": 0.4,
        "width": 0.8,
        "x": 0.1,
        "y": 0.5
       },
       "content": {
        "cell": "a1cd24b6-d66a-4452-a9b6-1feecc23ef3b",
        "part": "whole"
       },
       "id": "32421559-c70d-4046-9ffb-e3fe7750d949"
      },
      "6b5e1491-f4a8-4cb5-8a9a-653689ecf24f": {
       "attrs": {
        "height": 0.4,
        "width": 0.8,
        "x": 0.1,
        "y": 0.5
       },
       "content": {
        "cell": "2db6cf7b-a8d0-4f65-b9ba-f833f21849fd",
        "part": "whole"
       },
       "id": "6b5e1491-f4a8-4cb5-8a9a-653689ecf24f"
      },
      "82991730-4d08-4637-8391-26e15b890186": {
       "attrs": {
        "height": 0.8,
        "width": 0.8,
        "x": 0.1,
        "y": 0.1
       },
       "content": {
        "cell": "226eb66f-3bbc-4911-ae3e-3a7953db372a",
        "part": "whole"
       },
       "id": "82991730-4d08-4637-8391-26e15b890186"
      },
      "9c7c33ce-2582-4e10-a1b8-c334961967b6": {
       "attrs": {
        "height": 0.4,
        "width": 0.8,
        "x": 0.1,
        "y": 0.5
       },
       "content": {
        "cell": "aaff86c0-1ec6-4fda-bdc5-6f1fad2d1bed",
        "part": "whole"
       },
       "id": "9c7c33ce-2582-4e10-a1b8-c334961967b6"
      },
      "b852c892-5a54-4981-94b4-335b73256228": {
       "attrs": {
        "height": 0.4,
        "width": 0.8,
        "x": 0.1,
        "y": 0.5
       },
       "content": {
        "cell": "9e64f8b8-8d22-4b11-b893-21e18aca1896",
        "part": "whole"
       },
       "id": "b852c892-5a54-4981-94b4-335b73256228"
      },
      "bc2c634a-7f01-458a-875d-f2d9490c5d7f": {
       "attrs": {
        "height": 0.4,
        "width": 0.8,
        "x": 0.1,
        "y": 0.5
       },
       "content": {
        "cell": "d5d5f892-f456-4167-beca-f90a955c41b8",
        "part": "whole"
       },
       "id": "bc2c634a-7f01-458a-875d-f2d9490c5d7f"
      },
      "bee14e73-b23f-4351-949d-127e5e7725a1": {
       "attrs": {
        "height": 0.4,
        "width": 0.8,
        "x": 0.1,
        "y": 0.5
       },
       "content": {
        "cell": "f57a9cbe-11fb-48ec-b081-046da330c180",
        "part": "whole"
       },
       "id": "bee14e73-b23f-4351-949d-127e5e7725a1"
      },
      "c15582a0-2c07-4410-b1b3-8f6941367456": {
       "attrs": {
        "height": 0.4,
        "width": 0.8,
        "x": 0.1,
        "y": 0.5
       },
       "content": {
        "cell": "8b6fc11b-bdf0-4429-858b-594d9d08ffe8",
        "part": "whole"
       },
       "id": "c15582a0-2c07-4410-b1b3-8f6941367456"
      },
      "cbd8001c-ce07-4722-aed4-db80545c6aad": {
       "attrs": {
        "height": 0.4,
        "width": 0.8,
        "x": 0.1,
        "y": 0.5
       },
       "content": {
        "cell": "b6901fc4-1011-4b0b-a585-b408c98dccc5",
        "part": "whole"
       },
       "id": "cbd8001c-ce07-4722-aed4-db80545c6aad"
      },
      "d174d0a5-e24c-47a2-bcb3-12b795cd4d34": {
       "attrs": {
        "height": 0.4,
        "width": 0.8,
        "x": 0.1,
        "y": 0.5
       },
       "content": {
        "cell": "13a04041-12c5-40d9-aa3e-3c31b7c6700f",
        "part": "whole"
       },
       "id": "d174d0a5-e24c-47a2-bcb3-12b795cd4d34"
      },
      "f979a251-a052-4653-8dc4-76989d6d5564": {
       "attrs": {
        "height": 0.4,
        "width": 0.8,
        "x": 0.1,
        "y": 0.5
       },
       "content": {
        "cell": "4d43cfde-2f01-48e6-ae90-86aa87ed0658",
        "part": "whole"
       },
       "id": "f979a251-a052-4653-8dc4-76989d6d5564"
      },
      "fc37e2ef-dace-4e14-bd2c-d2f1720fb59b": {
       "attrs": {
        "height": 0.4,
        "width": 0.8,
        "x": 0.1,
        "y": 0.5
       },
       "content": {
        "cell": "f5fca3f9-acc2-4cba-9ceb-3eb63d0c6336",
        "part": "whole"
       },
       "id": "fc37e2ef-dace-4e14-bd2c-d2f1720fb59b"
      }
     }
    },
    "c916bff9-01b0-4f88-8dfe-48366cbcebbd": {
     "id": "c916bff9-01b0-4f88-8dfe-48366cbcebbd",
     "prev": null,
     "regions": {
      "b30819be-7928-4220-b15f-b3ca846f4850": {
       "attrs": {
        "height": 0.8,
        "width": 0.8,
        "x": 0.1,
        "y": 0.1
       },
       "content": {
        "cell": "b1daa992-4a28-496f-b325-6e8be1a7844c",
        "part": "whole"
       },
       "id": "b30819be-7928-4220-b15f-b3ca846f4850"
      }
     }
    }
   },
   "themes": {}
  }
 },
 "nbformat": 4,
 "nbformat_minor": 2
}