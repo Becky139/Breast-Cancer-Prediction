{
	"cells": [
		{
			"attachments": {},
			"cell_type": "markdown",
			"metadata": {
				"id": "0aStgWSO0E0E"
			},
			"source": [
				"# **(Data Collection Notebook)**"
			]
		},
		{
			"attachments": {},
			"cell_type": "markdown",
			"metadata": {
				"id": "9uWZXH9LwoQg"
			},
			"source": [
				"## Objectives\n",
				"\n",
				"- Upload dataset to repository.\n",
				"- Load data and save it under inputs/datasets/raw/data.csv\n",
				"- Inspect the data and save it under inputs/datasets/data_clean_id/data.csv\n",
				"\n",
				"## Inputs\n",
				"\n",
				"Download  data set from Kaggle and import data.csv.\n",
				"\n",
				"## Outputs\n",
				"\n",
				"Generate Dataset:   inputs/datasets/raw/data.csv\n",
				"                    inputs/datasets/data_clean_id/data.csv\n",
				"\n",
				"## Additional Comments\n"
			]
		},
		{
			"cell_type": "markdown",
			"metadata": {
				"id": "cqP-UeN-z3i2"
			},
			"source": [
				"# Change working directory"
			]
		},
		{
			"cell_type": "markdown",
			"metadata": {
				"id": "aOGIGS-uz3i2"
			},
			"source": [
				"We need to change the working directory from its current folder to its parent folder\n",
				"* We access the current directory with os.getcwd()"
			]
		},
		{
			"cell_type": "code",
			"execution_count": 1,
			"metadata": {
				"id": "wZfF_j-Bz3i4",
				"outputId": "66943449-1436-4c3d-85c7-b85f9f78349b"
			},
			"outputs": [
				{
					"data": {
						"text/plain": [
							"'/workspace/Breast-Cancer-Prediction/jupyter_notebooks'"
						]
					},
					"execution_count": 1,
					"metadata": {},
					"output_type": "execute_result"
				}
			],
			"source": [
				"import os\n",
				"current_dir = os.getcwd()\n",
				"current_dir"
			]
		},
		{
			"cell_type": "markdown",
			"metadata": {
				"id": "9MWW8E7lz3i7"
			},
			"source": [
				"We want to make the parent of the current directory the new current directory\n",
				"* os.path.dirname() gets the parent directory\n",
				"* os.chir() defines the new current directory"
			]
		},
		{
			"cell_type": "code",
			"execution_count": 2,
			"metadata": {
				"id": "TwHsQRWjz3i9",
				"outputId": "86849db3-cd2f-4cc5-ebb8-2d0caafa1a2c",
				"tags": []
			},
			"outputs": [
				{
					"name": "stdout",
					"output_type": "stream",
					"text": [
						"You set a new current directory\n"
					]
				}
			],
			"source": [
				"os.chdir(os.path.dirname(current_dir))\n",
				"print(\"You set a new current directory\")"
			]
		},
		{
			"cell_type": "markdown",
			"metadata": {
				"id": "M_xPk_Ijz3i-"
			},
			"source": [
				"Confirm the new current directory"
			]
		},
		{
			"cell_type": "code",
			"execution_count": 3,
			"metadata": {
				"id": "vz3S-_kjz3jA",
				"outputId": "00b79ae4-75d0-4a96-d193-ac9ef9847ea2"
			},
			"outputs": [
				{
					"data": {
						"text/plain": [
							"'/workspace/Breast-Cancer-Prediction'"
						]
					},
					"execution_count": 3,
					"metadata": {},
					"output_type": "execute_result"
				}
			],
			"source": [
				"current_dir = os.getcwd()\n",
				"current_dir"
			]
		},
		{
			"attachments": {},
			"cell_type": "markdown",
			"metadata": {
				"id": "-mavJ8DibrcQ"
			},
			"source": [
				"# Getting Started: Load libraries and set options"
			]
		},
		{
			"cell_type": "code",
			"execution_count": 4,
			"metadata": {
				"tags": []
			},
			"outputs": [
				{
					"name": "stdout",
					"output_type": "stream",
					"text": [
						"Requirement already satisfied: numpy==1.21.0 in /workspace/.pip-modules/lib/python3.8/site-packages (from -r requirements.txt (line 1)) (1.21.0)\n",
						"Requirement already satisfied: pandas==1.5.3 in /workspace/.pip-modules/lib/python3.8/site-packages (from -r requirements.txt (line 2)) (1.5.3)\n",
						"Requirement already satisfied: matplotlib==3.6.3 in /workspace/.pip-modules/lib/python3.8/site-packages (from -r requirements.txt (line 3)) (3.6.3)\n",
						"Requirement already satisfied: seaborn==0.12.2 in /workspace/.pip-modules/lib/python3.8/site-packages (from -r requirements.txt (line 4)) (0.12.2)\n",
						"Requirement already satisfied: pandas-profiling==3.6.6 in /workspace/.pip-modules/lib/python3.8/site-packages (from -r requirements.txt (line 5)) (3.6.6)\n",
						"Requirement already satisfied: plotly==5.2.1 in /workspace/.pip-modules/lib/python3.8/site-packages (from -r requirements.txt (line 6)) (5.2.1)\n",
						"Requirement already satisfied: streamlit==1.20.0 in /workspace/.pip-modules/lib/python3.8/site-packages (from -r requirements.txt (line 7)) (1.20.0)\n",
						"Requirement already satisfied: feature-engine==1.6.0 in /workspace/.pip-modules/lib/python3.8/site-packages (from -r requirements.txt (line 8)) (1.6.0)\n",
						"Requirement already satisfied: imbalanced-learn==0.10.1 in /workspace/.pip-modules/lib/python3.8/site-packages (from -r requirements.txt (line 9)) (0.10.1)\n",
						"Requirement already satisfied: scikit-learn==1.2.2 in /workspace/.pip-modules/lib/python3.8/site-packages (from -r requirements.txt (line 10)) (1.2.2)\n",
						"Requirement already satisfied: xgboost==1.7.5 in /workspace/.pip-modules/lib/python3.8/site-packages (from -r requirements.txt (line 11)) (1.7.5)\n",
						"Requirement already satisfied: yellowbrick==1.5 in /workspace/.pip-modules/lib/python3.8/site-packages (from -r requirements.txt (line 12)) (1.5)\n",
						"Requirement already satisfied: Jinja2==3.1.2 in /home/gitpod/.pyenv/versions/3.8.12/lib/python3.8/site-packages (from -r requirements.txt (line 13)) (3.1.2)\n",
						"Requirement already satisfied: MarkupSafe==2.0.1 in /workspace/.pip-modules/lib/python3.8/site-packages (from -r requirements.txt (line 14)) (2.0.1)\n",
						"Requirement already satisfied: protobuf==3.12.2 in /workspace/.pip-modules/lib/python3.8/site-packages (from -r requirements.txt (line 15)) (3.12.2)\n",
						"Requirement already satisfied: ipywidgets==8.0.2 in /workspace/.pip-modules/lib/python3.8/site-packages (from -r requirements.txt (line 16)) (8.0.2)\n",
						"Requirement already satisfied: python-dateutil>=2.8.1 in /home/gitpod/.pyenv/versions/3.8.12/lib/python3.8/site-packages (from pandas==1.5.3->-r requirements.txt (line 2)) (2.8.2)\n",
						"Requirement already satisfied: pytz>=2020.1 in /workspace/.pip-modules/lib/python3.8/site-packages (from pandas==1.5.3->-r requirements.txt (line 2)) (2023.3)\n",
						"Requirement already satisfied: contourpy>=1.0.1 in /workspace/.pip-modules/lib/python3.8/site-packages (from matplotlib==3.6.3->-r requirements.txt (line 3)) (1.0.7)\n",
						"Requirement already satisfied: pyparsing>=2.2.1 in /workspace/.pip-modules/lib/python3.8/site-packages (from matplotlib==3.6.3->-r requirements.txt (line 3)) (3.0.9)\n",
						"Requirement already satisfied: packaging>=20.0 in /home/gitpod/.pyenv/versions/3.8.12/lib/python3.8/site-packages (from matplotlib==3.6.3->-r requirements.txt (line 3)) (23.0)\n",
						"Requirement already satisfied: kiwisolver>=1.0.1 in /workspace/.pip-modules/lib/python3.8/site-packages (from matplotlib==3.6.3->-r requirements.txt (line 3)) (1.4.4)\n",
						"Requirement already satisfied: cycler>=0.10 in /workspace/.pip-modules/lib/python3.8/site-packages (from matplotlib==3.6.3->-r requirements.txt (line 3)) (0.11.0)\n",
						"Requirement already satisfied: fonttools>=4.22.0 in /workspace/.pip-modules/lib/python3.8/site-packages (from matplotlib==3.6.3->-r requirements.txt (line 3)) (4.39.3)\n",
						"Requirement already satisfied: pillow>=6.2.0 in /workspace/.pip-modules/lib/python3.8/site-packages (from matplotlib==3.6.3->-r requirements.txt (line 3)) (9.5.0)\n",
						"Requirement already satisfied: ydata-profiling in /workspace/.pip-modules/lib/python3.8/site-packages (from pandas-profiling==3.6.6->-r requirements.txt (line 5)) (4.1.2)\n",
						"Requirement already satisfied: six in /home/gitpod/.pyenv/versions/3.8.12/lib/python3.8/site-packages (from plotly==5.2.1->-r requirements.txt (line 6)) (1.16.0)\n",
						"Requirement already satisfied: tenacity>=6.2.0 in /workspace/.pip-modules/lib/python3.8/site-packages (from plotly==5.2.1->-r requirements.txt (line 6)) (8.2.2)\n",
						"Requirement already satisfied: pydeck>=0.1.dev5 in /workspace/.pip-modules/lib/python3.8/site-packages (from streamlit==1.20.0->-r requirements.txt (line 7)) (0.8.1b0)\n",
						"Requirement already satisfied: pyarrow>=4.0 in /workspace/.pip-modules/lib/python3.8/site-packages (from streamlit==1.20.0->-r requirements.txt (line 7)) (12.0.0)\n",
						"Requirement already satisfied: pympler>=0.9 in /workspace/.pip-modules/lib/python3.8/site-packages (from streamlit==1.20.0->-r requirements.txt (line 7)) (1.0.1)\n",
						"Requirement already satisfied: importlib-metadata>=1.4 in /home/gitpod/.pyenv/versions/3.8.12/lib/python3.8/site-packages (from streamlit==1.20.0->-r requirements.txt (line 7)) (6.3.0)\n",
						"Requirement already satisfied: blinker>=1.0.0 in /workspace/.pip-modules/lib/python3.8/site-packages (from streamlit==1.20.0->-r requirements.txt (line 7)) (1.6.2)\n",
						"Requirement already satisfied: toml in /workspace/.pip-modules/lib/python3.8/site-packages (from streamlit==1.20.0->-r requirements.txt (line 7)) (0.10.2)\n",
						"Requirement already satisfied: cachetools>=4.0 in /workspace/.pip-modules/lib/python3.8/site-packages (from streamlit==1.20.0->-r requirements.txt (line 7)) (5.3.0)\n",
						"Requirement already satisfied: typing-extensions>=3.10.0.0 in /home/gitpod/.pyenv/versions/3.8.12/lib/python3.8/site-packages (from streamlit==1.20.0->-r requirements.txt (line 7)) (4.5.0)\n",
						"Requirement already satisfied: tornado>=6.0.3 in /home/gitpod/.pyenv/versions/3.8.12/lib/python3.8/site-packages (from streamlit==1.20.0->-r requirements.txt (line 7)) (6.2)\n",
						"Requirement already satisfied: watchdog in /workspace/.pip-modules/lib/python3.8/site-packages (from streamlit==1.20.0->-r requirements.txt (line 7)) (3.0.0)\n",
						"Requirement already satisfied: altair<5,>=3.2.0 in /workspace/.pip-modules/lib/python3.8/site-packages (from streamlit==1.20.0->-r requirements.txt (line 7)) (4.2.2)\n",
						"Requirement already satisfied: semver in /workspace/.pip-modules/lib/python3.8/site-packages (from streamlit==1.20.0->-r requirements.txt (line 7)) (3.0.0)\n",
						"Requirement already satisfied: rich>=10.11.0 in /home/gitpod/.pyenv/versions/3.8.12/lib/python3.8/site-packages (from streamlit==1.20.0->-r requirements.txt (line 7)) (13.3.3)\n",
						"Requirement already satisfied: tzlocal>=1.1 in /workspace/.pip-modules/lib/python3.8/site-packages (from streamlit==1.20.0->-r requirements.txt (line 7)) (4.3)\n",
						"Requirement already satisfied: validators>=0.2 in /workspace/.pip-modules/lib/python3.8/site-packages (from streamlit==1.20.0->-r requirements.txt (line 7)) (0.20.0)\n",
						"Requirement already satisfied: requests>=2.4 in /home/gitpod/.pyenv/versions/3.8.12/lib/python3.8/site-packages (from streamlit==1.20.0->-r requirements.txt (line 7)) (2.28.2)\n",
						"Requirement already satisfied: click>=7.0 in /workspace/.pip-modules/lib/python3.8/site-packages (from streamlit==1.20.0->-r requirements.txt (line 7)) (8.1.3)\n",
						"Requirement already satisfied: gitpython!=3.1.19 in /home/gitpod/.pyenv/versions/3.8.12/lib/python3.8/site-packages (from streamlit==1.20.0->-r requirements.txt (line 7)) (3.1.31)\n",
						"Requirement already satisfied: scipy>=1.4.1 in /workspace/.pip-modules/lib/python3.8/site-packages (from feature-engine==1.6.0->-r requirements.txt (line 8)) (1.9.3)\n",
						"Requirement already satisfied: statsmodels>=0.11.1 in /workspace/.pip-modules/lib/python3.8/site-packages (from feature-engine==1.6.0->-r requirements.txt (line 8)) (0.13.5)\n",
						"Requirement already satisfied: joblib>=1.1.1 in /workspace/.pip-modules/lib/python3.8/site-packages (from imbalanced-learn==0.10.1->-r requirements.txt (line 9)) (1.2.0)\n",
						"Requirement already satisfied: threadpoolctl>=2.0.0 in /workspace/.pip-modules/lib/python3.8/site-packages (from imbalanced-learn==0.10.1->-r requirements.txt (line 9)) (3.1.0)\n",
						"Requirement already satisfied: setuptools in /home/gitpod/.pyenv/versions/3.8.12/lib/python3.8/site-packages (from protobuf==3.12.2->-r requirements.txt (line 15)) (67.6.1)\n",
						"Requirement already satisfied: jupyterlab-widgets~=3.0 in /workspace/.pip-modules/lib/python3.8/site-packages (from ipywidgets==8.0.2->-r requirements.txt (line 16)) (3.0.7)\n",
						"Requirement already satisfied: traitlets>=4.3.1 in /home/gitpod/.pyenv/versions/3.8.12/lib/python3.8/site-packages (from ipywidgets==8.0.2->-r requirements.txt (line 16)) (5.9.0)\n",
						"Requirement already satisfied: widgetsnbextension~=4.0 in /workspace/.pip-modules/lib/python3.8/site-packages (from ipywidgets==8.0.2->-r requirements.txt (line 16)) (4.0.7)\n",
						"Requirement already satisfied: ipykernel>=4.5.1 in /home/gitpod/.pyenv/versions/3.8.12/lib/python3.8/site-packages (from ipywidgets==8.0.2->-r requirements.txt (line 16)) (6.22.0)\n",
						"Requirement already satisfied: ipython>=6.1.0 in /home/gitpod/.pyenv/versions/3.8.12/lib/python3.8/site-packages (from ipywidgets==8.0.2->-r requirements.txt (line 16)) (8.12.0)\n",
						"Requirement already satisfied: jsonschema>=3.0 in /home/gitpod/.pyenv/versions/3.8.12/lib/python3.8/site-packages (from altair<5,>=3.2.0->streamlit==1.20.0->-r requirements.txt (line 7)) (4.17.3)\n",
						"Requirement already satisfied: toolz in /workspace/.pip-modules/lib/python3.8/site-packages (from altair<5,>=3.2.0->streamlit==1.20.0->-r requirements.txt (line 7)) (0.12.0)\n",
						"Requirement already satisfied: entrypoints in /workspace/.pip-modules/lib/python3.8/site-packages (from altair<5,>=3.2.0->streamlit==1.20.0->-r requirements.txt (line 7)) (0.4)\n",
						"Requirement already satisfied: gitdb<5,>=4.0.1 in /home/gitpod/.pyenv/versions/3.8.12/lib/python3.8/site-packages (from gitpython!=3.1.19->streamlit==1.20.0->-r requirements.txt (line 7)) (4.0.10)\n",
						"Requirement already satisfied: zipp>=0.5 in /home/gitpod/.pyenv/versions/3.8.12/lib/python3.8/site-packages (from importlib-metadata>=1.4->streamlit==1.20.0->-r requirements.txt (line 7)) (3.15.0)\n",
						"Requirement already satisfied: psutil in /home/gitpod/.pyenv/versions/3.8.12/lib/python3.8/site-packages (from ipykernel>=4.5.1->ipywidgets==8.0.2->-r requirements.txt (line 16)) (5.9.4)\n",
						"Requirement already satisfied: matplotlib-inline>=0.1 in /home/gitpod/.pyenv/versions/3.8.12/lib/python3.8/site-packages (from ipykernel>=4.5.1->ipywidgets==8.0.2->-r requirements.txt (line 16)) (0.1.6)\n",
						"Requirement already satisfied: jupyter-client>=6.1.12 in /home/gitpod/.pyenv/versions/3.8.12/lib/python3.8/site-packages (from ipykernel>=4.5.1->ipywidgets==8.0.2->-r requirements.txt (line 16)) (8.1.0)\n",
						"Requirement already satisfied: debugpy>=1.6.5 in /home/gitpod/.pyenv/versions/3.8.12/lib/python3.8/site-packages (from ipykernel>=4.5.1->ipywidgets==8.0.2->-r requirements.txt (line 16)) (1.6.7)\n",
						"Requirement already satisfied: pyzmq>=20 in /home/gitpod/.pyenv/versions/3.8.12/lib/python3.8/site-packages (from ipykernel>=4.5.1->ipywidgets==8.0.2->-r requirements.txt (line 16)) (25.0.2)\n",
						"Requirement already satisfied: nest-asyncio in /home/gitpod/.pyenv/versions/3.8.12/lib/python3.8/site-packages (from ipykernel>=4.5.1->ipywidgets==8.0.2->-r requirements.txt (line 16)) (1.5.6)\n",
						"Requirement already satisfied: comm>=0.1.1 in /home/gitpod/.pyenv/versions/3.8.12/lib/python3.8/site-packages (from ipykernel>=4.5.1->ipywidgets==8.0.2->-r requirements.txt (line 16)) (0.1.3)\n",
						"Requirement already satisfied: jupyter-core!=5.0.*,>=4.12 in /home/gitpod/.pyenv/versions/3.8.12/lib/python3.8/site-packages (from ipykernel>=4.5.1->ipywidgets==8.0.2->-r requirements.txt (line 16)) (5.3.0)\n",
						"Requirement already satisfied: stack-data in /home/gitpod/.pyenv/versions/3.8.12/lib/python3.8/site-packages (from ipython>=6.1.0->ipywidgets==8.0.2->-r requirements.txt (line 16)) (0.6.2)\n",
						"Requirement already satisfied: pexpect>4.3 in /home/gitpod/.pyenv/versions/3.8.12/lib/python3.8/site-packages (from ipython>=6.1.0->ipywidgets==8.0.2->-r requirements.txt (line 16)) (4.8.0)\n",
						"Requirement already satisfied: decorator in /home/gitpod/.pyenv/versions/3.8.12/lib/python3.8/site-packages (from ipython>=6.1.0->ipywidgets==8.0.2->-r requirements.txt (line 16)) (5.1.1)\n",
						"Requirement already satisfied: backcall in /home/gitpod/.pyenv/versions/3.8.12/lib/python3.8/site-packages (from ipython>=6.1.0->ipywidgets==8.0.2->-r requirements.txt (line 16)) (0.2.0)\n",
						"Requirement already satisfied: jedi>=0.16 in /home/gitpod/.pyenv/versions/3.8.12/lib/python3.8/site-packages (from ipython>=6.1.0->ipywidgets==8.0.2->-r requirements.txt (line 16)) (0.18.2)\n",
						"Requirement already satisfied: pickleshare in /home/gitpod/.pyenv/versions/3.8.12/lib/python3.8/site-packages (from ipython>=6.1.0->ipywidgets==8.0.2->-r requirements.txt (line 16)) (0.7.5)\n",
						"Requirement already satisfied: prompt-toolkit!=3.0.37,<3.1.0,>=3.0.30 in /home/gitpod/.pyenv/versions/3.8.12/lib/python3.8/site-packages (from ipython>=6.1.0->ipywidgets==8.0.2->-r requirements.txt (line 16)) (3.0.38)\n",
						"Requirement already satisfied: pygments>=2.4.0 in /home/gitpod/.pyenv/versions/3.8.12/lib/python3.8/site-packages (from ipython>=6.1.0->ipywidgets==8.0.2->-r requirements.txt (line 16)) (2.15.0)\n",
						"Requirement already satisfied: charset-normalizer<4,>=2 in /home/gitpod/.pyenv/versions/3.8.12/lib/python3.8/site-packages (from requests>=2.4->streamlit==1.20.0->-r requirements.txt (line 7)) (3.1.0)\n",
						"Requirement already satisfied: certifi>=2017.4.17 in /home/gitpod/.pyenv/versions/3.8.12/lib/python3.8/site-packages (from requests>=2.4->streamlit==1.20.0->-r requirements.txt (line 7)) (2022.12.7)\n",
						"Requirement already satisfied: idna<4,>=2.5 in /home/gitpod/.pyenv/versions/3.8.12/lib/python3.8/site-packages (from requests>=2.4->streamlit==1.20.0->-r requirements.txt (line 7)) (3.4)\n",
						"Requirement already satisfied: urllib3<1.27,>=1.21.1 in /home/gitpod/.pyenv/versions/3.8.12/lib/python3.8/site-packages (from requests>=2.4->streamlit==1.20.0->-r requirements.txt (line 7)) (1.26.15)\n",
						"Requirement already satisfied: markdown-it-py<3.0.0,>=2.2.0 in /home/gitpod/.pyenv/versions/3.8.12/lib/python3.8/site-packages (from rich>=10.11.0->streamlit==1.20.0->-r requirements.txt (line 7)) (2.2.0)\n",
						"Requirement already satisfied: patsy>=0.5.2 in /workspace/.pip-modules/lib/python3.8/site-packages (from statsmodels>=0.11.1->feature-engine==1.6.0->-r requirements.txt (line 8)) (0.5.3)\n",
						"Requirement already satisfied: pytz-deprecation-shim in /workspace/.pip-modules/lib/python3.8/site-packages (from tzlocal>=1.1->streamlit==1.20.0->-r requirements.txt (line 7)) (0.1.0.post0)\n",
						"Requirement already satisfied: backports.zoneinfo in /workspace/.pip-modules/lib/python3.8/site-packages (from tzlocal>=1.1->streamlit==1.20.0->-r requirements.txt (line 7)) (0.2.1)\n",
						"Requirement already satisfied: typeguard<2.14,>=2.13.2 in /workspace/.pip-modules/lib/python3.8/site-packages (from ydata-profiling->pandas-profiling==3.6.6->-r requirements.txt (line 5)) (2.13.3)\n",
						"Requirement already satisfied: visions[type_image_path]==0.7.5 in /workspace/.pip-modules/lib/python3.8/site-packages (from ydata-profiling->pandas-profiling==3.6.6->-r requirements.txt (line 5)) (0.7.5)\n",
						"Requirement already satisfied: htmlmin==0.1.12 in /workspace/.pip-modules/lib/python3.8/site-packages (from ydata-profiling->pandas-profiling==3.6.6->-r requirements.txt (line 5)) (0.1.12)\n",
						"Requirement already satisfied: tqdm<4.65,>=4.48.2 in /workspace/.pip-modules/lib/python3.8/site-packages (from ydata-profiling->pandas-profiling==3.6.6->-r requirements.txt (line 5)) (4.64.1)\n",
						"Requirement already satisfied: phik<0.13,>=0.11.1 in /workspace/.pip-modules/lib/python3.8/site-packages (from ydata-profiling->pandas-profiling==3.6.6->-r requirements.txt (line 5)) (0.12.3)\n",
						"Requirement already satisfied: imagehash==4.3.1 in /workspace/.pip-modules/lib/python3.8/site-packages (from ydata-profiling->pandas-profiling==3.6.6->-r requirements.txt (line 5)) (4.3.1)\n",
						"Requirement already satisfied: pydantic<1.11,>=1.8.1 in /workspace/.pip-modules/lib/python3.8/site-packages (from ydata-profiling->pandas-profiling==3.6.6->-r requirements.txt (line 5)) (1.10.7)\n",
						"Requirement already satisfied: PyYAML<6.1,>=5.0.0 in /home/gitpod/.pyenv/versions/3.8.12/lib/python3.8/site-packages (from ydata-profiling->pandas-profiling==3.6.6->-r requirements.txt (line 5)) (6.0)\n",
						"Requirement already satisfied: multimethod<1.10,>=1.4 in /workspace/.pip-modules/lib/python3.8/site-packages (from ydata-profiling->pandas-profiling==3.6.6->-r requirements.txt (line 5)) (1.9.1)\n",
						"Requirement already satisfied: PyWavelets in /workspace/.pip-modules/lib/python3.8/site-packages (from imagehash==4.3.1->ydata-profiling->pandas-profiling==3.6.6->-r requirements.txt (line 5)) (1.4.1)\n",
						"Requirement already satisfied: attrs>=19.3.0 in /home/gitpod/.pyenv/versions/3.8.12/lib/python3.8/site-packages (from visions[type_image_path]==0.7.5->ydata-profiling->pandas-profiling==3.6.6->-r requirements.txt (line 5)) (22.2.0)\n",
						"Requirement already satisfied: tangled-up-in-unicode>=0.0.4 in /workspace/.pip-modules/lib/python3.8/site-packages (from visions[type_image_path]==0.7.5->ydata-profiling->pandas-profiling==3.6.6->-r requirements.txt (line 5)) (0.2.0)\n",
						"Requirement already satisfied: networkx>=2.4 in /workspace/.pip-modules/lib/python3.8/site-packages (from visions[type_image_path]==0.7.5->ydata-profiling->pandas-profiling==3.6.6->-r requirements.txt (line 5)) (3.1)\n",
						"Requirement already satisfied: smmap<6,>=3.0.1 in /home/gitpod/.pyenv/versions/3.8.12/lib/python3.8/site-packages (from gitdb<5,>=4.0.1->gitpython!=3.1.19->streamlit==1.20.0->-r requirements.txt (line 7)) (5.0.0)\n",
						"Requirement already satisfied: parso<0.9.0,>=0.8.0 in /home/gitpod/.pyenv/versions/3.8.12/lib/python3.8/site-packages (from jedi>=0.16->ipython>=6.1.0->ipywidgets==8.0.2->-r requirements.txt (line 16)) (0.8.3)\n",
						"Requirement already satisfied: importlib-resources>=1.4.0 in /home/gitpod/.pyenv/versions/3.8.12/lib/python3.8/site-packages (from jsonschema>=3.0->altair<5,>=3.2.0->streamlit==1.20.0->-r requirements.txt (line 7)) (5.12.0)\n",
						"Requirement already satisfied: pyrsistent!=0.17.0,!=0.17.1,!=0.17.2,>=0.14.0 in /home/gitpod/.pyenv/versions/3.8.12/lib/python3.8/site-packages (from jsonschema>=3.0->altair<5,>=3.2.0->streamlit==1.20.0->-r requirements.txt (line 7)) (0.19.3)\n",
						"Requirement already satisfied: pkgutil-resolve-name>=1.3.10 in /home/gitpod/.pyenv/versions/3.8.12/lib/python3.8/site-packages (from jsonschema>=3.0->altair<5,>=3.2.0->streamlit==1.20.0->-r requirements.txt (line 7)) (1.3.10)\n",
						"Requirement already satisfied: platformdirs>=2.5 in /home/gitpod/.pyenv/versions/3.8.12/lib/python3.8/site-packages (from jupyter-core!=5.0.*,>=4.12->ipykernel>=4.5.1->ipywidgets==8.0.2->-r requirements.txt (line 16)) (3.2.0)\n",
						"Requirement already satisfied: mdurl~=0.1 in /home/gitpod/.pyenv/versions/3.8.12/lib/python3.8/site-packages (from markdown-it-py<3.0.0,>=2.2.0->rich>=10.11.0->streamlit==1.20.0->-r requirements.txt (line 7)) (0.1.2)\n",
						"Requirement already satisfied: ptyprocess>=0.5 in /home/gitpod/.pyenv/versions/3.8.12/lib/python3.8/site-packages (from pexpect>4.3->ipython>=6.1.0->ipywidgets==8.0.2->-r requirements.txt (line 16)) (0.7.0)\n",
						"Requirement already satisfied: wcwidth in /home/gitpod/.pyenv/versions/3.8.12/lib/python3.8/site-packages (from prompt-toolkit!=3.0.37,<3.1.0,>=3.0.30->ipython>=6.1.0->ipywidgets==8.0.2->-r requirements.txt (line 16)) (0.2.6)\n",
						"Requirement already satisfied: tzdata in /workspace/.pip-modules/lib/python3.8/site-packages (from pytz-deprecation-shim->tzlocal>=1.1->streamlit==1.20.0->-r requirements.txt (line 7)) (2023.3)\n",
						"Requirement already satisfied: executing>=1.2.0 in /home/gitpod/.pyenv/versions/3.8.12/lib/python3.8/site-packages (from stack-data->ipython>=6.1.0->ipywidgets==8.0.2->-r requirements.txt (line 16)) (1.2.0)\n",
						"Requirement already satisfied: pure-eval in /home/gitpod/.pyenv/versions/3.8.12/lib/python3.8/site-packages (from stack-data->ipython>=6.1.0->ipywidgets==8.0.2->-r requirements.txt (line 16)) (0.2.2)\n",
						"Requirement already satisfied: asttokens>=2.1.0 in /home/gitpod/.pyenv/versions/3.8.12/lib/python3.8/site-packages (from stack-data->ipython>=6.1.0->ipywidgets==8.0.2->-r requirements.txt (line 16)) (2.2.1)\n",
						"\n",
						"\u001b[1m[\u001b[0m\u001b[34;49mnotice\u001b[0m\u001b[1;39;49m]\u001b[0m\u001b[39;49m A new release of pip is available: \u001b[0m\u001b[31;49m23.0.1\u001b[0m\u001b[39;49m -> \u001b[0m\u001b[32;49m23.1.2\u001b[0m\n",
						"\u001b[1m[\u001b[0m\u001b[34;49mnotice\u001b[0m\u001b[1;39;49m]\u001b[0m\u001b[39;49m To update, run: \u001b[0m\u001b[32;49mpip install --upgrade pip\u001b[0m\n"
					]
				}
			],
			"source": [
				"!  pip install -r requirements.txt"
			]
		},
		{
			"cell_type": "code",
			"execution_count": 5,
			"metadata": {
				"tags": []
			},
			"outputs": [],
			"source": [
				"#load libraries\n",
				"import numpy as np         # linear algebra\n",
				"import pandas as pd        # data processing, CSV file I/O (e.g. pd.read_csv)\n"
			]
		},
		{
			"attachments": {},
			"cell_type": "markdown",
			"metadata": {
				"id": "wNYS7ArHuGfT"
			},
			"source": [
				"We are using the following data from Kaggle [Kaggle URL](https://www.kaggle.com/datasets/vijayaadithyanvg/breast-cancer-prediction) I downloaded it as a csv file and imported the csv file to the repo"
			]
		},
		{
			"cell_type": "code",
			"execution_count": 6,
			"metadata": {},
			"outputs": [],
			"source": [
				"# Read the file \"data.csv\" and print the contents.\n",
				"df = pd.read_csv(\"inputs/datasets/raw/data.csv\", index_col=False)"
			]
		},
		{
			"cell_type": "markdown",
			"metadata": {},
			"source": [
				"# Inspecting the data\n",
				"\n",
				"The first step is to visually inspect the new data set. There are multiple ways to achieve this:\n",
				"\n",
				"•\tThe easiest being to request the first few records using the DataFrame data.head() method. By default,      data.head() returns the first 5 rows from the DataFrame object df (excluding the header row).\n",
				"\n",
				"•\tAlternatively, one can also use df.tail() to return the five rows of the data frame.\n",
				"\n",
				"•\tFor both head and tail methods, there is an option to specify the number of records by including the required number in between the parentheses when calling either method.Inspecting the data\n"
			]
		},
		{
			"cell_type": "code",
			"execution_count": 7,
			"metadata": {},
			"outputs": [
				{
					"data": {
						"text/html": [
							"<div>\n",
							"<style scoped>\n",
							"    .dataframe tbody tr th:only-of-type {\n",
							"        vertical-align: middle;\n",
							"    }\n",
							"\n",
							"    .dataframe tbody tr th {\n",
							"        vertical-align: top;\n",
							"    }\n",
							"\n",
							"    .dataframe thead th {\n",
							"        text-align: right;\n",
							"    }\n",
							"</style>\n",
							"<table border=\"1\" class=\"dataframe\">\n",
							"  <thead>\n",
							"    <tr style=\"text-align: right;\">\n",
							"      <th></th>\n",
							"      <th>id</th>\n",
							"      <th>diagnosis</th>\n",
							"      <th>Radius_mean</th>\n",
							"      <th>Texture_mean</th>\n",
							"      <th>perimeter_mean</th>\n",
							"      <th>area_mean</th>\n",
							"      <th>smoothness_mean</th>\n",
							"      <th>compactness_mean</th>\n",
							"      <th>concavity_mean</th>\n",
							"      <th>concave points_mean</th>\n",
							"      <th>...</th>\n",
							"      <th>radius_worst</th>\n",
							"      <th>texture_worst</th>\n",
							"      <th>perimeter_worst</th>\n",
							"      <th>area_worst</th>\n",
							"      <th>smoothness_worst</th>\n",
							"      <th>compactness_worst</th>\n",
							"      <th>concavity_worst</th>\n",
							"      <th>concave points_worst</th>\n",
							"      <th>symmetry_worst</th>\n",
							"      <th>fractal_dimension_worst</th>\n",
							"    </tr>\n",
							"  </thead>\n",
							"  <tbody>\n",
							"    <tr>\n",
							"      <th>0</th>\n",
							"      <td>842302</td>\n",
							"      <td>M</td>\n",
							"      <td>17.99</td>\n",
							"      <td>10.38</td>\n",
							"      <td>122.80</td>\n",
							"      <td>1001.0</td>\n",
							"      <td>0.11840</td>\n",
							"      <td>0.27760</td>\n",
							"      <td>0.3001</td>\n",
							"      <td>0.14710</td>\n",
							"      <td>...</td>\n",
							"      <td>25.38</td>\n",
							"      <td>17.33</td>\n",
							"      <td>184.60</td>\n",
							"      <td>2019.0</td>\n",
							"      <td>0.1622</td>\n",
							"      <td>0.6656</td>\n",
							"      <td>0.7119</td>\n",
							"      <td>0.2654</td>\n",
							"      <td>0.4601</td>\n",
							"      <td>0.11890</td>\n",
							"    </tr>\n",
							"    <tr>\n",
							"      <th>1</th>\n",
							"      <td>842517</td>\n",
							"      <td>M</td>\n",
							"      <td>20.57</td>\n",
							"      <td>21.77</td>\n",
							"      <td>132.90</td>\n",
							"      <td>1326.0</td>\n",
							"      <td>0.08474</td>\n",
							"      <td>0.07864</td>\n",
							"      <td>0.0869</td>\n",
							"      <td>0.07017</td>\n",
							"      <td>...</td>\n",
							"      <td>24.99</td>\n",
							"      <td>23.41</td>\n",
							"      <td>158.80</td>\n",
							"      <td>1956.0</td>\n",
							"      <td>0.1238</td>\n",
							"      <td>0.1866</td>\n",
							"      <td>0.2416</td>\n",
							"      <td>0.1860</td>\n",
							"      <td>0.2750</td>\n",
							"      <td>0.08902</td>\n",
							"    </tr>\n",
							"    <tr>\n",
							"      <th>2</th>\n",
							"      <td>84300903</td>\n",
							"      <td>M</td>\n",
							"      <td>19.69</td>\n",
							"      <td>21.25</td>\n",
							"      <td>130.00</td>\n",
							"      <td>1203.0</td>\n",
							"      <td>0.10960</td>\n",
							"      <td>0.15990</td>\n",
							"      <td>0.1974</td>\n",
							"      <td>0.12790</td>\n",
							"      <td>...</td>\n",
							"      <td>23.57</td>\n",
							"      <td>25.53</td>\n",
							"      <td>152.50</td>\n",
							"      <td>1709.0</td>\n",
							"      <td>0.1444</td>\n",
							"      <td>0.4245</td>\n",
							"      <td>0.4504</td>\n",
							"      <td>0.2430</td>\n",
							"      <td>0.3613</td>\n",
							"      <td>0.08758</td>\n",
							"    </tr>\n",
							"    <tr>\n",
							"      <th>3</th>\n",
							"      <td>84348301</td>\n",
							"      <td>M</td>\n",
							"      <td>11.42</td>\n",
							"      <td>20.38</td>\n",
							"      <td>77.58</td>\n",
							"      <td>386.1</td>\n",
							"      <td>0.14250</td>\n",
							"      <td>0.28390</td>\n",
							"      <td>0.2414</td>\n",
							"      <td>0.10520</td>\n",
							"      <td>...</td>\n",
							"      <td>14.91</td>\n",
							"      <td>26.50</td>\n",
							"      <td>98.87</td>\n",
							"      <td>567.7</td>\n",
							"      <td>0.2098</td>\n",
							"      <td>0.8663</td>\n",
							"      <td>0.6869</td>\n",
							"      <td>0.2575</td>\n",
							"      <td>0.6638</td>\n",
							"      <td>0.17300</td>\n",
							"    </tr>\n",
							"    <tr>\n",
							"      <th>4</th>\n",
							"      <td>84358402</td>\n",
							"      <td>M</td>\n",
							"      <td>20.29</td>\n",
							"      <td>14.34</td>\n",
							"      <td>135.10</td>\n",
							"      <td>1297.0</td>\n",
							"      <td>0.10030</td>\n",
							"      <td>0.13280</td>\n",
							"      <td>0.1980</td>\n",
							"      <td>0.10430</td>\n",
							"      <td>...</td>\n",
							"      <td>22.54</td>\n",
							"      <td>16.67</td>\n",
							"      <td>152.20</td>\n",
							"      <td>1575.0</td>\n",
							"      <td>0.1374</td>\n",
							"      <td>0.2050</td>\n",
							"      <td>0.4000</td>\n",
							"      <td>0.1625</td>\n",
							"      <td>0.2364</td>\n",
							"      <td>0.07678</td>\n",
							"    </tr>\n",
							"  </tbody>\n",
							"</table>\n",
							"<p>5 rows × 32 columns</p>\n",
							"</div>"
						],
						"text/plain": [
							"         id diagnosis  Radius_mean  Texture_mean  perimeter_mean  area_mean  \\\n",
							"0    842302         M        17.99         10.38          122.80     1001.0   \n",
							"1    842517         M        20.57         21.77          132.90     1326.0   \n",
							"2  84300903         M        19.69         21.25          130.00     1203.0   \n",
							"3  84348301         M        11.42         20.38           77.58      386.1   \n",
							"4  84358402         M        20.29         14.34          135.10     1297.0   \n",
							"\n",
							"   smoothness_mean  compactness_mean  concavity_mean  concave points_mean  \\\n",
							"0          0.11840           0.27760          0.3001              0.14710   \n",
							"1          0.08474           0.07864          0.0869              0.07017   \n",
							"2          0.10960           0.15990          0.1974              0.12790   \n",
							"3          0.14250           0.28390          0.2414              0.10520   \n",
							"4          0.10030           0.13280          0.1980              0.10430   \n",
							"\n",
							"   ...  radius_worst  texture_worst  perimeter_worst  area_worst  \\\n",
							"0  ...         25.38          17.33           184.60      2019.0   \n",
							"1  ...         24.99          23.41           158.80      1956.0   \n",
							"2  ...         23.57          25.53           152.50      1709.0   \n",
							"3  ...         14.91          26.50            98.87       567.7   \n",
							"4  ...         22.54          16.67           152.20      1575.0   \n",
							"\n",
							"   smoothness_worst  compactness_worst  concavity_worst  concave points_worst  \\\n",
							"0            0.1622             0.6656           0.7119                0.2654   \n",
							"1            0.1238             0.1866           0.2416                0.1860   \n",
							"2            0.1444             0.4245           0.4504                0.2430   \n",
							"3            0.2098             0.8663           0.6869                0.2575   \n",
							"4            0.1374             0.2050           0.4000                0.1625   \n",
							"\n",
							"   symmetry_worst  fractal_dimension_worst  \n",
							"0          0.4601                  0.11890  \n",
							"1          0.2750                  0.08902  \n",
							"2          0.3613                  0.08758  \n",
							"3          0.6638                  0.17300  \n",
							"4          0.2364                  0.07678  \n",
							"\n",
							"[5 rows x 32 columns]"
						]
					},
					"execution_count": 7,
					"metadata": {},
					"output_type": "execute_result"
				}
			],
			"source": [
				"df.head()"
			]
		},
		{
			"cell_type": "markdown",
			"metadata": {},
			"source": []
		},
		{
			"cell_type": "code",
			"execution_count": 9,
			"metadata": {},
			"outputs": [],
			"source": [
				"# Save the cleaner version of dataframe with \"id\" for future analyis\n",
				"df.to_csv('inputs/datasets/raw/data.csv')\n"
			]
		},
		{
			"cell_type": "markdown",
			"metadata": {},
			"source": [
				"You can check the number of cases, as well as the number of fields, using the shape method, as shown below."
			]
		},
		{
			"cell_type": "code",
			"execution_count": 10,
			"metadata": {},
			"outputs": [
				{
					"data": {
						"text/html": [
							"<div>\n",
							"<style scoped>\n",
							"    .dataframe tbody tr th:only-of-type {\n",
							"        vertical-align: middle;\n",
							"    }\n",
							"\n",
							"    .dataframe tbody tr th {\n",
							"        vertical-align: top;\n",
							"    }\n",
							"\n",
							"    .dataframe thead th {\n",
							"        text-align: right;\n",
							"    }\n",
							"</style>\n",
							"<table border=\"1\" class=\"dataframe\">\n",
							"  <thead>\n",
							"    <tr style=\"text-align: right;\">\n",
							"      <th></th>\n",
							"      <th>diagnosis</th>\n",
							"      <th>Radius_mean</th>\n",
							"      <th>Texture_mean</th>\n",
							"      <th>perimeter_mean</th>\n",
							"      <th>area_mean</th>\n",
							"      <th>smoothness_mean</th>\n",
							"      <th>compactness_mean</th>\n",
							"      <th>concavity_mean</th>\n",
							"      <th>concave points_mean</th>\n",
							"      <th>symmetry_mean</th>\n",
							"      <th>...</th>\n",
							"      <th>radius_worst</th>\n",
							"      <th>texture_worst</th>\n",
							"      <th>perimeter_worst</th>\n",
							"      <th>area_worst</th>\n",
							"      <th>smoothness_worst</th>\n",
							"      <th>compactness_worst</th>\n",
							"      <th>concavity_worst</th>\n",
							"      <th>concave points_worst</th>\n",
							"      <th>symmetry_worst</th>\n",
							"      <th>fractal_dimension_worst</th>\n",
							"    </tr>\n",
							"  </thead>\n",
							"  <tbody>\n",
							"    <tr>\n",
							"      <th>0</th>\n",
							"      <td>M</td>\n",
							"      <td>17.99</td>\n",
							"      <td>10.38</td>\n",
							"      <td>122.8</td>\n",
							"      <td>1001.0</td>\n",
							"      <td>0.11840</td>\n",
							"      <td>0.27760</td>\n",
							"      <td>0.3001</td>\n",
							"      <td>0.14710</td>\n",
							"      <td>0.2419</td>\n",
							"      <td>...</td>\n",
							"      <td>25.38</td>\n",
							"      <td>17.33</td>\n",
							"      <td>184.6</td>\n",
							"      <td>2019.0</td>\n",
							"      <td>0.1622</td>\n",
							"      <td>0.6656</td>\n",
							"      <td>0.7119</td>\n",
							"      <td>0.2654</td>\n",
							"      <td>0.4601</td>\n",
							"      <td>0.11890</td>\n",
							"    </tr>\n",
							"    <tr>\n",
							"      <th>1</th>\n",
							"      <td>M</td>\n",
							"      <td>20.57</td>\n",
							"      <td>21.77</td>\n",
							"      <td>132.9</td>\n",
							"      <td>1326.0</td>\n",
							"      <td>0.08474</td>\n",
							"      <td>0.07864</td>\n",
							"      <td>0.0869</td>\n",
							"      <td>0.07017</td>\n",
							"      <td>0.1812</td>\n",
							"      <td>...</td>\n",
							"      <td>24.99</td>\n",
							"      <td>23.41</td>\n",
							"      <td>158.8</td>\n",
							"      <td>1956.0</td>\n",
							"      <td>0.1238</td>\n",
							"      <td>0.1866</td>\n",
							"      <td>0.2416</td>\n",
							"      <td>0.1860</td>\n",
							"      <td>0.2750</td>\n",
							"      <td>0.08902</td>\n",
							"    </tr>\n",
							"    <tr>\n",
							"      <th>2</th>\n",
							"      <td>M</td>\n",
							"      <td>19.69</td>\n",
							"      <td>21.25</td>\n",
							"      <td>130.0</td>\n",
							"      <td>1203.0</td>\n",
							"      <td>0.10960</td>\n",
							"      <td>0.15990</td>\n",
							"      <td>0.1974</td>\n",
							"      <td>0.12790</td>\n",
							"      <td>0.2069</td>\n",
							"      <td>...</td>\n",
							"      <td>23.57</td>\n",
							"      <td>25.53</td>\n",
							"      <td>152.5</td>\n",
							"      <td>1709.0</td>\n",
							"      <td>0.1444</td>\n",
							"      <td>0.4245</td>\n",
							"      <td>0.4504</td>\n",
							"      <td>0.2430</td>\n",
							"      <td>0.3613</td>\n",
							"      <td>0.08758</td>\n",
							"    </tr>\n",
							"  </tbody>\n",
							"</table>\n",
							"<p>3 rows × 31 columns</p>\n",
							"</div>"
						],
						"text/plain": [
							"  diagnosis  Radius_mean  Texture_mean  perimeter_mean  area_mean  \\\n",
							"0         M        17.99         10.38           122.8     1001.0   \n",
							"1         M        20.57         21.77           132.9     1326.0   \n",
							"2         M        19.69         21.25           130.0     1203.0   \n",
							"\n",
							"   smoothness_mean  compactness_mean  concavity_mean  concave points_mean  \\\n",
							"0          0.11840           0.27760          0.3001              0.14710   \n",
							"1          0.08474           0.07864          0.0869              0.07017   \n",
							"2          0.10960           0.15990          0.1974              0.12790   \n",
							"\n",
							"   symmetry_mean  ...  radius_worst  texture_worst  perimeter_worst  \\\n",
							"0         0.2419  ...         25.38          17.33            184.6   \n",
							"1         0.1812  ...         24.99          23.41            158.8   \n",
							"2         0.2069  ...         23.57          25.53            152.5   \n",
							"\n",
							"   area_worst  smoothness_worst  compactness_worst  concavity_worst  \\\n",
							"0      2019.0            0.1622             0.6656           0.7119   \n",
							"1      1956.0            0.1238             0.1866           0.2416   \n",
							"2      1709.0            0.1444             0.4245           0.4504   \n",
							"\n",
							"   concave points_worst  symmetry_worst  fractal_dimension_worst  \n",
							"0                0.2654          0.4601                  0.11890  \n",
							"1                0.1860          0.2750                  0.08902  \n",
							"2                0.2430          0.3613                  0.08758  \n",
							"\n",
							"[3 rows x 31 columns]"
						]
					},
					"execution_count": 10,
					"metadata": {},
					"output_type": "execute_result"
				}
			],
			"source": [
				"# Id column is redundant and not useful, we want to drop it\n",
				"df.drop('id', axis =1, inplace=True)\n",
				"# df.drop('Unnamed: 0', axis=1, inplace=True)\n",
				"df.head(3)\n"
			]
		},
		{
			"cell_type": "code",
			"execution_count": 11,
			"metadata": {},
			"outputs": [
				{
					"data": {
						"text/plain": [
							"(569, 31)"
						]
					},
					"execution_count": 11,
					"metadata": {},
					"output_type": "execute_result"
				}
			],
			"source": [
				"df.shape"
			]
		},
		{
			"cell_type": "markdown",
			"metadata": {},
			"source": [
				"In the result displayed, you can see the data has 569 records, each with 32 columns.\n",
				"\n",
				"The info() method provides a concise summary of the data; from the output, it provides the type of data in each column, the number of non-null values in each column, and how much memory the data frame is using.\n",
				"\n",
				"The method get_dtype_counts() will return the number of columns of each type in a DataFrame:\n"
			]
		},
		{
			"cell_type": "code",
			"execution_count": 13,
			"metadata": {},
			"outputs": [
				{
					"name": "stdout",
					"output_type": "stream",
					"text": [
						"<class 'pandas.core.frame.DataFrame'>\n",
						"RangeIndex: 569 entries, 0 to 568\n",
						"Data columns (total 31 columns):\n",
						" #   Column                   Non-Null Count  Dtype  \n",
						"---  ------                   --------------  -----  \n",
						" 0   diagnosis                569 non-null    object \n",
						" 1   Radius_mean              569 non-null    float64\n",
						" 2   Texture_mean             569 non-null    float64\n",
						" 3   perimeter_mean           569 non-null    float64\n",
						" 4   area_mean                569 non-null    float64\n",
						" 5   smoothness_mean          569 non-null    float64\n",
						" 6   compactness_mean         569 non-null    float64\n",
						" 7   concavity_mean           569 non-null    float64\n",
						" 8   concave points_mean      569 non-null    float64\n",
						" 9   symmetry_mean            569 non-null    float64\n",
						" 10  fractal_dimension_mean   569 non-null    float64\n",
						" 11  radius_se                569 non-null    float64\n",
						" 12  texture_se               569 non-null    float64\n",
						" 13  perimeter_se             569 non-null    float64\n",
						" 14  area_se                  569 non-null    float64\n",
						" 15  smoothness_se            569 non-null    float64\n",
						" 16  compactness_se           569 non-null    float64\n",
						" 17  concavity_se             569 non-null    float64\n",
						" 18  concave points_se        569 non-null    float64\n",
						" 19  symmetry_se              569 non-null    float64\n",
						" 20  fractal_dimension_se     569 non-null    float64\n",
						" 21  radius_worst             569 non-null    float64\n",
						" 22  texture_worst            569 non-null    float64\n",
						" 23  perimeter_worst          569 non-null    float64\n",
						" 24  area_worst               569 non-null    float64\n",
						" 25  smoothness_worst         569 non-null    float64\n",
						" 26  compactness_worst        569 non-null    float64\n",
						" 27  concavity_worst          569 non-null    float64\n",
						" 28  concave points_worst     569 non-null    float64\n",
						" 29  symmetry_worst           569 non-null    float64\n",
						" 30  fractal_dimension_worst  569 non-null    float64\n",
						"dtypes: float64(30), object(1)\n",
						"memory usage: 137.9+ KB\n"
					]
				}
			],
			"source": [
				"# Review data types with \"info()\".\n",
				"df.info()"
			]
		},
		{
			"cell_type": "code",
			"execution_count": 14,
			"metadata": {},
			"outputs": [
				{
					"data": {
						"text/plain": [
							"diagnosis                  False\n",
							"Radius_mean                False\n",
							"Texture_mean               False\n",
							"perimeter_mean             False\n",
							"area_mean                  False\n",
							"smoothness_mean            False\n",
							"compactness_mean           False\n",
							"concavity_mean             False\n",
							"concave points_mean        False\n",
							"symmetry_mean              False\n",
							"fractal_dimension_mean     False\n",
							"radius_se                  False\n",
							"texture_se                 False\n",
							"perimeter_se               False\n",
							"area_se                    False\n",
							"smoothness_se              False\n",
							"compactness_se             False\n",
							"concavity_se               False\n",
							"concave points_se          False\n",
							"symmetry_se                False\n",
							"fractal_dimension_se       False\n",
							"radius_worst               False\n",
							"texture_worst              False\n",
							"perimeter_worst            False\n",
							"area_worst                 False\n",
							"smoothness_worst           False\n",
							"compactness_worst          False\n",
							"concavity_worst            False\n",
							"concave points_worst       False\n",
							"symmetry_worst             False\n",
							"fractal_dimension_worst    False\n",
							"dtype: bool"
						]
					},
					"execution_count": 14,
					"metadata": {},
					"output_type": "execute_result"
				}
			],
			"source": [
				"# Check for missing variables\n",
				"df.isnull().any()"
			]
		},
		{
			"cell_type": "markdown",
			"metadata": {},
			"source": [
				"From the results above, diagnosis is a categorical variable, because it represents a fix number of possible values (i.e, Malignant, of Benign. The machine learning algorithms wants numbers, and not strings, as their inputs so we need some method of coding to convert them."
			]
		},
		{
			"cell_type": "code",
			"execution_count": 16,
			"metadata": {},
			"outputs": [],
			"source": [
				"# Save the cleaner version of dataframe for future analyis\n",
				"df.to_csv('inputs/datasets/data_clean_id/data.csv')\n"
			]
		},
		{
			"cell_type": "markdown",
			"metadata": {},
			"source": [
				"# NOTE: \n",
				"Now that we have a good intuitive sense of the data, Next step involves taking a closer look at attributes and data values. "
			]
		},
		{
			"cell_type": "markdown",
			"metadata": {
				"id": "ZY3l0-AxO93d"
			},
			"source": [
				"---"
			]
		}
	],
	"metadata": {
		"accelerator": "GPU",
		"colab": {
			"name": "Data Practitioner Jupyter Notebook.ipynb",
			"provenance": [],
			"toc_visible": true
		},
		"kernelspec": {
			"display_name": "Python 3",
			"language": "python",
			"name": "python3"
		},
		"language_info": {
			"codemirror_mode": {
				"name": "ipython",
				"version": 3
			},
			"file_extension": ".py",
			"mimetype": "text/x-python",
			"name": "python",
			"nbconvert_exporter": "python",
			"pygments_lexer": "ipython3",
			"version": "3.8.12"
		},
		"orig_nbformat": 2
	},
	"nbformat": 4,
	"nbformat_minor": 2
}
