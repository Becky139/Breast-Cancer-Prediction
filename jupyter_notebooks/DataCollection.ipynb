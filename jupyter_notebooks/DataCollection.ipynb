{
	"cells": [
		{
			"attachments": {},
			"cell_type": "markdown",
			"metadata": {
				"id": "0aStgWSO0E0E"
			},
			"source": [
				"# **(Data Collection Notebook)**"
			]
		},
		{
			"attachments": {},
			"cell_type": "markdown",
			"metadata": {
				"id": "9uWZXH9LwoQg"
			},
			"source": [
				"## Objectives\n",
				"\n",
				"- Upload dataset to repository.\n",
				"- Load data and save it under inputs/datasets/raw/data.csv\n",
				"- Inspect the data and save it under inputs/datasets/data_clean_id/data.csv\n",
				"\n",
				"## Inputs\n",
				"\n",
				"Download  data set from Kaggle and import data.csv.\n",
				"\n",
				"## Outputs\n",
				"\n",
				"Generate Dataset:   inputs/datasets/raw/data.csv\n",
				"                    inputs/datasets/data_clean_id/data.csv\n",
				"\n",
				"## Additional Comments\n"
			]
		},
		{
			"cell_type": "markdown",
			"metadata": {
				"id": "cqP-UeN-z3i2"
			},
			"source": [
				"# Change working directory"
			]
		},
		{
			"cell_type": "markdown",
			"metadata": {
				"id": "aOGIGS-uz3i2"
			},
			"source": [
				"We need to change the working directory from its current folder to its parent folder\n",
				"* We access the current directory with os.getcwd()"
			]
		},
		{
			"cell_type": "code",
			"execution_count": null,
			"metadata": {
				"id": "wZfF_j-Bz3i4",
				"outputId": "66943449-1436-4c3d-85c7-b85f9f78349b"
			},
			"outputs": [],
			"source": [
				"import os\n",
				"current_dir = os.getcwd()\n",
				"current_dir"
			]
		},
		{
			"cell_type": "markdown",
			"metadata": {
				"id": "9MWW8E7lz3i7"
			},
			"source": [
				"We want to make the parent of the current directory the new current directory\n",
				"* os.path.dirname() gets the parent directory\n",
				"* os.chir() defines the new current directory"
			]
		},
		{
			"cell_type": "code",
			"execution_count": null,
			"metadata": {
				"id": "TwHsQRWjz3i9",
				"outputId": "86849db3-cd2f-4cc5-ebb8-2d0caafa1a2c",
				"tags": []
			},
			"outputs": [],
			"source": [
				"os.chdir(os.path.dirname(current_dir))\n",
				"print(\"You set a new current directory\")"
			]
		},
		{
			"cell_type": "markdown",
			"metadata": {
				"id": "M_xPk_Ijz3i-"
			},
			"source": [
				"Confirm the new current directory"
			]
		},
		{
			"cell_type": "code",
			"execution_count": null,
			"metadata": {
				"id": "vz3S-_kjz3jA",
				"outputId": "00b79ae4-75d0-4a96-d193-ac9ef9847ea2"
			},
			"outputs": [],
			"source": [
				"current_dir = os.getcwd()\n",
				"current_dir"
			]
		},
		{
			"attachments": {},
			"cell_type": "markdown",
			"metadata": {
				"id": "-mavJ8DibrcQ"
			},
			"source": [
				"# Getting Started: Load libraries and set options"
			]
		},
		{
			"cell_type": "code",
			"execution_count": null,
			"metadata": {
				"tags": []
			},
			"outputs": [],
			"source": [
				"!  pip install -r requirements.txt"
			]
		},
		{
			"cell_type": "code",
			"execution_count": null,
			"metadata": {
				"tags": []
			},
			"outputs": [],
			"source": [
				"#load libraries\n",
				"import numpy as np         # linear algebra\n",
				"import pandas as pd        # data processing, CSV file I/O (e.g. pd.read_csv)\n"
			]
		},
		{
			"attachments": {},
			"cell_type": "markdown",
			"metadata": {
				"id": "wNYS7ArHuGfT"
			},
			"source": [
				"We are using the following data from Kaggle [Kaggle URL](https://www.kaggle.com/datasets/vijayaadithyanvg/breast-cancer-prediction)"
			]
		},
		{
			"cell_type": "code",
			"execution_count": null,
			"metadata": {},
			"outputs": [],
			"source": [
				"# Read the file \"data.csv\" and print the contents.\n",
				"df = pd.read_csv(\"inputs/datasets/raw/data.csv\", index_col=False)"
			]
		},
		{
			"source": [
				"# Inspecting the data\n",
				"\n",
				"The first step is to visually inspect the new data set. There are multiple ways to achieve this:\n",
				"\n",
				"•\tThe easiest being to request the first few records using the DataFrame data.head() method. By default,      data.head() returns the first 5 rows from the DataFrame object df (excluding the header row).\n",
				"\n",
				"•\tAlternatively, one can also use df.tail() to return the five rows of the data frame.\n",
				"\n",
				"•\tFor both head and tail methods, there is an option to specify the number of records by including the required number in between the parentheses when calling either method.Inspecting the data\n"
			],
			"cell_type": "markdown",
			"metadata": {}
		},
		{
			"cell_type": "code",
			"execution_count": null,
			"metadata": {},
			"outputs": [],
			"source": [
				"df.head()"
			]
		},
		{
			"source": [
				"# Save the cleaner version of dataframe with \"id\" for future analyis\n",
				"df.to_csv('inputs/datasets/data_clean_id/data.csv')\n"
			],
			"cell_type": "code",
			"metadata": {},
			"execution_count": null,
			"outputs": []
		},
		{
			"source": [
				"You can check the number of cases, as well as the number of fields, using the shape method, as shown below."
			],
			"cell_type": "markdown",
			"metadata": {}
		},
		{
			"cell_type": "code",
			"execution_count": null,
			"metadata": {},
			"outputs": [],
			"source": [
				"# Id column is redundant and not useful, we want to drop it\n",
				"df.drop('id', axis =1, inplace=True)\n",
				"# df.drop('Unnamed: 0', axis=1, inplace=True)\n",
				"df.head(3)\n"
			]
		},
		{
			"cell_type": "code",
			"execution_count": null,
			"metadata": {},
			"outputs": [],
			"source": [
				"df.shape"
			]
		},
		{
			"source": [
				"In the result displayed, you can see the data has 569 records, each with 32 columns.\n",
				"\n",
				"The info() method provides a concise summary of the data; from the output, it provides the type of data in each column, the number of non-null values in each column, and how much memory the data frame is using.\n",
				"\n",
				"The method get_dtype_counts() will return the number of columns of each type in a DataFrame:\n"
			],
			"cell_type": "markdown",
			"metadata": {}
		},
		{
			"cell_type": "code",
			"execution_count": null,
			"metadata": {},
			"outputs": [],
			"source": [
				"# Review data types with \"info()\".\n",
				"df.info()\n",
				"<class 'pandas.core.frame.DataFrame'>"
			]
		},
		{
			"cell_type": "code",
			"execution_count": null,
			"metadata": {},
			"outputs": [],
			"source": [
				"# Check for missing variables\n",
				"df.isnull().any()"
			]
		},
		{
			"source": [
				"From the results above, diagnosis is a categorical variable, because it represents a fix number of possible values (i.e, Malignant, of Benign. The machine learning algorithms wants numbers, and not strings, as their inputs so we need some method of coding to convert them."
			],
			"cell_type": "markdown",
			"metadata": {}
		},
		{
			"cell_type": "code",
			"execution_count": null,
			"metadata": {},
			"outputs": [],
			"source": [
				"# Save the cleaner version of dataframe for future analyis\n",
				"df.to_csv('inputs/datasets/data_clean_id/data.csv')\n"
			]
		},
		{
			"source": [
				"# NOTE: \n",
				"Now that we have a good intuitive sense of the data, Next step involves taking a closer look at attributes and data values. "
			],
			"cell_type": "markdown",
			"metadata": {}
		},
		{
			"cell_type": "markdown",
			"metadata": {
				"id": "ZY3l0-AxO93d"
			},
			"source": [
				"---"
			]
		}
	],
	"metadata": {
		"accelerator": "GPU",
		"colab": {
			"name": "Data Practitioner Jupyter Notebook.ipynb",
			"provenance": [],
			"toc_visible": true
		},
		"kernelspec": {
			"display_name": "Python 3",
			"language": "python",
			"name": "python3"
		},
		"language_info": {
			"codemirror_mode": {
				"name": "ipython",
				"version": 3
			},
			"file_extension": ".py",
			"mimetype": "text/x-python",
			"name": "python",
			"nbconvert_exporter": "python",
			"pygments_lexer": "ipython3",
			"version": "3.8.12"
		},
		"orig_nbformat": 2
	},
	"nbformat": 4,
	"nbformat_minor": 2
}