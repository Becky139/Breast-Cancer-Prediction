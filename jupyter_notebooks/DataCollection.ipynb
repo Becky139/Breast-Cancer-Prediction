{
	"cells": [
		{
			"attachments": {},
			"cell_type": "markdown",
			"metadata": {
				"id": "0aStgWSO0E0E"
			},
			"source": [
				"# **(Data Collection Notebook)**"
			]
		},
		{
			"attachments": {},
			"cell_type": "markdown",
			"metadata": {
				"id": "9uWZXH9LwoQg"
			},
			"source": [
				"## Objectives\n",
				"\n",
				"- Download data from Kaggle and save it as raw data.\n",
				"- Evaluate missing data\n",
				"- Inspect the data and save it under outputs/datasets/collection\n",
				"\n",
				"## Inputs\n",
				"\n",
				"Dat set from Kaggle data.csv\n",
				"\n",
				"## Outputs\n",
				"\n",
				"Generate Dataset: outputs/datasets/collection/---\n",
				"\n",
				"## Additional Comments\n"
			]
		},
		{
			"cell_type": "markdown",
			"metadata": {
				"id": "cqP-UeN-z3i2"
			},
			"source": [
				"# Change working directory"
			]
		},
		{
			"cell_type": "markdown",
			"metadata": {},
			"source": [
				"* We are assuming you will store the notebooks in a subfolder, therefore when running the notebook in the editor, you will need to change the working directory"
			]
		},
		{
			"cell_type": "markdown",
			"metadata": {
				"id": "aOGIGS-uz3i2"
			},
			"source": [
				"We need to change the working directory from its current folder to its parent folder\n",
				"* We access the current directory with os.getcwd()"
			]
		},
		{
			"cell_type": "code",
			"execution_count": 1,
			"metadata": {
				"id": "wZfF_j-Bz3i4",
				"outputId": "66943449-1436-4c3d-85c7-b85f9f78349b"
			},
			"outputs": [
				{
					"output_type": "execute_result",
					"data": {
						"text/plain": "'/workspaces/Breast-Cancer-Prediction/jupyter_notebooks'"
					},
					"metadata": {},
					"execution_count": 1
				}
			],
			"source": [
				"import os\n",
				"current_dir = os.getcwd()\n",
				"current_dir"
			]
		},
		{
			"cell_type": "markdown",
			"metadata": {
				"id": "9MWW8E7lz3i7"
			},
			"source": [
				"We want to make the parent of the current directory the new current directory\n",
				"* os.path.dirname() gets the parent directory\n",
				"* os.chir() defines the new current directory"
			]
		},
		{
			"cell_type": "code",
			"execution_count": 2,
			"metadata": {
				"id": "TwHsQRWjz3i9",
				"outputId": "86849db3-cd2f-4cc5-ebb8-2d0caafa1a2c",
				"tags": []
			},
			"outputs": [
				{
					"output_type": "stream",
					"name": "stdout",
					"text": "You set a new current directory\n"
				}
			],
			"source": [
				"os.chdir(os.path.dirname(current_dir))\n",
				"print(\"You set a new current directory\")"
			]
		},
		{
			"cell_type": "markdown",
			"metadata": {
				"id": "M_xPk_Ijz3i-"
			},
			"source": [
				"Confirm the new current directory"
			]
		},
		{
			"cell_type": "code",
			"execution_count": 3,
			"metadata": {
				"id": "vz3S-_kjz3jA",
				"outputId": "00b79ae4-75d0-4a96-d193-ac9ef9847ea2"
			},
			"outputs": [
				{
					"output_type": "execute_result",
					"data": {
						"text/plain": "'/workspaces/Breast-Cancer-Prediction'"
					},
					"metadata": {},
					"execution_count": 3
				}
			],
			"source": [
				"current_dir = os.getcwd()\n",
				"current_dir"
			]
		},
		{
			"attachments": {},
			"cell_type": "markdown",
			"metadata": {
				"id": "-mavJ8DibrcQ"
			},
			"source": [
				"# Download data from Kaggle and upload"
			]
		},
		{
			"cell_type": "code",
			"execution_count": 4,
			"metadata": {
				"tags": []
			},
			"outputs": [
				{
					"output_type": "stream",
					"name": "stdout",
					"text": "Defaulting to user installation because normal site-packages is not writeable\nCollecting numpy\n  Downloading numpy-1.24.2-cp310-cp310-manylinux_2_17_x86_64.manylinux2014_x86_64.whl (17.3 MB)\n\u001b[2K     \u001b[90m━━━━━━━━━━━━━━━━━━━━━━━━━━━━━━━━━━━━━━━━\u001b[0m \u001b[32m17.3/17.3 MB\u001b[0m \u001b[31m9.7 MB/s\u001b[0m eta \u001b[36m0:00:00\u001b[0m\n\u001b[?25hInstalling collected packages: numpy\n\u001b[33m  WARNING: The scripts f2py, f2py3 and f2py3.10 are installed in '/home/codeany/.local/bin' which is not on PATH.\n  Consider adding this directory to PATH or, if you prefer to suppress this warning, use --no-warn-script-location.\u001b[0m\u001b[33m\n\u001b[0mSuccessfully installed numpy-1.24.2\n\n\u001b[1m[\u001b[0m\u001b[34;49mnotice\u001b[0m\u001b[1;39;49m]\u001b[0m\u001b[39;49m A new release of pip is available: \u001b[0m\u001b[31;49m23.0\u001b[0m\u001b[39;49m -> \u001b[0m\u001b[32;49m23.1\u001b[0m\n\u001b[1m[\u001b[0m\u001b[34;49mnotice\u001b[0m\u001b[1;39;49m]\u001b[0m\u001b[39;49m To update, run: \u001b[0m\u001b[32;49mpython -m pip install --upgrade pip\u001b[0m\nDefaulting to user installation because normal site-packages is not writeable\nCollecting matplotlib\n  Downloading matplotlib-3.7.1-cp310-cp310-manylinux_2_17_x86_64.manylinux2014_x86_64.whl (11.6 MB)\n\u001b[2K     \u001b[90m━━━━━━━━━━━━━━━━━━━━━━━━━━━━━━━━━━━━━━━━\u001b[0m \u001b[32m11.6/11.6 MB\u001b[0m \u001b[31m14.3 MB/s\u001b[0m eta \u001b[36m0:00:00\u001b[0m\n\u001b[?25hCollecting fonttools>=4.22.0\n  Downloading fonttools-4.39.3-py3-none-any.whl (1.0 MB)\n\u001b[2K     \u001b[90m━━━━━━━━━━━━━━━━━━━━━━━━━━━━━━━━━━━━━━━━\u001b[0m \u001b[32m1.0/1.0 MB\u001b[0m \u001b[31m25.3 MB/s\u001b[0m eta \u001b[36m0:00:00\u001b[0m\n\u001b[?25hCollecting pillow>=6.2.0\n  Downloading Pillow-9.5.0-cp310-cp310-manylinux_2_28_x86_64.whl (3.4 MB)\n\u001b[2K     \u001b[90m━━━━━━━━━━━━━━━━━━━━━━━━━━━━━━━━━━━━━━━━\u001b[0m \u001b[32m3.4/3.4 MB\u001b[0m \u001b[31m27.1 MB/s\u001b[0m eta \u001b[36m0:00:00\u001b[0m\n\u001b[?25hCollecting kiwisolver>=1.0.1\n  Downloading kiwisolver-1.4.4-cp310-cp310-manylinux_2_12_x86_64.manylinux2010_x86_64.whl (1.6 MB)\n\u001b[2K     \u001b[90m━━━━━━━━━━━━━━━━━━━━━━━━━━━━━━━━━━━━━━━━\u001b[0m \u001b[32m1.6/1.6 MB\u001b[0m \u001b[31m22.7 MB/s\u001b[0m eta \u001b[36m0:00:00\u001b[0m\n\u001b[?25hCollecting cycler>=0.10\n  Downloading cycler-0.11.0-py3-none-any.whl (6.4 kB)\nRequirement already satisfied: packaging>=20.0 in /home/codeany/.local/lib/python3.10/site-packages (from matplotlib) (23.1)\nRequirement already satisfied: pyparsing>=2.3.1 in /usr/lib/python3/dist-packages (from matplotlib) (2.4.7)\nRequirement already satisfied: numpy>=1.20 in /home/codeany/.local/lib/python3.10/site-packages (from matplotlib) (1.24.2)\nCollecting contourpy>=1.0.1\n  Downloading contourpy-1.0.7-cp310-cp310-manylinux_2_17_x86_64.manylinux2014_x86_64.whl (300 kB)\n\u001b[2K     \u001b[90m━━━━━━━━━━━━━━━━━━━━━━━━━━━━━━━━━━━━━━\u001b[0m \u001b[32m300.3/300.3 kB\u001b[0m \u001b[31m44.8 MB/s\u001b[0m eta \u001b[36m0:00:00\u001b[0m\n\u001b[?25hRequirement already satisfied: python-dateutil>=2.7 in /home/codeany/.local/lib/python3.10/site-packages (from matplotlib) (2.8.2)\nRequirement already satisfied: six>=1.5 in /usr/lib/python3/dist-packages (from python-dateutil>=2.7->matplotlib) (1.16.0)\nInstalling collected packages: pillow, kiwisolver, fonttools, cycler, contourpy, matplotlib\n\u001b[33m  WARNING: The scripts fonttools, pyftmerge, pyftsubset and ttx are installed in '/home/codeany/.local/bin' which is not on PATH.\n  Consider adding this directory to PATH or, if you prefer to suppress this warning, use --no-warn-script-location.\u001b[0m\u001b[33m\n\u001b[0mSuccessfully installed contourpy-1.0.7 cycler-0.11.0 fonttools-4.39.3 kiwisolver-1.4.4 matplotlib-3.7.1 pillow-9.5.0\n\n\u001b[1m[\u001b[0m\u001b[34;49mnotice\u001b[0m\u001b[1;39;49m]\u001b[0m\u001b[39;49m A new release of pip is available: \u001b[0m\u001b[31;49m23.0\u001b[0m\u001b[39;49m -> \u001b[0m\u001b[32;49m23.1\u001b[0m\n\u001b[1m[\u001b[0m\u001b[34;49mnotice\u001b[0m\u001b[1;39;49m]\u001b[0m\u001b[39;49m To update, run: \u001b[0m\u001b[32;49mpython -m pip install --upgrade pip\u001b[0m\nDefaulting to user installation because normal site-packages is not writeable\nCollecting pandas\n  Downloading pandas-2.0.0-cp310-cp310-manylinux_2_17_x86_64.manylinux2014_x86_64.whl (12.3 MB)\n\u001b[2K     \u001b[90m━━━━━━━━━━━━━━━━━━━━━━━━━━━━━━━━━━━━━━━━\u001b[0m \u001b[32m12.3/12.3 MB\u001b[0m \u001b[31m20.1 MB/s\u001b[0m eta \u001b[36m0:00:00\u001b[0m\n\u001b[?25hRequirement already satisfied: python-dateutil>=2.8.2 in /home/codeany/.local/lib/python3.10/site-packages (from pandas) (2.8.2)\nCollecting pytz>=2020.1\n  Downloading pytz-2023.3-py2.py3-none-any.whl (502 kB)\n\u001b[2K     \u001b[90m━━━━━━━━━━━━━━━━━━━━━━━━━━━━━━━━━━━━━━\u001b[0m \u001b[32m502.3/502.3 kB\u001b[0m \u001b[31m57.4 MB/s\u001b[0m eta \u001b[36m0:00:00\u001b[0m\n\u001b[?25hRequirement already satisfied: numpy>=1.21.0 in /home/codeany/.local/lib/python3.10/site-packages (from pandas) (1.24.2)\nCollecting tzdata>=2022.1\n  Downloading tzdata-2023.3-py2.py3-none-any.whl (341 kB)\n\u001b[2K     \u001b[90m━━━━━━━━━━━━━━━━━━━━━━━━━━━━━━━━━━━━━━\u001b[0m \u001b[32m341.8/341.8 kB\u001b[0m \u001b[31m50.9 MB/s\u001b[0m eta \u001b[36m0:00:00\u001b[0m\n\u001b[?25hRequirement already satisfied: six>=1.5 in /usr/lib/python3/dist-packages (from python-dateutil>=2.8.2->pandas) (1.16.0)\nInstalling collected packages: pytz, tzdata, pandas\nSuccessfully installed pandas-2.0.0 pytz-2023.3 tzdata-2023.3\n\n\u001b[1m[\u001b[0m\u001b[34;49mnotice\u001b[0m\u001b[1;39;49m]\u001b[0m\u001b[39;49m A new release of pip is available: \u001b[0m\u001b[31;49m23.0\u001b[0m\u001b[39;49m -> \u001b[0m\u001b[32;49m23.1\u001b[0m\n\u001b[1m[\u001b[0m\u001b[34;49mnotice\u001b[0m\u001b[1;39;49m]\u001b[0m\u001b[39;49m To update, run: \u001b[0m\u001b[32;49mpython -m pip install --upgrade pip\u001b[0m\nDefaulting to user installation because normal site-packages is not writeable\nCollecting seaborn\n  Downloading seaborn-0.12.2-py3-none-any.whl (293 kB)\n\u001b[2K     \u001b[90m━━━━━━━━━━━━━━━━━━━━━━━━━━━━━━━━━━━━━━━\u001b[0m \u001b[32m293.3/293.3 kB\u001b[0m \u001b[31m2.9 MB/s\u001b[0m eta \u001b[36m0:00:00\u001b[0m\n\u001b[?25hRequirement already satisfied: numpy!=1.24.0,>=1.17 in /home/codeany/.local/lib/python3.10/site-packages (from seaborn) (1.24.2)\nRequirement already satisfied: pandas>=0.25 in /home/codeany/.local/lib/python3.10/site-packages (from seaborn) (2.0.0)\nRequirement already satisfied: matplotlib!=3.6.1,>=3.1 in /home/codeany/.local/lib/python3.10/site-packages (from seaborn) (3.7.1)\nRequirement already satisfied: pillow>=6.2.0 in /home/codeany/.local/lib/python3.10/site-packages (from matplotlib!=3.6.1,>=3.1->seaborn) (9.5.0)\nRequirement already satisfied: packaging>=20.0 in /home/codeany/.local/lib/python3.10/site-packages (from matplotlib!=3.6.1,>=3.1->seaborn) (23.1)\nRequirement already satisfied: pyparsing>=2.3.1 in /usr/lib/python3/dist-packages (from matplotlib!=3.6.1,>=3.1->seaborn) (2.4.7)\nRequirement already satisfied: python-dateutil>=2.7 in /home/codeany/.local/lib/python3.10/site-packages (from matplotlib!=3.6.1,>=3.1->seaborn) (2.8.2)\nRequirement already satisfied: cycler>=0.10 in /home/codeany/.local/lib/python3.10/site-packages (from matplotlib!=3.6.1,>=3.1->seaborn) (0.11.0)\nRequirement already satisfied: contourpy>=1.0.1 in /home/codeany/.local/lib/python3.10/site-packages (from matplotlib!=3.6.1,>=3.1->seaborn) (1.0.7)\nRequirement already satisfied: fonttools>=4.22.0 in /home/codeany/.local/lib/python3.10/site-packages (from matplotlib!=3.6.1,>=3.1->seaborn) (4.39.3)\nRequirement already satisfied: kiwisolver>=1.0.1 in /home/codeany/.local/lib/python3.10/site-packages (from matplotlib!=3.6.1,>=3.1->seaborn) (1.4.4)\nRequirement already satisfied: pytz>=2020.1 in /home/codeany/.local/lib/python3.10/site-packages (from pandas>=0.25->seaborn) (2023.3)\nRequirement already satisfied: tzdata>=2022.1 in /home/codeany/.local/lib/python3.10/site-packages (from pandas>=0.25->seaborn) (2023.3)\nRequirement already satisfied: six>=1.5 in /usr/lib/python3/dist-packages (from python-dateutil>=2.7->matplotlib!=3.6.1,>=3.1->seaborn) (1.16.0)\nInstalling collected packages: seaborn\nSuccessfully installed seaborn-0.12.2\n\n\u001b[1m[\u001b[0m\u001b[34;49mnotice\u001b[0m\u001b[1;39;49m]\u001b[0m\u001b[39;49m A new release of pip is available: \u001b[0m\u001b[31;49m23.0\u001b[0m\u001b[39;49m -> \u001b[0m\u001b[32;49m23.1\u001b[0m\n\u001b[1m[\u001b[0m\u001b[34;49mnotice\u001b[0m\u001b[1;39;49m]\u001b[0m\u001b[39;49m To update, run: \u001b[0m\u001b[32;49mpython -m pip install --upgrade pip\u001b[0m\n"
				}
			],
			"source": [
				"! pip install numpy\n",
				"! pip install matplotlib\n",
				"! pip install pandas\n",
				"! pip install seaborn"
			]
		},
		{
			"cell_type": "code",
			"execution_count": 6,
			"metadata": {
				"tags": []
			},
			"outputs": [],
			"source": [
				"# importing libraries\n",
				"import numpy\n",
				"import matplotlib.pyplot as plt\n",
				"import pandas as pd\n",
				"import seaborn as sns"
			]
		},
		{
			"attachments": {},
			"cell_type": "markdown",
			"metadata": {
				"id": "wNYS7ArHuGfT"
			},
			"source": [
				"We are using the following data from Kaggle [Kaggle URL](https://www.kaggle.com/datasets/vijayaadithyanvg/breast-cancer-prediction)"
			]
		},
		{
			"cell_type": "code",
			"execution_count": 7,
			"metadata": {},
			"outputs": [],
			"source": [
				"# reading data from the file\n",
				"df=pd.read_csv(\"inputs/datasets/raw/data.csv\")"
			]
		},
		{
			"cell_type": "code",
			"execution_count": 12,
			"metadata": {},
			"outputs": [
				{
					"data": {
						"text/html": [
							"<div>\n",
							"<style scoped>\n",
							"    .dataframe tbody tr th:only-of-type {\n",
							"        vertical-align: middle;\n",
							"    }\n",
							"\n",
							"    .dataframe tbody tr th {\n",
							"        vertical-align: top;\n",
							"    }\n",
							"\n",
							"    .dataframe thead th {\n",
							"        text-align: right;\n",
							"    }\n",
							"</style>\n",
							"<table border=\"1\" class=\"dataframe\">\n",
							"  <thead>\n",
							"    <tr style=\"text-align: right;\">\n",
							"      <th></th>\n",
							"      <th>id</th>\n",
							"      <th>diagnosis</th>\n",
							"      <th>Radius_mean</th>\n",
							"      <th>Texture_mean</th>\n",
							"      <th>perimeter_mean</th>\n",
							"      <th>area_mean</th>\n",
							"      <th>smoothness_mean</th>\n",
							"      <th>compactness_mean</th>\n",
							"      <th>concavity_mean</th>\n",
							"      <th>concave points_mean</th>\n",
							"      <th>...</th>\n",
							"      <th>radius_worst</th>\n",
							"      <th>texture_worst</th>\n",
							"      <th>perimeter_worst</th>\n",
							"      <th>area_worst</th>\n",
							"      <th>smoothness_worst</th>\n",
							"      <th>compactness_worst</th>\n",
							"      <th>concavity_worst</th>\n",
							"      <th>concave points_worst</th>\n",
							"      <th>symmetry_worst</th>\n",
							"      <th>fractal_dimension_worst</th>\n",
							"    </tr>\n",
							"  </thead>\n",
							"  <tbody>\n",
							"    <tr>\n",
							"      <th>0</th>\n",
							"      <td>842302</td>\n",
							"      <td>M</td>\n",
							"      <td>17.99</td>\n",
							"      <td>10.38</td>\n",
							"      <td>122.80</td>\n",
							"      <td>1001.0</td>\n",
							"      <td>0.11840</td>\n",
							"      <td>0.27760</td>\n",
							"      <td>0.3001</td>\n",
							"      <td>0.14710</td>\n",
							"      <td>...</td>\n",
							"      <td>25.38</td>\n",
							"      <td>17.33</td>\n",
							"      <td>184.60</td>\n",
							"      <td>2019.0</td>\n",
							"      <td>0.1622</td>\n",
							"      <td>0.6656</td>\n",
							"      <td>0.7119</td>\n",
							"      <td>0.2654</td>\n",
							"      <td>0.4601</td>\n",
							"      <td>0.11890</td>\n",
							"    </tr>\n",
							"    <tr>\n",
							"      <th>1</th>\n",
							"      <td>842517</td>\n",
							"      <td>M</td>\n",
							"      <td>20.57</td>\n",
							"      <td>21.77</td>\n",
							"      <td>132.90</td>\n",
							"      <td>1326.0</td>\n",
							"      <td>0.08474</td>\n",
							"      <td>0.07864</td>\n",
							"      <td>0.0869</td>\n",
							"      <td>0.07017</td>\n",
							"      <td>...</td>\n",
							"      <td>24.99</td>\n",
							"      <td>23.41</td>\n",
							"      <td>158.80</td>\n",
							"      <td>1956.0</td>\n",
							"      <td>0.1238</td>\n",
							"      <td>0.1866</td>\n",
							"      <td>0.2416</td>\n",
							"      <td>0.1860</td>\n",
							"      <td>0.2750</td>\n",
							"      <td>0.08902</td>\n",
							"    </tr>\n",
							"    <tr>\n",
							"      <th>2</th>\n",
							"      <td>84300903</td>\n",
							"      <td>M</td>\n",
							"      <td>19.69</td>\n",
							"      <td>21.25</td>\n",
							"      <td>130.00</td>\n",
							"      <td>1203.0</td>\n",
							"      <td>0.10960</td>\n",
							"      <td>0.15990</td>\n",
							"      <td>0.1974</td>\n",
							"      <td>0.12790</td>\n",
							"      <td>...</td>\n",
							"      <td>23.57</td>\n",
							"      <td>25.53</td>\n",
							"      <td>152.50</td>\n",
							"      <td>1709.0</td>\n",
							"      <td>0.1444</td>\n",
							"      <td>0.4245</td>\n",
							"      <td>0.4504</td>\n",
							"      <td>0.2430</td>\n",
							"      <td>0.3613</td>\n",
							"      <td>0.08758</td>\n",
							"    </tr>\n",
							"    <tr>\n",
							"      <th>3</th>\n",
							"      <td>84348301</td>\n",
							"      <td>M</td>\n",
							"      <td>11.42</td>\n",
							"      <td>20.38</td>\n",
							"      <td>77.58</td>\n",
							"      <td>386.1</td>\n",
							"      <td>0.14250</td>\n",
							"      <td>0.28390</td>\n",
							"      <td>0.2414</td>\n",
							"      <td>0.10520</td>\n",
							"      <td>...</td>\n",
							"      <td>14.91</td>\n",
							"      <td>26.50</td>\n",
							"      <td>98.87</td>\n",
							"      <td>567.7</td>\n",
							"      <td>0.2098</td>\n",
							"      <td>0.8663</td>\n",
							"      <td>0.6869</td>\n",
							"      <td>0.2575</td>\n",
							"      <td>0.6638</td>\n",
							"      <td>0.17300</td>\n",
							"    </tr>\n",
							"    <tr>\n",
							"      <th>4</th>\n",
							"      <td>84358402</td>\n",
							"      <td>M</td>\n",
							"      <td>20.29</td>\n",
							"      <td>14.34</td>\n",
							"      <td>135.10</td>\n",
							"      <td>1297.0</td>\n",
							"      <td>0.10030</td>\n",
							"      <td>0.13280</td>\n",
							"      <td>0.1980</td>\n",
							"      <td>0.10430</td>\n",
							"      <td>...</td>\n",
							"      <td>22.54</td>\n",
							"      <td>16.67</td>\n",
							"      <td>152.20</td>\n",
							"      <td>1575.0</td>\n",
							"      <td>0.1374</td>\n",
							"      <td>0.2050</td>\n",
							"      <td>0.4000</td>\n",
							"      <td>0.1625</td>\n",
							"      <td>0.2364</td>\n",
							"      <td>0.07678</td>\n",
							"    </tr>\n",
							"  </tbody>\n",
							"</table>\n",
							"<p>5 rows × 32 columns</p>\n",
							"</div>"
						],
						"text/plain": [
							"         id diagnosis  Radius_mean  Texture_mean  perimeter_mean  area_mean   \n",
							"0    842302         M        17.99         10.38          122.80     1001.0  \\\n",
							"1    842517         M        20.57         21.77          132.90     1326.0   \n",
							"2  84300903         M        19.69         21.25          130.00     1203.0   \n",
							"3  84348301         M        11.42         20.38           77.58      386.1   \n",
							"4  84358402         M        20.29         14.34          135.10     1297.0   \n",
							"\n",
							"   smoothness_mean  compactness_mean  concavity_mean  concave points_mean   \n",
							"0          0.11840           0.27760          0.3001              0.14710  \\\n",
							"1          0.08474           0.07864          0.0869              0.07017   \n",
							"2          0.10960           0.15990          0.1974              0.12790   \n",
							"3          0.14250           0.28390          0.2414              0.10520   \n",
							"4          0.10030           0.13280          0.1980              0.10430   \n",
							"\n",
							"   ...  radius_worst  texture_worst  perimeter_worst  area_worst   \n",
							"0  ...         25.38          17.33           184.60      2019.0  \\\n",
							"1  ...         24.99          23.41           158.80      1956.0   \n",
							"2  ...         23.57          25.53           152.50      1709.0   \n",
							"3  ...         14.91          26.50            98.87       567.7   \n",
							"4  ...         22.54          16.67           152.20      1575.0   \n",
							"\n",
							"   smoothness_worst  compactness_worst  concavity_worst  concave points_worst   \n",
							"0            0.1622             0.6656           0.7119                0.2654  \\\n",
							"1            0.1238             0.1866           0.2416                0.1860   \n",
							"2            0.1444             0.4245           0.4504                0.2430   \n",
							"3            0.2098             0.8663           0.6869                0.2575   \n",
							"4            0.1374             0.2050           0.4000                0.1625   \n",
							"\n",
							"   symmetry_worst  fractal_dimension_worst  \n",
							"0          0.4601                  0.11890  \n",
							"1          0.2750                  0.08902  \n",
							"2          0.3613                  0.08758  \n",
							"3          0.6638                  0.17300  \n",
							"4          0.2364                  0.07678  \n",
							"\n",
							"[5 rows x 32 columns]"
						]
					},
					"execution_count": 12,
					"metadata": {},
					"output_type": "execute_result"
				}
			],
			"source": [
				"df.head()"
			]
		},
		{
			"cell_type": "markdown",
			"metadata": {
				"id": "ZY3l0-AxO93d"
			},
			"source": [
				"---"
			]
		},
		{
			"attachments": {},
			"cell_type": "markdown",
			"metadata": {
				"id": "uFQo3ycuO-v6"
			},
			"source": [
				"# Load and Inspect Kaggle data"
			]
		},
		{
			"cell_type": "code",
			"execution_count": 8,
			"metadata": {},
			"outputs": [
				{
					"output_type": "execute_result",
					"data": {
						"text/plain": "         id diagnosis  Radius_mean  Texture_mean  perimeter_mean  area_mean   \n0    842302         M        17.99         10.38          122.80     1001.0  \\\n1    842517         M        20.57         21.77          132.90     1326.0   \n2  84300903         M        19.69         21.25          130.00     1203.0   \n3  84348301         M        11.42         20.38           77.58      386.1   \n4  84358402         M        20.29         14.34          135.10     1297.0   \n\n   smoothness_mean  compactness_mean  concavity_mean  concave points_mean   \n0          0.11840           0.27760          0.3001              0.14710  \\\n1          0.08474           0.07864          0.0869              0.07017   \n2          0.10960           0.15990          0.1974              0.12790   \n3          0.14250           0.28390          0.2414              0.10520   \n4          0.10030           0.13280          0.1980              0.10430   \n\n   ...  radius_worst  texture_worst  perimeter_worst  area_worst   \n0  ...         25.38          17.33           184.60      2019.0  \\\n1  ...         24.99          23.41           158.80      1956.0   \n2  ...         23.57          25.53           152.50      1709.0   \n3  ...         14.91          26.50            98.87       567.7   \n4  ...         22.54          16.67           152.20      1575.0   \n\n   smoothness_worst  compactness_worst  concavity_worst  concave points_worst   \n0            0.1622             0.6656           0.7119                0.2654  \\\n1            0.1238             0.1866           0.2416                0.1860   \n2            0.1444             0.4245           0.4504                0.2430   \n3            0.2098             0.8663           0.6869                0.2575   \n4            0.1374             0.2050           0.4000                0.1625   \n\n   symmetry_worst  fractal_dimension_worst  \n0          0.4601                  0.11890  \n1          0.2750                  0.08902  \n2          0.3613                  0.08758  \n3          0.6638                  0.17300  \n4          0.2364                  0.07678  \n\n[5 rows x 32 columns]",
						"text/html": "<div>\n<style scoped>\n    .dataframe tbody tr th:only-of-type {\n        vertical-align: middle;\n    }\n\n    .dataframe tbody tr th {\n        vertical-align: top;\n    }\n\n    .dataframe thead th {\n        text-align: right;\n    }\n</style>\n<table border=\"1\" class=\"dataframe\">\n  <thead>\n    <tr style=\"text-align: right;\">\n      <th></th>\n      <th>id</th>\n      <th>diagnosis</th>\n      <th>Radius_mean</th>\n      <th>Texture_mean</th>\n      <th>perimeter_mean</th>\n      <th>area_mean</th>\n      <th>smoothness_mean</th>\n      <th>compactness_mean</th>\n      <th>concavity_mean</th>\n      <th>concave points_mean</th>\n      <th>...</th>\n      <th>radius_worst</th>\n      <th>texture_worst</th>\n      <th>perimeter_worst</th>\n      <th>area_worst</th>\n      <th>smoothness_worst</th>\n      <th>compactness_worst</th>\n      <th>concavity_worst</th>\n      <th>concave points_worst</th>\n      <th>symmetry_worst</th>\n      <th>fractal_dimension_worst</th>\n    </tr>\n  </thead>\n  <tbody>\n    <tr>\n      <th>0</th>\n      <td>842302</td>\n      <td>M</td>\n      <td>17.99</td>\n      <td>10.38</td>\n      <td>122.80</td>\n      <td>1001.0</td>\n      <td>0.11840</td>\n      <td>0.27760</td>\n      <td>0.3001</td>\n      <td>0.14710</td>\n      <td>...</td>\n      <td>25.38</td>\n      <td>17.33</td>\n      <td>184.60</td>\n      <td>2019.0</td>\n      <td>0.1622</td>\n      <td>0.6656</td>\n      <td>0.7119</td>\n      <td>0.2654</td>\n      <td>0.4601</td>\n      <td>0.11890</td>\n    </tr>\n    <tr>\n      <th>1</th>\n      <td>842517</td>\n      <td>M</td>\n      <td>20.57</td>\n      <td>21.77</td>\n      <td>132.90</td>\n      <td>1326.0</td>\n      <td>0.08474</td>\n      <td>0.07864</td>\n      <td>0.0869</td>\n      <td>0.07017</td>\n      <td>...</td>\n      <td>24.99</td>\n      <td>23.41</td>\n      <td>158.80</td>\n      <td>1956.0</td>\n      <td>0.1238</td>\n      <td>0.1866</td>\n      <td>0.2416</td>\n      <td>0.1860</td>\n      <td>0.2750</td>\n      <td>0.08902</td>\n    </tr>\n    <tr>\n      <th>2</th>\n      <td>84300903</td>\n      <td>M</td>\n      <td>19.69</td>\n      <td>21.25</td>\n      <td>130.00</td>\n      <td>1203.0</td>\n      <td>0.10960</td>\n      <td>0.15990</td>\n      <td>0.1974</td>\n      <td>0.12790</td>\n      <td>...</td>\n      <td>23.57</td>\n      <td>25.53</td>\n      <td>152.50</td>\n      <td>1709.0</td>\n      <td>0.1444</td>\n      <td>0.4245</td>\n      <td>0.4504</td>\n      <td>0.2430</td>\n      <td>0.3613</td>\n      <td>0.08758</td>\n    </tr>\n    <tr>\n      <th>3</th>\n      <td>84348301</td>\n      <td>M</td>\n      <td>11.42</td>\n      <td>20.38</td>\n      <td>77.58</td>\n      <td>386.1</td>\n      <td>0.14250</td>\n      <td>0.28390</td>\n      <td>0.2414</td>\n      <td>0.10520</td>\n      <td>...</td>\n      <td>14.91</td>\n      <td>26.50</td>\n      <td>98.87</td>\n      <td>567.7</td>\n      <td>0.2098</td>\n      <td>0.8663</td>\n      <td>0.6869</td>\n      <td>0.2575</td>\n      <td>0.6638</td>\n      <td>0.17300</td>\n    </tr>\n    <tr>\n      <th>4</th>\n      <td>84358402</td>\n      <td>M</td>\n      <td>20.29</td>\n      <td>14.34</td>\n      <td>135.10</td>\n      <td>1297.0</td>\n      <td>0.10030</td>\n      <td>0.13280</td>\n      <td>0.1980</td>\n      <td>0.10430</td>\n      <td>...</td>\n      <td>22.54</td>\n      <td>16.67</td>\n      <td>152.20</td>\n      <td>1575.0</td>\n      <td>0.1374</td>\n      <td>0.2050</td>\n      <td>0.4000</td>\n      <td>0.1625</td>\n      <td>0.2364</td>\n      <td>0.07678</td>\n    </tr>\n  </tbody>\n</table>\n<p>5 rows × 32 columns</p>\n</div>"
					},
					"metadata": {},
					"execution_count": 8
				}
			],
			"source": [
				"import pandas as pd\n",
				"df = pd.read_csv(f\"inputs/datasets/raw/data.csv\")\n",
				"df.head()"
			]
		},
		{
			"attachments": {},
			"cell_type": "markdown",
			"metadata": {},
			"source": [
				"# DataFrame Summary"
			]
		},
		{
			"cell_type": "code",
			"execution_count": 9,
			"metadata": {
				"tags": []
			},
			"outputs": [
				{
					"output_type": "stream",
					"name": "stdout",
					"text": "<class 'pandas.core.frame.DataFrame'>\nRangeIndex: 569 entries, 0 to 568\nData columns (total 32 columns):\n #   Column                   Non-Null Count  Dtype  \n---  ------                   --------------  -----  \n 0   id                       569 non-null    int64  \n 1   diagnosis                569 non-null    object \n 2   Radius_mean              569 non-null    float64\n 3   Texture_mean             569 non-null    float64\n 4   perimeter_mean           569 non-null    float64\n 5   area_mean                569 non-null    float64\n 6   smoothness_mean          569 non-null    float64\n 7   compactness_mean         569 non-null    float64\n 8   concavity_mean           569 non-null    float64\n 9   concave points_mean      569 non-null    float64\n 10  symmetry_mean            569 non-null    float64\n 11  fractal_dimension_mean   569 non-null    float64\n 12  radius_se                569 non-null    float64\n 13  texture_se               569 non-null    float64\n 14  perimeter_se             569 non-null    float64\n 15  area_se                  569 non-null    float64\n 16  smoothness_se            569 non-null    float64\n 17  compactness_se           569 non-null    float64\n 18  concavity_se             569 non-null    float64\n 19  concave points_se        569 non-null    float64\n 20  symmetry_se              569 non-null    float64\n 21  fractal_dimension_se     569 non-null    float64\n 22  radius_worst             569 non-null    float64\n 23  texture_worst            569 non-null    float64\n 24  perimeter_worst          569 non-null    float64\n 25  area_worst               569 non-null    float64\n 26  smoothness_worst         569 non-null    float64\n 27  compactness_worst        569 non-null    float64\n 28  concavity_worst          569 non-null    float64\n 29  concave points_worst     569 non-null    float64\n 30  symmetry_worst           569 non-null    float64\n 31  fractal_dimension_worst  569 non-null    float64\ndtypes: float64(30), int64(1), object(1)\nmemory usage: 142.4+ KB\n"
				}
			],
			"source": [
				"df.info()"
			]
		},
		{
			"attachments": {},
			"cell_type": "markdown",
			"metadata": {},
			"source": [
				"# Data Cleaning\n",
				"\n",
				"Missing or Null Data points\n",
				"\n",
				"We will find any missing or null data points of the data set (if there is any) using the following pandas function."
			]
		},
		{
			"cell_type": "code",
			"execution_count": 21,
			"metadata": {},
			"outputs": [
				{
					"output_type": "execute_result",
					"data": {
						"text/plain": "         id diagnosis  Radius_mean  Texture_mean  perimeter_mean  area_mean   \n0    842302         M        17.99         10.38          122.80     1001.0  \\\n1    842517         M        20.57         21.77          132.90     1326.0   \n2  84300903         M        19.69         21.25          130.00     1203.0   \n3  84348301         M        11.42         20.38           77.58      386.1   \n4  84358402         M        20.29         14.34          135.10     1297.0   \n\n   smoothness_mean  compactness_mean  concavity_mean  concave points_mean   \n0          0.11840           0.27760          0.3001              0.14710  \\\n1          0.08474           0.07864          0.0869              0.07017   \n2          0.10960           0.15990          0.1974              0.12790   \n3          0.14250           0.28390          0.2414              0.10520   \n4          0.10030           0.13280          0.1980              0.10430   \n\n   ...  radius_worst  texture_worst  perimeter_worst  area_worst   \n0  ...         25.38          17.33           184.60      2019.0  \\\n1  ...         24.99          23.41           158.80      1956.0   \n2  ...         23.57          25.53           152.50      1709.0   \n3  ...         14.91          26.50            98.87       567.7   \n4  ...         22.54          16.67           152.20      1575.0   \n\n   smoothness_worst  compactness_worst  concavity_worst  concave points_worst   \n0            0.1622             0.6656           0.7119                0.2654  \\\n1            0.1238             0.1866           0.2416                0.1860   \n2            0.1444             0.4245           0.4504                0.2430   \n3            0.2098             0.8663           0.6869                0.2575   \n4            0.1374             0.2050           0.4000                0.1625   \n\n   symmetry_worst  fractal_dimension_worst  \n0          0.4601                  0.11890  \n1          0.2750                  0.08902  \n2          0.3613                  0.08758  \n3          0.6638                  0.17300  \n4          0.2364                  0.07678  \n\n[5 rows x 32 columns]",
						"text/html": "<div>\n<style scoped>\n    .dataframe tbody tr th:only-of-type {\n        vertical-align: middle;\n    }\n\n    .dataframe tbody tr th {\n        vertical-align: top;\n    }\n\n    .dataframe thead th {\n        text-align: right;\n    }\n</style>\n<table border=\"1\" class=\"dataframe\">\n  <thead>\n    <tr style=\"text-align: right;\">\n      <th></th>\n      <th>id</th>\n      <th>diagnosis</th>\n      <th>Radius_mean</th>\n      <th>Texture_mean</th>\n      <th>perimeter_mean</th>\n      <th>area_mean</th>\n      <th>smoothness_mean</th>\n      <th>compactness_mean</th>\n      <th>concavity_mean</th>\n      <th>concave points_mean</th>\n      <th>...</th>\n      <th>radius_worst</th>\n      <th>texture_worst</th>\n      <th>perimeter_worst</th>\n      <th>area_worst</th>\n      <th>smoothness_worst</th>\n      <th>compactness_worst</th>\n      <th>concavity_worst</th>\n      <th>concave points_worst</th>\n      <th>symmetry_worst</th>\n      <th>fractal_dimension_worst</th>\n    </tr>\n  </thead>\n  <tbody>\n    <tr>\n      <th>0</th>\n      <td>842302</td>\n      <td>M</td>\n      <td>17.99</td>\n      <td>10.38</td>\n      <td>122.80</td>\n      <td>1001.0</td>\n      <td>0.11840</td>\n      <td>0.27760</td>\n      <td>0.3001</td>\n      <td>0.14710</td>\n      <td>...</td>\n      <td>25.38</td>\n      <td>17.33</td>\n      <td>184.60</td>\n      <td>2019.0</td>\n      <td>0.1622</td>\n      <td>0.6656</td>\n      <td>0.7119</td>\n      <td>0.2654</td>\n      <td>0.4601</td>\n      <td>0.11890</td>\n    </tr>\n    <tr>\n      <th>1</th>\n      <td>842517</td>\n      <td>M</td>\n      <td>20.57</td>\n      <td>21.77</td>\n      <td>132.90</td>\n      <td>1326.0</td>\n      <td>0.08474</td>\n      <td>0.07864</td>\n      <td>0.0869</td>\n      <td>0.07017</td>\n      <td>...</td>\n      <td>24.99</td>\n      <td>23.41</td>\n      <td>158.80</td>\n      <td>1956.0</td>\n      <td>0.1238</td>\n      <td>0.1866</td>\n      <td>0.2416</td>\n      <td>0.1860</td>\n      <td>0.2750</td>\n      <td>0.08902</td>\n    </tr>\n    <tr>\n      <th>2</th>\n      <td>84300903</td>\n      <td>M</td>\n      <td>19.69</td>\n      <td>21.25</td>\n      <td>130.00</td>\n      <td>1203.0</td>\n      <td>0.10960</td>\n      <td>0.15990</td>\n      <td>0.1974</td>\n      <td>0.12790</td>\n      <td>...</td>\n      <td>23.57</td>\n      <td>25.53</td>\n      <td>152.50</td>\n      <td>1709.0</td>\n      <td>0.1444</td>\n      <td>0.4245</td>\n      <td>0.4504</td>\n      <td>0.2430</td>\n      <td>0.3613</td>\n      <td>0.08758</td>\n    </tr>\n    <tr>\n      <th>3</th>\n      <td>84348301</td>\n      <td>M</td>\n      <td>11.42</td>\n      <td>20.38</td>\n      <td>77.58</td>\n      <td>386.1</td>\n      <td>0.14250</td>\n      <td>0.28390</td>\n      <td>0.2414</td>\n      <td>0.10520</td>\n      <td>...</td>\n      <td>14.91</td>\n      <td>26.50</td>\n      <td>98.87</td>\n      <td>567.7</td>\n      <td>0.2098</td>\n      <td>0.8663</td>\n      <td>0.6869</td>\n      <td>0.2575</td>\n      <td>0.6638</td>\n      <td>0.17300</td>\n    </tr>\n    <tr>\n      <th>4</th>\n      <td>84358402</td>\n      <td>M</td>\n      <td>20.29</td>\n      <td>14.34</td>\n      <td>135.10</td>\n      <td>1297.0</td>\n      <td>0.10030</td>\n      <td>0.13280</td>\n      <td>0.1980</td>\n      <td>0.10430</td>\n      <td>...</td>\n      <td>22.54</td>\n      <td>16.67</td>\n      <td>152.20</td>\n      <td>1575.0</td>\n      <td>0.1374</td>\n      <td>0.2050</td>\n      <td>0.4000</td>\n      <td>0.1625</td>\n      <td>0.2364</td>\n      <td>0.07678</td>\n    </tr>\n  </tbody>\n</table>\n<p>5 rows × 32 columns</p>\n</div>"
					},
					"metadata": {},
					"execution_count": 21
				}
			],
			"source": [
				"! pip install pandas-profiling\n",
				"\n",
				"import pandas as pd\n",
				"df_raw_path = \"inputs/datasets/raw/data.csv\"\n",
				"df = pd.read_csv(df_raw_path)\n",
				"df.head(5)"
			]
		},
		{
			"attachments": {},
			"cell_type": "markdown",
			"metadata": {},
			"source": [
				"Drop all missing or null data"
			]
		},
		{
			"cell_type": "code",
			"execution_count": 22,
			"metadata": {},
			"outputs": [
				{
					"output_type": "execute_result",
					"data": {
						"text/plain": "[]"
					},
					"metadata": {},
					"execution_count": 22
				}
			],
			"source": [
				"vars_with_missing_data = df.columns[df.isna().sum() > 0].to_list()\n",
				"vars_with_missing_data"
			]
		},
		{
			"cell_type": "code",
			"execution_count": 17,
			"metadata": {},
			"outputs": [
				{
					"output_type": "error",
					"ename": "ModuleNotFoundError",
					"evalue": "No module named 'pandas_profiling'",
					"traceback": [
						"\u001b[0;31m---------------------------------------------------------------------------\u001b[0m",
						"\u001b[0;31mModuleNotFoundError\u001b[0m                       Traceback (most recent call last)",
						"Cell \u001b[0;32mIn[17], line 1\u001b[0m\n\u001b[0;32m----> 1\u001b[0m \u001b[38;5;28;01mfrom\u001b[39;00m \u001b[38;5;21;01mpandas_profiling\u001b[39;00m \u001b[38;5;28;01mimport\u001b[39;00m ProfileReport\n\u001b[1;32m      2\u001b[0m \u001b[38;5;28;01mif\u001b[39;00m vars_with_missing_data:\n\u001b[1;32m      3\u001b[0m     profile \u001b[38;5;241m=\u001b[39m ProfileReport(df\u001b[38;5;241m=\u001b[39mdf[vars_with_missing_data], minimal\u001b[38;5;241m=\u001b[39m\u001b[38;5;28;01mTrue\u001b[39;00m)\n",
						"\u001b[0;31mModuleNotFoundError\u001b[0m: No module named 'pandas_profiling'"
					]
				}
			],
			"source": [
				"from pandas_profiling import ProfileReport\n",
				"if vars_with_missing_data:\n",
				"    profile = ProfileReport(df=df[vars_with_missing_data], minimal=True)\n",
				"    profile.to_notebook_iframe()\n",
				"else:\n",
				"    print(\"There are no variables with missing data\")"
			]
		},
		{
			"attachments": {},
			"cell_type": "markdown",
			"metadata": {},
			"source": [
				"Drop Duplicates"
			]
		},
		{
			"cell_type": "code",
			"execution_count": null,
			"metadata": {},
			"outputs": [],
			"source": [
				"nr_rows = df.shape[0]\n",
				"print('Number of rows: %d' % nr_rows)\n",
				"df = df.drop_duplicates().reset_index(drop=True)\n",
				"print('Number of dropped rows: %d' % (nr_rows - df.shape[0]))\n",
				"print('Number of remainin rows: %d' % df.shape[0])"
			]
		},
		{
			"cell_type": "code",
			"execution_count": null,
			"metadata": {},
			"outputs": [],
			"source": [
				"# print the first 5 rows of the dataframe\n",
				"data_frame.head()"
			]
		},
		{
			"cell_type": "code",
			"execution_count": null,
			"metadata": {},
			"outputs": [],
			"source": [
				"# number of rows and columns in the dataset\n",
				"data_frame.shape"
			]
		},
		{
			"cell_type": "code",
			"execution_count": null,
			"metadata": {},
			"outputs": [],
			"source": [
				"# getting some information about the data\n",
				"data_frame.info()"
			]
		},
		{
			"cell_type": "code",
			"execution_count": null,
			"metadata": {},
			"outputs": [],
			"source": [
				"df.describe(include='all').transpose()"
			]
		},
		{
			"cell_type": "markdown",
			"metadata": {},
			"source": [
				"---"
			]
		},
		{
			"cell_type": "markdown",
			"metadata": {},
			"source": [
				"NOTE"
			]
		},
		{
			"cell_type": "markdown",
			"metadata": {},
			"source": [
				"* You may add as many sections as you want, as long as it supports your project workflow.\n",
				"* All notebook's cells should be run top-down (you can't create a dynamic wherein a given point you need to go back to a previous cell to execute some task, like go back to a previous cell and refresh a variable content)"
			]
		},
		{
			"cell_type": "markdown",
			"metadata": {},
			"source": [
				"---"
			]
		},
		{
			"cell_type": "markdown",
			"metadata": {
				"id": "ltNetd085qHf"
			},
			"source": [
				"# Push files to Repo"
			]
		},
		{
			"cell_type": "markdown",
			"metadata": {},
			"source": [
				"* In case you don't need to push files to Repo, you may replace this section with \"Conclusions and Next Steps\" and state your conclusions and next steps."
			]
		},
		{
			"cell_type": "code",
			"execution_count": 19,
			"metadata": {
				"id": "aKlnIozA4eQO",
				"outputId": "fd09bc1f-adb1-4511-f6ce-492a6af570c0"
			},
			"outputs": [
				{
					"ename": "IndentationError",
					"evalue": "expected an indented block after 'try' statement on line 2 (2852421808.py, line 5)",
					"output_type": "error",
					"traceback": [
						"\u001b[0;36m  Cell \u001b[0;32mIn[19], line 5\u001b[0;36m\u001b[0m\n\u001b[0;31m    except Exception as e:\u001b[0m\n\u001b[0m    ^\u001b[0m\n\u001b[0;31mIndentationError\u001b[0m\u001b[0;31m:\u001b[0m expected an indented block after 'try' statement on line 2\n"
					]
				}
			],
			"source": [
				"import os\n",
				"try:\n",
				"  os.makedirs(name='outputs/datasets/collection') # create outputs/datasets/collection folder\n",
				"except Exception as e:\n",
				"  print(e)\n",
				"\n",
				"df.to_csv(f\"outputs/datasets/collection/data.csv\",index=False)\n"
			]
		}
	],
	"metadata": {
		"accelerator": "GPU",
		"colab": {
			"name": "Data Practitioner Jupyter Notebook.ipynb",
			"provenance": [],
			"toc_visible": true
		},
		"interpreter": {
			"hash": "8b8334dab9339717f727a1deaf837b322d7a41c20d15cc86be99a8e69ceec8ce"
		},
		"kernelspec": {
			"display_name": "Python 3.10.6 64-bit",
			"name": "python_defaultSpec_1681907239737"
		},
		"language_info": {
			"codemirror_mode": {
				"name": "ipython",
				"version": 3
			},
			"file_extension": ".py",
			"mimetype": "text/x-python",
			"name": "python",
			"nbconvert_exporter": "python",
			"pygments_lexer": "ipython3",
			"version": "3.10.6-final"
		},
		"orig_nbformat": 2
	},
	"nbformat": 4,
	"nbformat_minor": 2
}