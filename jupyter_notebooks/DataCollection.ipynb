{
	"cells": [
		{
			"attachments": {},
			"cell_type": "markdown",
			"metadata": {
				"id": "0aStgWSO0E0E"
			},
			"source": [
				"# **(Data Collection Notebook)**"
			]
		},
		{
			"attachments": {},
			"cell_type": "markdown",
			"metadata": {
				"id": "9uWZXH9LwoQg"
			},
			"source": [
				"## Objectives\n",
				"\n",
				"- Download data from Kaggle and save it as raw data.\n",
				"- Evaluate missing data\n",
				"- Inspect the data and save it under outputs/datasets/collection\n",
				"\n",
				"## Inputs\n",
				"\n",
				"Dat set from Kaggle data.csv\n",
				"\n",
				"## Outputs\n",
				"\n",
				"Generate Dataset: outputs/datasets/collection/---\n",
				"\n",
				"## Additional Comments\n"
			]
		},
		{
			"cell_type": "markdown",
			"metadata": {
				"id": "cqP-UeN-z3i2"
			},
			"source": [
				"# Change working directory"
			]
		},
		{
			"cell_type": "markdown",
			"metadata": {},
			"source": [
				"* We are assuming you will store the notebooks in a subfolder, therefore when running the notebook in the editor, you will need to change the working directory"
			]
		},
		{
			"cell_type": "markdown",
			"metadata": {
				"id": "aOGIGS-uz3i2"
			},
			"source": [
				"We need to change the working directory from its current folder to its parent folder\n",
				"* We access the current directory with os.getcwd()"
			]
		},
		{
			"cell_type": "code",
			"execution_count": 2,
			"metadata": {
				"id": "wZfF_j-Bz3i4",
				"outputId": "66943449-1436-4c3d-85c7-b85f9f78349b"
			},
			"outputs": [
				{
					"data": {
						"text/plain": [
							"'/workspaces/Breast-Cancer-Prediction/jupyter_notebooks'"
						]
					},
					"execution_count": 2,
					"metadata": {},
					"output_type": "execute_result"
				}
			],
			"source": [
				"import os\n",
				"current_dir = os.getcwd()\n",
				"current_dir"
			]
		},
		{
			"cell_type": "markdown",
			"metadata": {
				"id": "9MWW8E7lz3i7"
			},
			"source": [
				"We want to make the parent of the current directory the new current directory\n",
				"* os.path.dirname() gets the parent directory\n",
				"* os.chir() defines the new current directory"
			]
		},
		{
			"cell_type": "code",
			"execution_count": 3,
			"metadata": {
				"id": "TwHsQRWjz3i9",
				"outputId": "86849db3-cd2f-4cc5-ebb8-2d0caafa1a2c",
				"tags": []
			},
			"outputs": [
				{
					"name": "stdout",
					"output_type": "stream",
					"text": [
						"You set a new current directory\n"
					]
				}
			],
			"source": [
				"os.chdir(os.path.dirname(current_dir))\n",
				"print(\"You set a new current directory\")"
			]
		},
		{
			"cell_type": "markdown",
			"metadata": {
				"id": "M_xPk_Ijz3i-"
			},
			"source": [
				"Confirm the new current directory"
			]
		},
		{
			"cell_type": "code",
			"execution_count": 4,
			"metadata": {
				"id": "vz3S-_kjz3jA",
				"outputId": "00b79ae4-75d0-4a96-d193-ac9ef9847ea2"
			},
			"outputs": [
				{
					"data": {
						"text/plain": [
							"'/workspaces/Breast-Cancer-Prediction'"
						]
					},
					"execution_count": 4,
					"metadata": {},
					"output_type": "execute_result"
				}
			],
			"source": [
				"current_dir = os.getcwd()\n",
				"current_dir"
			]
		},
		{
			"attachments": {},
			"cell_type": "markdown",
			"metadata": {
				"id": "-mavJ8DibrcQ"
			},
			"source": [
				"# Download data from Kaggle and upload"
			]
		},
		{
			"cell_type": "code",
			"execution_count": 6,
			"metadata": {
				"tags": []
			},
			"outputs": [
				{
					"name": "stdout",
					"output_type": "stream",
					"text": [
						"Defaulting to user installation because normal site-packages is not writeable\n",
						"Collecting numpy\n",
						"  Downloading numpy-1.24.2-cp310-cp310-manylinux_2_17_x86_64.manylinux2014_x86_64.whl (17.3 MB)\n",
						"\u001b[2K     \u001b[90m━━━━━━━━━━━━━━━━━━━━━━━━━━━━━━━━━━━━━━━━\u001b[0m \u001b[32m17.3/17.3 MB\u001b[0m \u001b[31m36.6 MB/s\u001b[0m eta \u001b[36m0:00:00\u001b[0m\n",
						"\u001b[?25hInstalling collected packages: numpy\n",
						"\u001b[33m  WARNING: The scripts f2py, f2py3 and f2py3.10 are installed in '/home/codeany/.local/bin' which is not on PATH.\n",
						"  Consider adding this directory to PATH or, if you prefer to suppress this warning, use --no-warn-script-location.\u001b[0m\u001b[33m\n",
						"\u001b[0mSuccessfully installed numpy-1.24.2\n",
						"\n",
						"\u001b[1m[\u001b[0m\u001b[34;49mnotice\u001b[0m\u001b[1;39;49m]\u001b[0m\u001b[39;49m A new release of pip is available: \u001b[0m\u001b[31;49m23.0\u001b[0m\u001b[39;49m -> \u001b[0m\u001b[32;49m23.1\u001b[0m\n",
						"\u001b[1m[\u001b[0m\u001b[34;49mnotice\u001b[0m\u001b[1;39;49m]\u001b[0m\u001b[39;49m To update, run: \u001b[0m\u001b[32;49mpython -m pip install --upgrade pip\u001b[0m\n",
						"Defaulting to user installation because normal site-packages is not writeable\n",
						"Collecting matplotlib\n",
						"  Downloading matplotlib-3.7.1-cp310-cp310-manylinux_2_17_x86_64.manylinux2014_x86_64.whl (11.6 MB)\n",
						"\u001b[2K     \u001b[90m━━━━━━━━━━━━━━━━━━━━━━━━━━━━━━━━━━━━━━━━\u001b[0m \u001b[32m11.6/11.6 MB\u001b[0m \u001b[31m22.3 MB/s\u001b[0m eta \u001b[36m0:00:00\u001b[0m\n",
						"\u001b[?25hRequirement already satisfied: numpy>=1.20 in /home/codeany/.local/lib/python3.10/site-packages (from matplotlib) (1.24.2)\n",
						"Collecting kiwisolver>=1.0.1\n",
						"  Downloading kiwisolver-1.4.4-cp310-cp310-manylinux_2_12_x86_64.manylinux2010_x86_64.whl (1.6 MB)\n",
						"\u001b[2K     \u001b[90m━━━━━━━━━━━━━━━━━━━━━━━━━━━━━━━━━━━━━━━━\u001b[0m \u001b[32m1.6/1.6 MB\u001b[0m \u001b[31m72.7 MB/s\u001b[0m eta \u001b[36m0:00:00\u001b[0m\n",
						"\u001b[?25hRequirement already satisfied: python-dateutil>=2.7 in /home/codeany/.local/lib/python3.10/site-packages (from matplotlib) (2.8.2)\n",
						"Collecting cycler>=0.10\n",
						"  Downloading cycler-0.11.0-py3-none-any.whl (6.4 kB)\n",
						"Collecting pillow>=6.2.0\n",
						"  Downloading Pillow-9.5.0-cp310-cp310-manylinux_2_28_x86_64.whl (3.4 MB)\n",
						"\u001b[2K     \u001b[90m━━━━━━━━━━━━━━━━━━━━━━━━━━━━━━━━━━━━━━━━\u001b[0m \u001b[32m3.4/3.4 MB\u001b[0m \u001b[31m35.8 MB/s\u001b[0m eta \u001b[36m0:00:00\u001b[0m\n",
						"\u001b[?25hCollecting fonttools>=4.22.0\n",
						"  Downloading fonttools-4.39.3-py3-none-any.whl (1.0 MB)\n",
						"\u001b[2K     \u001b[90m━━━━━━━━━━━━━━━━━━━━━━━━━━━━━━━━━━━━━━━━\u001b[0m \u001b[32m1.0/1.0 MB\u001b[0m \u001b[31m18.5 MB/s\u001b[0m eta \u001b[36m0:00:00\u001b[0m\n",
						"\u001b[?25hRequirement already satisfied: packaging>=20.0 in /home/codeany/.local/lib/python3.10/site-packages (from matplotlib) (23.1)\n",
						"Requirement already satisfied: pyparsing>=2.3.1 in /usr/lib/python3/dist-packages (from matplotlib) (2.4.7)\n",
						"Collecting contourpy>=1.0.1\n",
						"  Downloading contourpy-1.0.7-cp310-cp310-manylinux_2_17_x86_64.manylinux2014_x86_64.whl (300 kB)\n",
						"\u001b[2K     \u001b[90m━━━━━━━━━━━━━━━━━━━━━━━━━━━━━━━━━━━━━━\u001b[0m \u001b[32m300.3/300.3 kB\u001b[0m \u001b[31m59.9 MB/s\u001b[0m eta \u001b[36m0:00:00\u001b[0m\n",
						"\u001b[?25hRequirement already satisfied: six>=1.5 in /usr/lib/python3/dist-packages (from python-dateutil>=2.7->matplotlib) (1.16.0)\n",
						"Installing collected packages: pillow, kiwisolver, fonttools, cycler, contourpy, matplotlib\n",
						"\u001b[33m  WARNING: The scripts fonttools, pyftmerge, pyftsubset and ttx are installed in '/home/codeany/.local/bin' which is not on PATH.\n",
						"  Consider adding this directory to PATH or, if you prefer to suppress this warning, use --no-warn-script-location.\u001b[0m\u001b[33m\n",
						"\u001b[0mSuccessfully installed contourpy-1.0.7 cycler-0.11.0 fonttools-4.39.3 kiwisolver-1.4.4 matplotlib-3.7.1 pillow-9.5.0\n",
						"\n",
						"\u001b[1m[\u001b[0m\u001b[34;49mnotice\u001b[0m\u001b[1;39;49m]\u001b[0m\u001b[39;49m A new release of pip is available: \u001b[0m\u001b[31;49m23.0\u001b[0m\u001b[39;49m -> \u001b[0m\u001b[32;49m23.1\u001b[0m\n",
						"\u001b[1m[\u001b[0m\u001b[34;49mnotice\u001b[0m\u001b[1;39;49m]\u001b[0m\u001b[39;49m To update, run: \u001b[0m\u001b[32;49mpython -m pip install --upgrade pip\u001b[0m\n",
						"Defaulting to user installation because normal site-packages is not writeable\n",
						"Collecting pandas\n",
						"  Downloading pandas-2.0.0-cp310-cp310-manylinux_2_17_x86_64.manylinux2014_x86_64.whl (12.3 MB)\n",
						"\u001b[2K     \u001b[90m━━━━━━━━━━━━━━━━━━━━━━━━━━━━━━━━━━━━━━━━\u001b[0m \u001b[32m12.3/12.3 MB\u001b[0m \u001b[31m14.6 MB/s\u001b[0m eta \u001b[36m0:00:00\u001b[0m\n",
						"\u001b[?25hCollecting tzdata>=2022.1\n",
						"  Downloading tzdata-2023.3-py2.py3-none-any.whl (341 kB)\n",
						"\u001b[2K     \u001b[90m━━━━━━━━━━━━━━━━━━━━━━━━━━━━━━━━━━━━━━\u001b[0m \u001b[32m341.8/341.8 kB\u001b[0m \u001b[31m45.8 MB/s\u001b[0m eta \u001b[36m0:00:00\u001b[0m\n",
						"\u001b[?25hRequirement already satisfied: python-dateutil>=2.8.2 in /home/codeany/.local/lib/python3.10/site-packages (from pandas) (2.8.2)\n",
						"Collecting pytz>=2020.1\n",
						"  Downloading pytz-2023.3-py2.py3-none-any.whl (502 kB)\n",
						"\u001b[2K     \u001b[90m━━━━━━━━━━━━━━━━━━━━━━━━━━━━━━━━━━━━━━\u001b[0m \u001b[32m502.3/502.3 kB\u001b[0m \u001b[31m39.6 MB/s\u001b[0m eta \u001b[36m0:00:00\u001b[0m\n",
						"\u001b[?25hRequirement already satisfied: numpy>=1.21.0 in /home/codeany/.local/lib/python3.10/site-packages (from pandas) (1.24.2)\n",
						"Requirement already satisfied: six>=1.5 in /usr/lib/python3/dist-packages (from python-dateutil>=2.8.2->pandas) (1.16.0)\n",
						"Installing collected packages: pytz, tzdata, pandas\n",
						"Successfully installed pandas-2.0.0 pytz-2023.3 tzdata-2023.3\n",
						"\n",
						"\u001b[1m[\u001b[0m\u001b[34;49mnotice\u001b[0m\u001b[1;39;49m]\u001b[0m\u001b[39;49m A new release of pip is available: \u001b[0m\u001b[31;49m23.0\u001b[0m\u001b[39;49m -> \u001b[0m\u001b[32;49m23.1\u001b[0m\n",
						"\u001b[1m[\u001b[0m\u001b[34;49mnotice\u001b[0m\u001b[1;39;49m]\u001b[0m\u001b[39;49m To update, run: \u001b[0m\u001b[32;49mpython -m pip install --upgrade pip\u001b[0m\n",
						"Defaulting to user installation because normal site-packages is not writeable\n",
						"Collecting seaborn\n",
						"  Downloading seaborn-0.12.2-py3-none-any.whl (293 kB)\n",
						"\u001b[2K     \u001b[90m━━━━━━━━━━━━━━━━━━━━━━━━━━━━━━━━━━━━━━━\u001b[0m \u001b[32m293.3/293.3 kB\u001b[0m \u001b[31m2.5 MB/s\u001b[0m eta \u001b[36m0:00:00\u001b[0m\n",
						"\u001b[?25hRequirement already satisfied: numpy!=1.24.0,>=1.17 in /home/codeany/.local/lib/python3.10/site-packages (from seaborn) (1.24.2)\n",
						"Requirement already satisfied: pandas>=0.25 in /home/codeany/.local/lib/python3.10/site-packages (from seaborn) (2.0.0)\n",
						"Requirement already satisfied: matplotlib!=3.6.1,>=3.1 in /home/codeany/.local/lib/python3.10/site-packages (from seaborn) (3.7.1)\n",
						"Requirement already satisfied: python-dateutil>=2.7 in /home/codeany/.local/lib/python3.10/site-packages (from matplotlib!=3.6.1,>=3.1->seaborn) (2.8.2)\n",
						"Requirement already satisfied: pillow>=6.2.0 in /home/codeany/.local/lib/python3.10/site-packages (from matplotlib!=3.6.1,>=3.1->seaborn) (9.5.0)\n",
						"Requirement already satisfied: packaging>=20.0 in /home/codeany/.local/lib/python3.10/site-packages (from matplotlib!=3.6.1,>=3.1->seaborn) (23.1)\n",
						"Requirement already satisfied: contourpy>=1.0.1 in /home/codeany/.local/lib/python3.10/site-packages (from matplotlib!=3.6.1,>=3.1->seaborn) (1.0.7)\n",
						"Requirement already satisfied: kiwisolver>=1.0.1 in /home/codeany/.local/lib/python3.10/site-packages (from matplotlib!=3.6.1,>=3.1->seaborn) (1.4.4)\n",
						"Requirement already satisfied: cycler>=0.10 in /home/codeany/.local/lib/python3.10/site-packages (from matplotlib!=3.6.1,>=3.1->seaborn) (0.11.0)\n",
						"Requirement already satisfied: pyparsing>=2.3.1 in /usr/lib/python3/dist-packages (from matplotlib!=3.6.1,>=3.1->seaborn) (2.4.7)\n",
						"Requirement already satisfied: fonttools>=4.22.0 in /home/codeany/.local/lib/python3.10/site-packages (from matplotlib!=3.6.1,>=3.1->seaborn) (4.39.3)\n",
						"Requirement already satisfied: pytz>=2020.1 in /home/codeany/.local/lib/python3.10/site-packages (from pandas>=0.25->seaborn) (2023.3)\n",
						"Requirement already satisfied: tzdata>=2022.1 in /home/codeany/.local/lib/python3.10/site-packages (from pandas>=0.25->seaborn) (2023.3)\n",
						"Requirement already satisfied: six>=1.5 in /usr/lib/python3/dist-packages (from python-dateutil>=2.7->matplotlib!=3.6.1,>=3.1->seaborn) (1.16.0)\n",
						"Installing collected packages: seaborn\n",
						"Successfully installed seaborn-0.12.2\n",
						"\n",
						"\u001b[1m[\u001b[0m\u001b[34;49mnotice\u001b[0m\u001b[1;39;49m]\u001b[0m\u001b[39;49m A new release of pip is available: \u001b[0m\u001b[31;49m23.0\u001b[0m\u001b[39;49m -> \u001b[0m\u001b[32;49m23.1\u001b[0m\n",
						"\u001b[1m[\u001b[0m\u001b[34;49mnotice\u001b[0m\u001b[1;39;49m]\u001b[0m\u001b[39;49m To update, run: \u001b[0m\u001b[32;49mpython -m pip install --upgrade pip\u001b[0m\n"
					]
				}
			],
			"source": [
				"! pip install numpy\n",
				"! pip install matplotlib\n",
				"! pip install pandas\n",
				"! pip install seaborn"
			]
		},
		{
			"cell_type": "code",
			"execution_count": 8,
			"metadata": {
				"tags": []
			},
			"outputs": [],
			"source": [
				"# importing libraries\n",
				"import numpy\n",
				"import matplotlib.pyplot as plt\n",
				"import pandas as pd\n",
				"import seaborn as sns"
			]
		},
		{
			"attachments": {},
			"cell_type": "markdown",
			"metadata": {
				"id": "wNYS7ArHuGfT"
			},
			"source": [
				"We are using the following data from Kaggle [Kaggle URL](https://www.kaggle.com/datasets/vijayaadithyanvg/breast-cancer-prediction)"
			]
		},
		{
			"cell_type": "code",
			"execution_count": 11,
			"metadata": {},
			"outputs": [],
			"source": [
				"# reading data from the file\n",
				"df=pd.read_csv(\"inputs/datasets/raw/data.csv\")"
			]
		},
		{
			"cell_type": "code",
			"execution_count": 12,
			"metadata": {},
			"outputs": [
				{
					"data": {
						"text/html": [
							"<div>\n",
							"<style scoped>\n",
							"    .dataframe tbody tr th:only-of-type {\n",
							"        vertical-align: middle;\n",
							"    }\n",
							"\n",
							"    .dataframe tbody tr th {\n",
							"        vertical-align: top;\n",
							"    }\n",
							"\n",
							"    .dataframe thead th {\n",
							"        text-align: right;\n",
							"    }\n",
							"</style>\n",
							"<table border=\"1\" class=\"dataframe\">\n",
							"  <thead>\n",
							"    <tr style=\"text-align: right;\">\n",
							"      <th></th>\n",
							"      <th>id</th>\n",
							"      <th>diagnosis</th>\n",
							"      <th>Radius_mean</th>\n",
							"      <th>Texture_mean</th>\n",
							"      <th>perimeter_mean</th>\n",
							"      <th>area_mean</th>\n",
							"      <th>smoothness_mean</th>\n",
							"      <th>compactness_mean</th>\n",
							"      <th>concavity_mean</th>\n",
							"      <th>concave points_mean</th>\n",
							"      <th>...</th>\n",
							"      <th>radius_worst</th>\n",
							"      <th>texture_worst</th>\n",
							"      <th>perimeter_worst</th>\n",
							"      <th>area_worst</th>\n",
							"      <th>smoothness_worst</th>\n",
							"      <th>compactness_worst</th>\n",
							"      <th>concavity_worst</th>\n",
							"      <th>concave points_worst</th>\n",
							"      <th>symmetry_worst</th>\n",
							"      <th>fractal_dimension_worst</th>\n",
							"    </tr>\n",
							"  </thead>\n",
							"  <tbody>\n",
							"    <tr>\n",
							"      <th>0</th>\n",
							"      <td>842302</td>\n",
							"      <td>M</td>\n",
							"      <td>17.99</td>\n",
							"      <td>10.38</td>\n",
							"      <td>122.80</td>\n",
							"      <td>1001.0</td>\n",
							"      <td>0.11840</td>\n",
							"      <td>0.27760</td>\n",
							"      <td>0.3001</td>\n",
							"      <td>0.14710</td>\n",
							"      <td>...</td>\n",
							"      <td>25.38</td>\n",
							"      <td>17.33</td>\n",
							"      <td>184.60</td>\n",
							"      <td>2019.0</td>\n",
							"      <td>0.1622</td>\n",
							"      <td>0.6656</td>\n",
							"      <td>0.7119</td>\n",
							"      <td>0.2654</td>\n",
							"      <td>0.4601</td>\n",
							"      <td>0.11890</td>\n",
							"    </tr>\n",
							"    <tr>\n",
							"      <th>1</th>\n",
							"      <td>842517</td>\n",
							"      <td>M</td>\n",
							"      <td>20.57</td>\n",
							"      <td>21.77</td>\n",
							"      <td>132.90</td>\n",
							"      <td>1326.0</td>\n",
							"      <td>0.08474</td>\n",
							"      <td>0.07864</td>\n",
							"      <td>0.0869</td>\n",
							"      <td>0.07017</td>\n",
							"      <td>...</td>\n",
							"      <td>24.99</td>\n",
							"      <td>23.41</td>\n",
							"      <td>158.80</td>\n",
							"      <td>1956.0</td>\n",
							"      <td>0.1238</td>\n",
							"      <td>0.1866</td>\n",
							"      <td>0.2416</td>\n",
							"      <td>0.1860</td>\n",
							"      <td>0.2750</td>\n",
							"      <td>0.08902</td>\n",
							"    </tr>\n",
							"    <tr>\n",
							"      <th>2</th>\n",
							"      <td>84300903</td>\n",
							"      <td>M</td>\n",
							"      <td>19.69</td>\n",
							"      <td>21.25</td>\n",
							"      <td>130.00</td>\n",
							"      <td>1203.0</td>\n",
							"      <td>0.10960</td>\n",
							"      <td>0.15990</td>\n",
							"      <td>0.1974</td>\n",
							"      <td>0.12790</td>\n",
							"      <td>...</td>\n",
							"      <td>23.57</td>\n",
							"      <td>25.53</td>\n",
							"      <td>152.50</td>\n",
							"      <td>1709.0</td>\n",
							"      <td>0.1444</td>\n",
							"      <td>0.4245</td>\n",
							"      <td>0.4504</td>\n",
							"      <td>0.2430</td>\n",
							"      <td>0.3613</td>\n",
							"      <td>0.08758</td>\n",
							"    </tr>\n",
							"    <tr>\n",
							"      <th>3</th>\n",
							"      <td>84348301</td>\n",
							"      <td>M</td>\n",
							"      <td>11.42</td>\n",
							"      <td>20.38</td>\n",
							"      <td>77.58</td>\n",
							"      <td>386.1</td>\n",
							"      <td>0.14250</td>\n",
							"      <td>0.28390</td>\n",
							"      <td>0.2414</td>\n",
							"      <td>0.10520</td>\n",
							"      <td>...</td>\n",
							"      <td>14.91</td>\n",
							"      <td>26.50</td>\n",
							"      <td>98.87</td>\n",
							"      <td>567.7</td>\n",
							"      <td>0.2098</td>\n",
							"      <td>0.8663</td>\n",
							"      <td>0.6869</td>\n",
							"      <td>0.2575</td>\n",
							"      <td>0.6638</td>\n",
							"      <td>0.17300</td>\n",
							"    </tr>\n",
							"    <tr>\n",
							"      <th>4</th>\n",
							"      <td>84358402</td>\n",
							"      <td>M</td>\n",
							"      <td>20.29</td>\n",
							"      <td>14.34</td>\n",
							"      <td>135.10</td>\n",
							"      <td>1297.0</td>\n",
							"      <td>0.10030</td>\n",
							"      <td>0.13280</td>\n",
							"      <td>0.1980</td>\n",
							"      <td>0.10430</td>\n",
							"      <td>...</td>\n",
							"      <td>22.54</td>\n",
							"      <td>16.67</td>\n",
							"      <td>152.20</td>\n",
							"      <td>1575.0</td>\n",
							"      <td>0.1374</td>\n",
							"      <td>0.2050</td>\n",
							"      <td>0.4000</td>\n",
							"      <td>0.1625</td>\n",
							"      <td>0.2364</td>\n",
							"      <td>0.07678</td>\n",
							"    </tr>\n",
							"  </tbody>\n",
							"</table>\n",
							"<p>5 rows × 32 columns</p>\n",
							"</div>"
						],
						"text/plain": [
							"         id diagnosis  Radius_mean  Texture_mean  perimeter_mean  area_mean   \n",
							"0    842302         M        17.99         10.38          122.80     1001.0  \\\n",
							"1    842517         M        20.57         21.77          132.90     1326.0   \n",
							"2  84300903         M        19.69         21.25          130.00     1203.0   \n",
							"3  84348301         M        11.42         20.38           77.58      386.1   \n",
							"4  84358402         M        20.29         14.34          135.10     1297.0   \n",
							"\n",
							"   smoothness_mean  compactness_mean  concavity_mean  concave points_mean   \n",
							"0          0.11840           0.27760          0.3001              0.14710  \\\n",
							"1          0.08474           0.07864          0.0869              0.07017   \n",
							"2          0.10960           0.15990          0.1974              0.12790   \n",
							"3          0.14250           0.28390          0.2414              0.10520   \n",
							"4          0.10030           0.13280          0.1980              0.10430   \n",
							"\n",
							"   ...  radius_worst  texture_worst  perimeter_worst  area_worst   \n",
							"0  ...         25.38          17.33           184.60      2019.0  \\\n",
							"1  ...         24.99          23.41           158.80      1956.0   \n",
							"2  ...         23.57          25.53           152.50      1709.0   \n",
							"3  ...         14.91          26.50            98.87       567.7   \n",
							"4  ...         22.54          16.67           152.20      1575.0   \n",
							"\n",
							"   smoothness_worst  compactness_worst  concavity_worst  concave points_worst   \n",
							"0            0.1622             0.6656           0.7119                0.2654  \\\n",
							"1            0.1238             0.1866           0.2416                0.1860   \n",
							"2            0.1444             0.4245           0.4504                0.2430   \n",
							"3            0.2098             0.8663           0.6869                0.2575   \n",
							"4            0.1374             0.2050           0.4000                0.1625   \n",
							"\n",
							"   symmetry_worst  fractal_dimension_worst  \n",
							"0          0.4601                  0.11890  \n",
							"1          0.2750                  0.08902  \n",
							"2          0.3613                  0.08758  \n",
							"3          0.6638                  0.17300  \n",
							"4          0.2364                  0.07678  \n",
							"\n",
							"[5 rows x 32 columns]"
						]
					},
					"execution_count": 12,
					"metadata": {},
					"output_type": "execute_result"
				}
			],
			"source": [
				"df.head()"
			]
		},
		{
			"cell_type": "markdown",
			"metadata": {
				"id": "ZY3l0-AxO93d"
			},
			"source": [
				"---"
			]
		},
		{
			"attachments": {},
			"cell_type": "markdown",
			"metadata": {
				"id": "uFQo3ycuO-v6"
			},
			"source": [
				"# Load and Inspect Kaggle data"
			]
		},
		{
			"cell_type": "code",
			"execution_count": 13,
			"metadata": {},
			"outputs": [
				{
					"ename": "FileNotFoundError",
					"evalue": "[Errno 2] No such file or directory: 'inputs/datasets/raw/breast-cancer-prediction.csv'",
					"output_type": "error",
					"traceback": [
						"\u001b[0;31m---------------------------------------------------------------------------\u001b[0m",
						"\u001b[0;31mFileNotFoundError\u001b[0m                         Traceback (most recent call last)",
						"Cell \u001b[0;32mIn[13], line 2\u001b[0m\n\u001b[1;32m      1\u001b[0m \u001b[38;5;28;01mimport\u001b[39;00m \u001b[38;5;21;01mpandas\u001b[39;00m \u001b[38;5;28;01mas\u001b[39;00m \u001b[38;5;21;01mpd\u001b[39;00m\n\u001b[0;32m----> 2\u001b[0m df \u001b[38;5;241m=\u001b[39m \u001b[43mpd\u001b[49m\u001b[38;5;241;43m.\u001b[39;49m\u001b[43mread_csv\u001b[49m\u001b[43m(\u001b[49m\u001b[38;5;124;43mf\u001b[39;49m\u001b[38;5;124;43m\"\u001b[39;49m\u001b[38;5;124;43minputs/datasets/raw/breast-cancer-prediction.csv\u001b[39;49m\u001b[38;5;124;43m\"\u001b[39;49m\u001b[43m)\u001b[49m\n\u001b[1;32m      3\u001b[0m df\u001b[38;5;241m.\u001b[39mhead()\n",
						"File \u001b[0;32m~/.local/lib/python3.10/site-packages/pandas/io/parsers/readers.py:912\u001b[0m, in \u001b[0;36mread_csv\u001b[0;34m(filepath_or_buffer, sep, delimiter, header, names, index_col, usecols, dtype, engine, converters, true_values, false_values, skipinitialspace, skiprows, skipfooter, nrows, na_values, keep_default_na, na_filter, verbose, skip_blank_lines, parse_dates, infer_datetime_format, keep_date_col, date_parser, date_format, dayfirst, cache_dates, iterator, chunksize, compression, thousands, decimal, lineterminator, quotechar, quoting, doublequote, escapechar, comment, encoding, encoding_errors, dialect, on_bad_lines, delim_whitespace, low_memory, memory_map, float_precision, storage_options, dtype_backend)\u001b[0m\n\u001b[1;32m    899\u001b[0m kwds_defaults \u001b[38;5;241m=\u001b[39m _refine_defaults_read(\n\u001b[1;32m    900\u001b[0m     dialect,\n\u001b[1;32m    901\u001b[0m     delimiter,\n\u001b[0;32m   (...)\u001b[0m\n\u001b[1;32m    908\u001b[0m     dtype_backend\u001b[38;5;241m=\u001b[39mdtype_backend,\n\u001b[1;32m    909\u001b[0m )\n\u001b[1;32m    910\u001b[0m kwds\u001b[38;5;241m.\u001b[39mupdate(kwds_defaults)\n\u001b[0;32m--> 912\u001b[0m \u001b[38;5;28;01mreturn\u001b[39;00m \u001b[43m_read\u001b[49m\u001b[43m(\u001b[49m\u001b[43mfilepath_or_buffer\u001b[49m\u001b[43m,\u001b[49m\u001b[43m \u001b[49m\u001b[43mkwds\u001b[49m\u001b[43m)\u001b[49m\n",
						"File \u001b[0;32m~/.local/lib/python3.10/site-packages/pandas/io/parsers/readers.py:577\u001b[0m, in \u001b[0;36m_read\u001b[0;34m(filepath_or_buffer, kwds)\u001b[0m\n\u001b[1;32m    574\u001b[0m _validate_names(kwds\u001b[38;5;241m.\u001b[39mget(\u001b[38;5;124m\"\u001b[39m\u001b[38;5;124mnames\u001b[39m\u001b[38;5;124m\"\u001b[39m, \u001b[38;5;28;01mNone\u001b[39;00m))\n\u001b[1;32m    576\u001b[0m \u001b[38;5;66;03m# Create the parser.\u001b[39;00m\n\u001b[0;32m--> 577\u001b[0m parser \u001b[38;5;241m=\u001b[39m \u001b[43mTextFileReader\u001b[49m\u001b[43m(\u001b[49m\u001b[43mfilepath_or_buffer\u001b[49m\u001b[43m,\u001b[49m\u001b[43m \u001b[49m\u001b[38;5;241;43m*\u001b[39;49m\u001b[38;5;241;43m*\u001b[39;49m\u001b[43mkwds\u001b[49m\u001b[43m)\u001b[49m\n\u001b[1;32m    579\u001b[0m \u001b[38;5;28;01mif\u001b[39;00m chunksize \u001b[38;5;129;01mor\u001b[39;00m iterator:\n\u001b[1;32m    580\u001b[0m     \u001b[38;5;28;01mreturn\u001b[39;00m parser\n",
						"File \u001b[0;32m~/.local/lib/python3.10/site-packages/pandas/io/parsers/readers.py:1407\u001b[0m, in \u001b[0;36mTextFileReader.__init__\u001b[0;34m(self, f, engine, **kwds)\u001b[0m\n\u001b[1;32m   1404\u001b[0m     \u001b[38;5;28mself\u001b[39m\u001b[38;5;241m.\u001b[39moptions[\u001b[38;5;124m\"\u001b[39m\u001b[38;5;124mhas_index_names\u001b[39m\u001b[38;5;124m\"\u001b[39m] \u001b[38;5;241m=\u001b[39m kwds[\u001b[38;5;124m\"\u001b[39m\u001b[38;5;124mhas_index_names\u001b[39m\u001b[38;5;124m\"\u001b[39m]\n\u001b[1;32m   1406\u001b[0m \u001b[38;5;28mself\u001b[39m\u001b[38;5;241m.\u001b[39mhandles: IOHandles \u001b[38;5;241m|\u001b[39m \u001b[38;5;28;01mNone\u001b[39;00m \u001b[38;5;241m=\u001b[39m \u001b[38;5;28;01mNone\u001b[39;00m\n\u001b[0;32m-> 1407\u001b[0m \u001b[38;5;28mself\u001b[39m\u001b[38;5;241m.\u001b[39m_engine \u001b[38;5;241m=\u001b[39m \u001b[38;5;28;43mself\u001b[39;49m\u001b[38;5;241;43m.\u001b[39;49m\u001b[43m_make_engine\u001b[49m\u001b[43m(\u001b[49m\u001b[43mf\u001b[49m\u001b[43m,\u001b[49m\u001b[43m \u001b[49m\u001b[38;5;28;43mself\u001b[39;49m\u001b[38;5;241;43m.\u001b[39;49m\u001b[43mengine\u001b[49m\u001b[43m)\u001b[49m\n",
						"File \u001b[0;32m~/.local/lib/python3.10/site-packages/pandas/io/parsers/readers.py:1661\u001b[0m, in \u001b[0;36mTextFileReader._make_engine\u001b[0;34m(self, f, engine)\u001b[0m\n\u001b[1;32m   1659\u001b[0m     \u001b[38;5;28;01mif\u001b[39;00m \u001b[38;5;124m\"\u001b[39m\u001b[38;5;124mb\u001b[39m\u001b[38;5;124m\"\u001b[39m \u001b[38;5;129;01mnot\u001b[39;00m \u001b[38;5;129;01min\u001b[39;00m mode:\n\u001b[1;32m   1660\u001b[0m         mode \u001b[38;5;241m+\u001b[39m\u001b[38;5;241m=\u001b[39m \u001b[38;5;124m\"\u001b[39m\u001b[38;5;124mb\u001b[39m\u001b[38;5;124m\"\u001b[39m\n\u001b[0;32m-> 1661\u001b[0m \u001b[38;5;28mself\u001b[39m\u001b[38;5;241m.\u001b[39mhandles \u001b[38;5;241m=\u001b[39m \u001b[43mget_handle\u001b[49m\u001b[43m(\u001b[49m\n\u001b[1;32m   1662\u001b[0m \u001b[43m    \u001b[49m\u001b[43mf\u001b[49m\u001b[43m,\u001b[49m\n\u001b[1;32m   1663\u001b[0m \u001b[43m    \u001b[49m\u001b[43mmode\u001b[49m\u001b[43m,\u001b[49m\n\u001b[1;32m   1664\u001b[0m \u001b[43m    \u001b[49m\u001b[43mencoding\u001b[49m\u001b[38;5;241;43m=\u001b[39;49m\u001b[38;5;28;43mself\u001b[39;49m\u001b[38;5;241;43m.\u001b[39;49m\u001b[43moptions\u001b[49m\u001b[38;5;241;43m.\u001b[39;49m\u001b[43mget\u001b[49m\u001b[43m(\u001b[49m\u001b[38;5;124;43m\"\u001b[39;49m\u001b[38;5;124;43mencoding\u001b[39;49m\u001b[38;5;124;43m\"\u001b[39;49m\u001b[43m,\u001b[49m\u001b[43m \u001b[49m\u001b[38;5;28;43;01mNone\u001b[39;49;00m\u001b[43m)\u001b[49m\u001b[43m,\u001b[49m\n\u001b[1;32m   1665\u001b[0m \u001b[43m    \u001b[49m\u001b[43mcompression\u001b[49m\u001b[38;5;241;43m=\u001b[39;49m\u001b[38;5;28;43mself\u001b[39;49m\u001b[38;5;241;43m.\u001b[39;49m\u001b[43moptions\u001b[49m\u001b[38;5;241;43m.\u001b[39;49m\u001b[43mget\u001b[49m\u001b[43m(\u001b[49m\u001b[38;5;124;43m\"\u001b[39;49m\u001b[38;5;124;43mcompression\u001b[39;49m\u001b[38;5;124;43m\"\u001b[39;49m\u001b[43m,\u001b[49m\u001b[43m \u001b[49m\u001b[38;5;28;43;01mNone\u001b[39;49;00m\u001b[43m)\u001b[49m\u001b[43m,\u001b[49m\n\u001b[1;32m   1666\u001b[0m \u001b[43m    \u001b[49m\u001b[43mmemory_map\u001b[49m\u001b[38;5;241;43m=\u001b[39;49m\u001b[38;5;28;43mself\u001b[39;49m\u001b[38;5;241;43m.\u001b[39;49m\u001b[43moptions\u001b[49m\u001b[38;5;241;43m.\u001b[39;49m\u001b[43mget\u001b[49m\u001b[43m(\u001b[49m\u001b[38;5;124;43m\"\u001b[39;49m\u001b[38;5;124;43mmemory_map\u001b[39;49m\u001b[38;5;124;43m\"\u001b[39;49m\u001b[43m,\u001b[49m\u001b[43m \u001b[49m\u001b[38;5;28;43;01mFalse\u001b[39;49;00m\u001b[43m)\u001b[49m\u001b[43m,\u001b[49m\n\u001b[1;32m   1667\u001b[0m \u001b[43m    \u001b[49m\u001b[43mis_text\u001b[49m\u001b[38;5;241;43m=\u001b[39;49m\u001b[43mis_text\u001b[49m\u001b[43m,\u001b[49m\n\u001b[1;32m   1668\u001b[0m \u001b[43m    \u001b[49m\u001b[43merrors\u001b[49m\u001b[38;5;241;43m=\u001b[39;49m\u001b[38;5;28;43mself\u001b[39;49m\u001b[38;5;241;43m.\u001b[39;49m\u001b[43moptions\u001b[49m\u001b[38;5;241;43m.\u001b[39;49m\u001b[43mget\u001b[49m\u001b[43m(\u001b[49m\u001b[38;5;124;43m\"\u001b[39;49m\u001b[38;5;124;43mencoding_errors\u001b[39;49m\u001b[38;5;124;43m\"\u001b[39;49m\u001b[43m,\u001b[49m\u001b[43m \u001b[49m\u001b[38;5;124;43m\"\u001b[39;49m\u001b[38;5;124;43mstrict\u001b[39;49m\u001b[38;5;124;43m\"\u001b[39;49m\u001b[43m)\u001b[49m\u001b[43m,\u001b[49m\n\u001b[1;32m   1669\u001b[0m \u001b[43m    \u001b[49m\u001b[43mstorage_options\u001b[49m\u001b[38;5;241;43m=\u001b[39;49m\u001b[38;5;28;43mself\u001b[39;49m\u001b[38;5;241;43m.\u001b[39;49m\u001b[43moptions\u001b[49m\u001b[38;5;241;43m.\u001b[39;49m\u001b[43mget\u001b[49m\u001b[43m(\u001b[49m\u001b[38;5;124;43m\"\u001b[39;49m\u001b[38;5;124;43mstorage_options\u001b[39;49m\u001b[38;5;124;43m\"\u001b[39;49m\u001b[43m,\u001b[49m\u001b[43m \u001b[49m\u001b[38;5;28;43;01mNone\u001b[39;49;00m\u001b[43m)\u001b[49m\u001b[43m,\u001b[49m\n\u001b[1;32m   1670\u001b[0m \u001b[43m\u001b[49m\u001b[43m)\u001b[49m\n\u001b[1;32m   1671\u001b[0m \u001b[38;5;28;01massert\u001b[39;00m \u001b[38;5;28mself\u001b[39m\u001b[38;5;241m.\u001b[39mhandles \u001b[38;5;129;01mis\u001b[39;00m \u001b[38;5;129;01mnot\u001b[39;00m \u001b[38;5;28;01mNone\u001b[39;00m\n\u001b[1;32m   1672\u001b[0m f \u001b[38;5;241m=\u001b[39m \u001b[38;5;28mself\u001b[39m\u001b[38;5;241m.\u001b[39mhandles\u001b[38;5;241m.\u001b[39mhandle\n",
						"File \u001b[0;32m~/.local/lib/python3.10/site-packages/pandas/io/common.py:859\u001b[0m, in \u001b[0;36mget_handle\u001b[0;34m(path_or_buf, mode, encoding, compression, memory_map, is_text, errors, storage_options)\u001b[0m\n\u001b[1;32m    854\u001b[0m \u001b[38;5;28;01melif\u001b[39;00m \u001b[38;5;28misinstance\u001b[39m(handle, \u001b[38;5;28mstr\u001b[39m):\n\u001b[1;32m    855\u001b[0m     \u001b[38;5;66;03m# Check whether the filename is to be opened in binary mode.\u001b[39;00m\n\u001b[1;32m    856\u001b[0m     \u001b[38;5;66;03m# Binary mode does not support 'encoding' and 'newline'.\u001b[39;00m\n\u001b[1;32m    857\u001b[0m     \u001b[38;5;28;01mif\u001b[39;00m ioargs\u001b[38;5;241m.\u001b[39mencoding \u001b[38;5;129;01mand\u001b[39;00m \u001b[38;5;124m\"\u001b[39m\u001b[38;5;124mb\u001b[39m\u001b[38;5;124m\"\u001b[39m \u001b[38;5;129;01mnot\u001b[39;00m \u001b[38;5;129;01min\u001b[39;00m ioargs\u001b[38;5;241m.\u001b[39mmode:\n\u001b[1;32m    858\u001b[0m         \u001b[38;5;66;03m# Encoding\u001b[39;00m\n\u001b[0;32m--> 859\u001b[0m         handle \u001b[38;5;241m=\u001b[39m \u001b[38;5;28;43mopen\u001b[39;49m\u001b[43m(\u001b[49m\n\u001b[1;32m    860\u001b[0m \u001b[43m            \u001b[49m\u001b[43mhandle\u001b[49m\u001b[43m,\u001b[49m\n\u001b[1;32m    861\u001b[0m \u001b[43m            \u001b[49m\u001b[43mioargs\u001b[49m\u001b[38;5;241;43m.\u001b[39;49m\u001b[43mmode\u001b[49m\u001b[43m,\u001b[49m\n\u001b[1;32m    862\u001b[0m \u001b[43m            \u001b[49m\u001b[43mencoding\u001b[49m\u001b[38;5;241;43m=\u001b[39;49m\u001b[43mioargs\u001b[49m\u001b[38;5;241;43m.\u001b[39;49m\u001b[43mencoding\u001b[49m\u001b[43m,\u001b[49m\n\u001b[1;32m    863\u001b[0m \u001b[43m            \u001b[49m\u001b[43merrors\u001b[49m\u001b[38;5;241;43m=\u001b[39;49m\u001b[43merrors\u001b[49m\u001b[43m,\u001b[49m\n\u001b[1;32m    864\u001b[0m \u001b[43m            \u001b[49m\u001b[43mnewline\u001b[49m\u001b[38;5;241;43m=\u001b[39;49m\u001b[38;5;124;43m\"\u001b[39;49m\u001b[38;5;124;43m\"\u001b[39;49m\u001b[43m,\u001b[49m\n\u001b[1;32m    865\u001b[0m \u001b[43m        \u001b[49m\u001b[43m)\u001b[49m\n\u001b[1;32m    866\u001b[0m     \u001b[38;5;28;01melse\u001b[39;00m:\n\u001b[1;32m    867\u001b[0m         \u001b[38;5;66;03m# Binary mode\u001b[39;00m\n\u001b[1;32m    868\u001b[0m         handle \u001b[38;5;241m=\u001b[39m \u001b[38;5;28mopen\u001b[39m(handle, ioargs\u001b[38;5;241m.\u001b[39mmode)\n",
						"\u001b[0;31mFileNotFoundError\u001b[0m: [Errno 2] No such file or directory: 'inputs/datasets/raw/breast-cancer-prediction.csv'"
					]
				}
			],
			"source": [
				"import pandas as pd\n",
				"df = pd.read_csv(f\"inputs/datasets/raw/data.csv\")\n",
				"df.head()"
			]
		},
		{
			"attachments": {},
			"cell_type": "markdown",
			"metadata": {},
			"source": [
				"# DataFrame Summary"
			]
		},
		{
			"cell_type": "code",
			"execution_count": 15,
			"metadata": {},
			"outputs": [
				{
					"ename": "NameError",
					"evalue": "name 'df' is not defined",
					"output_type": "error",
					"traceback": [
						"\u001b[0;31m---------------------------------------------------------------------------\u001b[0m",
						"\u001b[0;31mNameError\u001b[0m                                 Traceback (most recent call last)",
						"Cell \u001b[0;32mIn[15], line 1\u001b[0m\n\u001b[0;32m----> 1\u001b[0m \u001b[43mdf\u001b[49m\u001b[38;5;241m.\u001b[39minfo()\n",
						"\u001b[0;31mNameError\u001b[0m: name 'df' is not defined"
					]
				}
			],
			"source": [
				"df.info()"
			]
		},
		{
			"attachments": {},
			"cell_type": "markdown",
			"metadata": {},
			"source": [
				"# Data Cleaning\n",
				"\n",
				"Missing or Null Data points\n",
				"\n",
				"We will find any missing or null data points of the data set (if there is any) using the following pandas function."
			]
		},
		{
			"cell_type": "code",
			"execution_count": 16,
			"metadata": {},
			"outputs": [
				{
					"ename": "NameError",
					"evalue": "name 'dataset' is not defined",
					"output_type": "error",
					"traceback": [
						"\u001b[0;31m---------------------------------------------------------------------------\u001b[0m",
						"\u001b[0;31mNameError\u001b[0m                                 Traceback (most recent call last)",
						"Cell \u001b[0;32mIn[16], line 1\u001b[0m\n\u001b[0;32m----> 1\u001b[0m \u001b[43mdataset\u001b[49m\u001b[38;5;241m.\u001b[39misnull()\u001b[38;5;241m.\u001b[39msum()\n\u001b[1;32m      2\u001b[0m dataset\u001b[38;5;241m.\u001b[39misna()\u001b[38;5;241m.\u001b[39msum()\n",
						"\u001b[0;31mNameError\u001b[0m: name 'dataset' is not defined"
					]
				}
			],
			"source": [
				"dataset.isnull().sum()\n",
				"dataset.isna().sum()"
			]
		},
		{
			"attachments": {},
			"cell_type": "markdown",
			"metadata": {},
			"source": [
				"Drop all missing or null data"
			]
		},
		{
			"cell_type": "code",
			"execution_count": 17,
			"metadata": {},
			"outputs": [
				{
					"ename": "NameError",
					"evalue": "name 'dropna' is not defined",
					"output_type": "error",
					"traceback": [
						"\u001b[0;31m---------------------------------------------------------------------------\u001b[0m",
						"\u001b[0;31mNameError\u001b[0m                                 Traceback (most recent call last)",
						"Cell \u001b[0;32mIn[17], line 1\u001b[0m\n\u001b[0;32m----> 1\u001b[0m \u001b[43mdropna\u001b[49m(\u001b[38;5;28mall\u001b[39m)\n",
						"\u001b[0;31mNameError\u001b[0m: name 'dropna' is not defined"
					]
				}
			],
			"source": [
				"dropna(all)"
			]
		},
		{
			"attachments": {},
			"cell_type": "markdown",
			"metadata": {},
			"source": [
				"Drop Duplicates"
			]
		},
		{
			"cell_type": "code",
			"execution_count": null,
			"metadata": {},
			"outputs": [],
			"source": [
				"nr_rows = df.shape[0]\n",
				"print('Number of rows: %d' % nr_rows)\n",
				"df = df.drop_duplicates().reset_index(drop=True)\n",
				"print('Number of dropped rows: %d' % (nr_rows - df.shape[0]))\n",
				"print('Number of remainin rows: %d' % df.shape[0])"
			]
		},
		{
			"cell_type": "code",
			"execution_count": null,
			"metadata": {},
			"outputs": [],
			"source": [
				"# print the first 5 rows of the dataframe\n",
				"data_frame.head()"
			]
		},
		{
			"cell_type": "code",
			"execution_count": null,
			"metadata": {},
			"outputs": [],
			"source": [
				"# number of rows and columns in the dataset\n",
				"data_frame.shape"
			]
		},
		{
			"cell_type": "code",
			"execution_count": null,
			"metadata": {},
			"outputs": [],
			"source": [
				"# getting some information about the data\n",
				"data_frame.info()"
			]
		},
		{
			"cell_type": "code",
			"execution_count": null,
			"metadata": {},
			"outputs": [],
			"source": [
				"df.describe(include='all').transpose()"
			]
		},
		{
			"cell_type": "markdown",
			"metadata": {},
			"source": [
				"---"
			]
		},
		{
			"cell_type": "markdown",
			"metadata": {},
			"source": [
				"NOTE"
			]
		},
		{
			"cell_type": "markdown",
			"metadata": {},
			"source": [
				"* You may add as many sections as you want, as long as it supports your project workflow.\n",
				"* All notebook's cells should be run top-down (you can't create a dynamic wherein a given point you need to go back to a previous cell to execute some task, like go back to a previous cell and refresh a variable content)"
			]
		},
		{
			"cell_type": "markdown",
			"metadata": {},
			"source": [
				"---"
			]
		},
		{
			"cell_type": "markdown",
			"metadata": {
				"id": "ltNetd085qHf"
			},
			"source": [
				"# Push files to Repo"
			]
		},
		{
			"cell_type": "markdown",
			"metadata": {},
			"source": [
				"* In case you don't need to push files to Repo, you may replace this section with \"Conclusions and Next Steps\" and state your conclusions and next steps."
			]
		},
		{
			"cell_type": "code",
			"execution_count": 19,
			"metadata": {
				"id": "aKlnIozA4eQO",
				"outputId": "fd09bc1f-adb1-4511-f6ce-492a6af570c0"
			},
			"outputs": [
				{
					"ename": "IndentationError",
					"evalue": "expected an indented block after 'try' statement on line 2 (2852421808.py, line 5)",
					"output_type": "error",
					"traceback": [
						"\u001b[0;36m  Cell \u001b[0;32mIn[19], line 5\u001b[0;36m\u001b[0m\n\u001b[0;31m    except Exception as e:\u001b[0m\n\u001b[0m    ^\u001b[0m\n\u001b[0;31mIndentationError\u001b[0m\u001b[0;31m:\u001b[0m expected an indented block after 'try' statement on line 2\n"
					]
				}
			],
			"source": [
				"import os\n",
				"try:\n",
				"  os.makedirs(name='outputs/datasets/collection') # create outputs/datasets/collection folder\n",
				"except Exception as e:\n",
				"  print(e)\n",
				"\n",
				"df.to_csv(f\"outputs/datasets/collection/data.csv\",index=False)\n"
			]
		}
	],
	"metadata": {
		"accelerator": "GPU",
		"colab": {
			"name": "Data Practitioner Jupyter Notebook.ipynb",
			"provenance": [],
			"toc_visible": true
		},
		"interpreter": {
			"hash": "8b8334dab9339717f727a1deaf837b322d7a41c20d15cc86be99a8e69ceec8ce"
		},
		"kernelspec": {
			"display_name": "Python 3.10.6 64-bit",
			"name": "python_defaultSpec_1681826711054"
		},
		"language_info": {
			"codemirror_mode": {
				"name": "ipython",
				"version": 3
			},
			"file_extension": ".py",
			"mimetype": "text/x-python",
			"name": "python",
			"nbconvert_exporter": "python",
			"pygments_lexer": "ipython3",
			"version": "3.10.6-final"
		},
		"orig_nbformat": 2
	},
	"nbformat": 4,
	"nbformat_minor": 2
}
