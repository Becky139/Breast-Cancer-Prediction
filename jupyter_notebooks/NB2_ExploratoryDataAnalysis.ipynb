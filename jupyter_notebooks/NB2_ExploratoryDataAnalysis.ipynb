{
 "cells": [
  {
   "attachments": {},
   "cell_type": "markdown",
   "metadata": {},
   "source": [
    "#  NB2: Exploratory Data Analysis"
   ]
  },
  {
   "attachments": {},
   "cell_type": "markdown",
   "metadata": {
    "id": "1eLEkw5O0ECa"
   },
   "source": [
    "## Objectives\n",
    "\n",
    "* Exploratory data analysis (EDA)\n",
    "* Descriptive statistics\n",
    "* Visualization\n",
    "\n",
    "## Inputs\n",
    "\n",
    "* inputs/datasets/data_clean_id/data.csvv\n",
    "\n",
    "## Outputs\n",
    "\n",
    "* outputs/datasets/cleaned/binary_data.csv\n",
    "* outputs/nb2/diagnosis.jpeg\n",
    "* outputs/nb2/hist_mean.jpeg, outputs/nb2/hist_se.jpeg, outputs/nb2/hist_worst.jpeg\n",
    "* outputs/nb2/density_mean.jpeg, outputs/nb2/density_se.jpeg, outputs/nb2/density_worst.jpeg\n",
    "* outputs/nb2/boxplot_mean.jpeg, outputs/nb2/boxplot_se.jpeg, outputs/nb2/boxplot_worst.jpeg\n",
    "* outputs/nb2/correlation.jpeg, outputs/nb2/scatter.jpeg"
   ]
  },
  {
   "attachments": {},
   "cell_type": "markdown",
   "metadata": {},
   "source": [
    "---"
   ]
  },
  {
   "attachments": {},
   "cell_type": "markdown",
   "metadata": {},
   "source": [
    "# Change working directory"
   ]
  },
  {
   "attachments": {},
   "cell_type": "markdown",
   "metadata": {},
   "source": [
    "* We are assuming you will store the notebooks in a subfolder, therefore when running the notebook in the editor, you will need to change the working directory"
   ]
  },
  {
   "attachments": {},
   "cell_type": "markdown",
   "metadata": {},
   "source": [
    "We need to change the working directory from its current folder to its parent folder\n",
    "* We access the current directory with os.getcwd()"
   ]
  },
  {
   "cell_type": "code",
   "execution_count": null,
   "metadata": {},
   "outputs": [],
   "source": [
    "import os\n",
    "\n",
    "current_dir = os.getcwd()\n",
    "current_dir"
   ]
  },
  {
   "attachments": {},
   "cell_type": "markdown",
   "metadata": {},
   "source": [
    "We want to make the parent of the current directory the new current directory\n",
    "* os.path.dirname() gets the parent directory\n",
    "* os.chir() defines the new current directory"
   ]
  },
  {
   "cell_type": "code",
   "execution_count": null,
   "metadata": {
    "tags": []
   },
   "outputs": [],
   "source": [
    "os.chdir(os.path.dirname(current_dir))\n",
    "print(\"You set a new current directory\")"
   ]
  },
  {
   "attachments": {},
   "cell_type": "markdown",
   "metadata": {},
   "source": [
    "Confirm the new current directory"
   ]
  },
  {
   "cell_type": "code",
   "execution_count": null,
   "metadata": {
    "tags": []
   },
   "outputs": [],
   "source": [
    "current_dir = os.getcwd()\n",
    "current_dir"
   ]
  },
  {
   "attachments": {},
   "cell_type": "markdown",
   "metadata": {},
   "source": [
    "---"
   ]
  },
  {
   "attachments": {},
   "cell_type": "markdown",
   "metadata": {
    "nbpresent": {
     "id": "51d20db6-3dc0-4be6-9d8b-aacbe7a7e9ce"
    },
    "slideshow": {
     "slide_type": "slide"
    }
   },
   "source": [
    "Now that we have a good intuitive sense of the data, Next step involves taking a closer look at attributes and data values. In this section, I am getting familiar with the data, which will provide useful knowledge for data pre-processing.\n",
    "## 2.1 Objectives of Data Exploration\n",
    "Exploratory data analysis (EDA) is a very important step which takes place after feature engineering and acquiring data and it should be done before any modeling. This is because it is very important for a data scientist to be able to understand the nature of the data without making assumptions. The results of data exploration can be extremely useful in grasping the structure of the data, the distribution of the values, and the presence of extreme values and interrelationships within the data set.\n",
    "> **The purpose of EDA is:**\n",
    "* to use summary statistics and visualizations to better understand data, \n",
    "*find clues about the tendencies of the data, its quality and to formulate assumptions and the hypothesis of our analysis\n",
    "* For data preprocessing to be successful, it is essential to have an overall picture of your data\n",
    "Basic statistical descriptions can be used to identify properties of the data and highlight which data values should be treated as noise or outliers.** \n",
    "\n",
    "Next step is to explore the data. There are two approached used to examine the data using:\n",
    "\n",
    "1. ***Descriptive statistics*** is the process of condensing key characteristics of the data set into simple numeric metrics. Some of the common metrics used are mean, standard deviation, and correlation. \n",
    "\t\n",
    "2. ***Visualization*** is the process of projecting the data, or parts of it, into Cartesian space or into abstract images. In the data mining process, data exploration is leveraged in many different steps including preprocessing, modeling, and interpretation of results. \n"
   ]
  },
  {
   "attachments": {},
   "cell_type": "markdown",
   "metadata": {
    "nbpresent": {
     "id": "e35d8ace-8b5e-4e17-9fc7-dabb08a9137e"
    },
    "slideshow": {
     "slide_type": "slide"
    }
   },
   "source": [
    "# 2.2 Descriptive statistics\n",
    "Summary statistics are measurements meant to describe data. In the field of descriptive statistics, there are many [summary measurements](http://www.saedsayad.com/numerical_variables.htm))"
   ]
  },
  {
   "cell_type": "code",
   "execution_count": null,
   "metadata": {
    "collapsed": true,
    "nbpresent": {
     "id": "5fa5dce8-1b18-450b-8d58-3f35dd8e6662"
    },
    "slideshow": {
     "slide_type": "slide"
    },
    "tags": []
   },
   "outputs": [],
   "source": [
    "import matplotlib.pyplot as plt\n",
    "\n",
    "# Load libraries for data processing\n",
    "import pandas as pd  # data processing, CSV file I/O (e.g. pd.read_csv)\n",
    "import numpy as np\n",
    "from scipy.stats import norm\n",
    "import seaborn as sns  # visualization\n",
    "\n",
    "\n",
    "plt.rcParams[\"figure.figsize\"] = (15, 8)\n",
    "plt.rcParams[\"axes.titlesize\"] = \"large\""
   ]
  },
  {
   "cell_type": "code",
   "execution_count": null,
   "metadata": {
    "collapsed": true,
    "nbpresent": {
     "id": "d852a8ab-9f20-4764-b01d-b3c75db047d4"
    },
    "slideshow": {
     "slide_type": "slide"
    },
    "tags": []
   },
   "outputs": [],
   "source": [
    "data = pd.read_csv(\"outputs/datasets/cleaned/data.csv\", index_col=False)\n",
    "data.drop(\"Unnamed: 0\", axis=1, inplace=True)\n",
    "data.head(3)"
   ]
  },
  {
   "cell_type": "code",
   "execution_count": null,
   "metadata": {
    "collapsed": false,
    "nbpresent": {
     "id": "2cd780da-91da-4c16-8f26-3b2d07f3092a"
    },
    "slideshow": {
     "slide_type": "slide"
    },
    "tags": []
   },
   "outputs": [],
   "source": [
    "# basic descriptive statistics\n",
    "data.describe()"
   ]
  },
  {
   "cell_type": "code",
   "execution_count": null,
   "metadata": {
    "tags": []
   },
   "outputs": [],
   "source": [
    "data[\"diagnosis\"].replace({\"B\": 0, \"M\": 1}, inplace=True)\n",
    "\n",
    "# save data with binary encoding on diagnosis\n",
    "data.to_csv(\"outputs/datasets/cleaned/binary_data.csv\")"
   ]
  },
  {
   "cell_type": "code",
   "execution_count": null,
   "metadata": {
    "collapsed": false,
    "nbpresent": {
     "id": "205bed2d-75b6-4266-8e59-79997c15398e"
    }
   },
   "outputs": [],
   "source": [
    "data.skew()"
   ]
  },
  {
   "attachments": {},
   "cell_type": "markdown",
   "metadata": {
    "nbpresent": {
     "id": "230b9836-0a87-4484-986e-c9deccaa5b94"
    }
   },
   "source": [
    " >The skew result show a positive (right) or negative (left) skew. Values closer to zero show less skew.\n",
    " From the graphs, we can see that **radius_mean**, **perimeter_mean**, **area_mean**, **concavity_mean** and **concave_points_mean** are useful in predicting cancer type due to the distinct grouping between malignant and benign cancer types in these features. We can also see that area_worst and perimeter_worst are also quite useful."
   ]
  },
  {
   "cell_type": "code",
   "execution_count": null,
   "metadata": {
    "collapsed": true,
    "nbpresent": {
     "id": "474800c5-bebb-4550-8beb-4186520dd457"
    },
    "tags": []
   },
   "outputs": [],
   "source": [
    "data.diagnosis.unique()"
   ]
  },
  {
   "attachments": {},
   "cell_type": "markdown",
   "metadata": {},
   "source": [
    "M = 1 B = 0"
   ]
  },
  {
   "cell_type": "code",
   "execution_count": null,
   "metadata": {
    "collapsed": true,
    "nbpresent": {
     "id": "44abff06-48b5-40d9-9b9a-8a102086eb35"
    }
   },
   "outputs": [],
   "source": [
    "# Group by diagnosis and review the output.\n",
    "diag_gr = data.groupby(\"diagnosis\", axis=0)\n",
    "pd.DataFrame(diag_gr.size(), columns=[\"# of observations\"])"
   ]
  },
  {
   "attachments": {},
   "cell_type": "markdown",
   "metadata": {
    "nbpresent": {
     "id": "589f5732-9b8e-4f20-a095-6d816e40f6b4"
    }
   },
   "source": [
    "Check binary encoding from NB1 to confirm the coversion of the diagnosis categorical data into numeric, where\n",
    "* Malignant = 1 (indicates prescence of cancer cells)\n",
    "* Benign = 0 (indicates abscence)\n",
    "\n",
    "##### **Observation**\n",
    "> *357 observations indicating the absence of cancer cells and 212 show absence of cancer cell*\n",
    "\n",
    "Lets confirm this, by ploting the histogram"
   ]
  },
  {
   "attachments": {},
   "cell_type": "markdown",
   "metadata": {
    "nbpresent": {
     "id": "821c5252-65f1-4cc2-be93-2dffa1fe7707"
    }
   },
   "source": [
    "# 2.3 Unimodal Data Visualizations\n",
    "\n",
    "One of the main goals of visualizing the data here is to observe which features are most helpful in predicting malignant or benign cancer. The other is to see general trends that may aid us in model selection and hyper parameter selection.\n",
    "\n",
    "Apply 3 techniques that you can use to understand each attribute of your dataset independently.\n",
    "* Histograms.\n",
    "* Density Plots.\n",
    "* Box and Whisker Plots."
   ]
  },
  {
   "cell_type": "code",
   "execution_count": null,
   "metadata": {
    "collapsed": true,
    "nbpresent": {
     "id": "fc8ea555-addd-449c-a8bb-cc0167a63d27"
    },
    "tags": []
   },
   "outputs": [],
   "source": [
    "# lets get the frequency of cancer diagnosis\n",
    "sns.set_style(\"white\")\n",
    "sns.set_context({\"figure.figsize\": (10, 8)})\n",
    "sns.countplot(x=data[\"diagnosis\"])\n",
    "plt.savefig(\"outputs/nb2/diagnosis.jpeg\")\n",
    "plt.show()"
   ]
  },
  {
   "attachments": {},
   "cell_type": "markdown",
   "metadata": {
    "nbpresent": {
     "id": "7bf5e0ac-bb7c-4586-8cfb-3cd8c244ed73"
    }
   },
   "source": [
    "## 2.3.1 Visualise distribution of data via histograms\n",
    "Histograms are commonly used to visualize numerical variables. A histogram is similar to a bar graph after the values of the variable are grouped (binned) into a finite number of intervals (bins).\n",
    "\n",
    "Histograms group data into bins and provide you a count of the number of observations in each bin. From the shape of the bins you can quickly get a feeling for whether an attribute is Gaussian, skewed or even has an exponential distribution. It can also help you see possible outliers."
   ]
  },
  {
   "attachments": {},
   "cell_type": "markdown",
   "metadata": {
    "nbpresent": {
     "id": "f919d68b-1e2e-4f05-b3b3-c4684bcfb25e"
    }
   },
   "source": [
    "### Separate columns into smaller dataframes to perform visualization"
   ]
  },
  {
   "cell_type": "code",
   "execution_count": null,
   "metadata": {
    "collapsed": true,
    "nbpresent": {
     "id": "1aa3f2af-c89a-4d3b-a331-3440b3308d22"
    },
    "tags": []
   },
   "outputs": [],
   "source": [
    "# Break up columns into groups, according to their suffix designation\n",
    "# (_mean, _se, and __worst)\n",
    "# to perform visualisation plots off.\n",
    "data_diag = data.loc[:, [\"diagnosis\"]]\n",
    "\n",
    "# For a merge + slice:\n",
    "data_mean = data.iloc[:, 1:11]\n",
    "data_se = data.iloc[:, 11:22]\n",
    "data_worst = data.iloc[:, 23:]\n",
    "\n",
    "# print(data_id_diag.columns)\n",
    "print(data_mean.columns)\n",
    "print(data_se.columns)\n",
    "print(data_worst.columns)"
   ]
  },
  {
   "attachments": {},
   "cell_type": "markdown",
   "metadata": {
    "nbpresent": {
     "id": "99300afc-baee-476f-afd2-4ff19fabc66b"
    }
   },
   "source": [
    "### Histogram the \"_mean\" suffix designition"
   ]
  },
  {
   "cell_type": "code",
   "execution_count": null,
   "metadata": {
    "collapsed": false,
    "nbpresent": {
     "id": "560082ac-eddb-45bc-ad00-a7fe696552ef"
    },
    "tags": []
   },
   "outputs": [],
   "source": [
    "# Plot histograms of CUT1 variables\n",
    "hist_mean = data_mean.hist(\n",
    "    bins=10,\n",
    "    figsize=(15, 10),\n",
    "    grid=False,\n",
    ")\n",
    "plt.savefig(\"outputs/nb2/hist_mean.jpeg\")\n",
    "# Any individual histograms, use this:\n",
    "# df_cut['radius_worst'].hist(bins=100)"
   ]
  },
  {
   "attachments": {},
   "cell_type": "markdown",
   "metadata": {
    "nbpresent": {
     "id": "c9788ad7-eb08-48db-a654-bbf176cdaf58"
    }
   },
   "source": [
    "### __Histogram for  the \"_se\" suffix designition__"
   ]
  },
  {
   "cell_type": "code",
   "execution_count": null,
   "metadata": {
    "collapsed": true,
    "nbpresent": {
     "id": "d2487c11-f386-43d2-a496-7fafab65accd"
    },
    "tags": []
   },
   "outputs": [],
   "source": [
    "# Plot histograms of _se variables\n",
    "hist_se = data_se.hist(\n",
    "    bins=10,\n",
    "    figsize=(15, 10),\n",
    "    grid=False,\n",
    ")\n",
    "plt.savefig(\"outputs/nb2/hist_se.jpeg\")"
   ]
  },
  {
   "attachments": {},
   "cell_type": "markdown",
   "metadata": {
    "nbpresent": {
     "id": "95aa2639-12dc-4cb6-b29f-5375ca8d6201"
    }
   },
   "source": [
    "### __Histogram \"_worst\" suffix designition__"
   ]
  },
  {
   "cell_type": "code",
   "execution_count": null,
   "metadata": {
    "collapsed": true,
    "nbpresent": {
     "id": "93fe0c2d-4e9a-4368-a088-2e295b60730e"
    },
    "tags": []
   },
   "outputs": [],
   "source": [
    "# Plot histograms of _worst variables\n",
    "hist_worst = data_worst.hist(\n",
    "    bins=10,\n",
    "    figsize=(15, 15),\n",
    "    grid=False,\n",
    ")\n",
    "plt.savefig(\"outputs/nb2/hist_worst.jpeg\")"
   ]
  },
  {
   "attachments": {},
   "cell_type": "markdown",
   "metadata": {
    "nbpresent": {
     "id": "31fa5bc8-b606-4282-9903-6a47c5e730f3"
    }
   },
   "source": [
    "### __Observation__ \n",
    "\n",
    ">We can see that perhaps the attributes  **concavity**,and **concavity_point ** may have an exponential distribution ( ). We can also see that perhaps the texture and smooth and symmetry attributes may have a Gaussian or nearly Gaussian distribution. This is interesting because many machine learning techniques assume a Gaussian univariate distribution on the input variables.\n"
   ]
  },
  {
   "attachments": {},
   "cell_type": "markdown",
   "metadata": {
    "nbpresent": {
     "id": "c14f8b1e-5469-4e85-be8a-02266b2a80a5"
    }
   },
   "source": [
    "## 2.3.2 Visualize distribution of data via density plots"
   ]
  },
  {
   "attachments": {},
   "cell_type": "markdown",
   "metadata": {
    "nbpresent": {
     "id": "65751b9f-27c7-4508-bf7b-67c55de7dc27"
    }
   },
   "source": [
    "### Density plots \"_mean\" suffix designition"
   ]
  },
  {
   "cell_type": "code",
   "execution_count": null,
   "metadata": {
    "collapsed": false,
    "nbpresent": {
     "id": "af37dac3-905c-46ce-82b3-bc780e63a73c"
    },
    "tags": []
   },
   "outputs": [],
   "source": [
    "# Density Plots\n",
    "plt = data_mean.plot(\n",
    "    kind=\"density\",\n",
    "    subplots=True,\n",
    "    layout=(4, 3),\n",
    "    sharex=False,\n",
    ")\n",
    "s = pd.Series([0, 1])\n",
    "ax = s.plot.density()\n",
    "ax.figure.savefig(\"outputs/nb2/density_mean.jpeg\")"
   ]
  },
  {
   "attachments": {},
   "cell_type": "markdown",
   "metadata": {
    "nbpresent": {
     "id": "e7e46fd3-cf56-4f35-89c2-a7e9226f4090"
    }
   },
   "source": [
    "### Density plots \"_se\" suffix designition"
   ]
  },
  {
   "cell_type": "code",
   "execution_count": null,
   "metadata": {
    "collapsed": true,
    "nbpresent": {
     "id": "216093e9-63fc-4c36-a024-80f90cc1443e"
    },
    "tags": []
   },
   "outputs": [],
   "source": [
    "# Density Plots\n",
    "plt = data_se.plot(\n",
    "    kind=\"density\",\n",
    "    subplots=True,\n",
    "    layout=(4, 3),\n",
    "    sharex=False,\n",
    "    sharey=False,\n",
    "    fontsize=12,\n",
    "    figsize=(15, 10),\n",
    ")\n",
    "s = pd.Series([0, 1])\n",
    "ax = s.plot.density()\n",
    "ax.figure.savefig(\"outputs/nb2/density_se.jpeg\")"
   ]
  },
  {
   "attachments": {},
   "cell_type": "markdown",
   "metadata": {
    "nbpresent": {
     "id": "3b660469-510e-4cec-9a5e-fb79edb38749"
    }
   },
   "source": [
    "### Density plot \"_worst\" suffix designition"
   ]
  },
  {
   "cell_type": "code",
   "execution_count": null,
   "metadata": {
    "collapsed": true,
    "nbpresent": {
     "id": "d63bd751-d2b0-44e2-9cee-739b94139e3e"
    },
    "tags": []
   },
   "outputs": [],
   "source": [
    "# Density Plots\n",
    "plt = data_worst.plot(\n",
    "    kind=\"kde\",\n",
    "    subplots=True,\n",
    "    layout=(4, 3),\n",
    "    sharex=False,\n",
    "    sharey=False,\n",
    "    fontsize=5,\n",
    "    figsize=(15, 10),\n",
    ")\n",
    "s = pd.Series([0, 1])\n",
    "ax = s.plot.density()\n",
    "ax.figure.savefig(\"outputs/nb2/density_worst.jpeg\")"
   ]
  },
  {
   "attachments": {},
   "cell_type": "markdown",
   "metadata": {
    "nbpresent": {
     "id": "da731314-8bd8-452b-bfb2-34aea1b8ef13"
    }
   },
   "source": [
    "### Observation\n",
    ">We can see that perhaps the attributes perimeter,radius, area, concavity,ompactness may have an exponential distribution ( ). We can also see that perhaps the texture and smooth and symmetry attributes may have a Gaussian or nearly Gaussian distribution. This is interesting because many machine learning techniques assume a Gaussian univariate distribution on the input variables."
   ]
  },
  {
   "attachments": {},
   "cell_type": "markdown",
   "metadata": {
    "nbpresent": {
     "id": "0e9b89ea-19a5-46d9-b698-e8137db07ea4"
    }
   },
   "source": [
    "## 2.3.3 Visualise distribution of data via box plots"
   ]
  },
  {
   "attachments": {},
   "cell_type": "markdown",
   "metadata": {
    "nbpresent": {
     "id": "71a739f0-3990-49c6-8fec-bc33b0bd9caa"
    }
   },
   "source": [
    "### Box plot \"_mean\" suffix designition"
   ]
  },
  {
   "cell_type": "code",
   "execution_count": null,
   "metadata": {
    "collapsed": true,
    "nbpresent": {
     "id": "f758e15e-94d1-48d1-8881-6e914fd22d23"
    },
    "tags": []
   },
   "outputs": [],
   "source": [
    "# box and whisker plots\n",
    "plt = data_mean.plot(\n",
    "    kind=\"box\", subplots=True, layout=(4, 4), sharex=False, sharey=False, fontsize=12\n",
    ")\n",
    "s = pd.Series([0, 1])\n",
    "ax = s.plot.box()\n",
    "ax.figure.savefig(\"outputs/nb2/boxplot_mean.jpeg\")"
   ]
  },
  {
   "attachments": {},
   "cell_type": "markdown",
   "metadata": {
    "collapsed": true,
    "nbpresent": {
     "id": "af63ea0b-dff1-483f-bbee-4de09c8209f2"
    }
   },
   "source": [
    "### Box plot \"_se\" suffix designition"
   ]
  },
  {
   "cell_type": "code",
   "execution_count": null,
   "metadata": {
    "collapsed": true,
    "nbpresent": {
     "id": "cc8fcba8-19c1-411b-80f8-9ef0168cf20b"
    },
    "tags": []
   },
   "outputs": [],
   "source": [
    "# box and whisker plots\n",
    "plt = data_se.plot(\n",
    "    kind=\"box\", subplots=True, layout=(4, 4), sharex=False, sharey=False, fontsize=12\n",
    ")\n",
    "s = pd.Series([0, 1])\n",
    "ax = s.plot.box()\n",
    "ax.figure.savefig(\"outputs/nb2/boxplot_se.jpeg\")"
   ]
  },
  {
   "attachments": {},
   "cell_type": "markdown",
   "metadata": {
    "collapsed": true,
    "nbpresent": {
     "id": "87596dd2-aff7-4b9d-a206-e2a921701c94"
    }
   },
   "source": [
    "### Box plot \"_worst\" suffix designition"
   ]
  },
  {
   "cell_type": "code",
   "execution_count": null,
   "metadata": {
    "collapsed": true,
    "nbpresent": {
     "id": "034a34da-81ed-4155-994b-d1bc17caf00f"
    },
    "tags": []
   },
   "outputs": [],
   "source": [
    "# box and whisker plots\n",
    "plt = data_worst.plot(\n",
    "    kind=\"box\", subplots=True, layout=(4, 4), sharex=False, sharey=False, fontsize=12\n",
    ")\n",
    "s = pd.Series([0, 1])\n",
    "ax = s.plot.box()\n",
    "ax.figure.savefig(\"outputs/nb2/boxplot_worst.jpeg\")"
   ]
  },
  {
   "attachments": {},
   "cell_type": "markdown",
   "metadata": {
    "collapsed": true,
    "nbpresent": {
     "id": "d57bf73f-ede9-4508-9e77-9417ec1e5855"
    }
   },
   "source": [
    "### Observation\n",
    ">We can see that perhaps the attributes perimeter,radius, area, concavity,ompactness may have an exponential distribution ( ). We can also see that perhaps the texture and smooth and symmetry attributes may have a Gaussian or nearly Gaussian distribution. This is interesting because many machine learning techniques assume a Gaussian univariate distribution on the input variables."
   ]
  },
  {
   "attachments": {},
   "cell_type": "markdown",
   "metadata": {
    "nbpresent": {
     "id": "582b6d03-3d98-42ee-a480-f999cd8042b7"
    }
   },
   "source": [
    "# 2.4 Multimodal Data Visualizations\n",
    "* Scatter plots\n",
    "* Correlation matrix"
   ]
  },
  {
   "attachments": {},
   "cell_type": "markdown",
   "metadata": {
    "nbpresent": {
     "id": "f6f01572-5cb2-4a7f-b1cf-01fd88507e2d"
    }
   },
   "source": [
    "### Correlation matrix"
   ]
  },
  {
   "cell_type": "code",
   "execution_count": null,
   "metadata": {
    "collapsed": false,
    "nbpresent": {
     "id": "3b299da7-b9e0-42db-a2b7-40c70413fc25"
    },
    "tags": []
   },
   "outputs": [],
   "source": [
    "import matplotlib.pyplot as plt\n",
    "\n",
    "# plot correlation matrix\n",
    "data = pd.read_csv(\"outputs/datasets/cleaned/data.csv\", index_col=False)\n",
    "data.drop(\"Unnamed: 0\", axis=1, inplace=True)\n",
    "\n",
    "plt.figure(figsize=(25, 12))\n",
    "corr = data.corr(numeric_only=True)\n",
    "sns.heatmap(corr, annot=True, cmap=\"YlGnBu\")\n",
    "plt.savefig(\"outputs/nb2/correlation.jpeg\")"
   ]
  },
  {
   "attachments": {},
   "cell_type": "markdown",
   "metadata": {
    "nbpresent": {
     "id": "10e61694-c7f3-4267-a0e5-492e25e98a9c"
    }
   },
   "source": [
    "### Observation:\n",
    "We can see strong positive relationship exists with mean values paramaters between 1-0.75;.\n",
    "* The mean area of the tissue nucleus has a strong positive correlation with mean values of radius and parameter;\n",
    "* Some paramters are moderately positive corrlated (r between 0.5-0.75)are concavity and area, concavity and perimeter etc\n",
    "* Likewise, we see some strong negative correlation between fractal_dimension with radius, texture, parameter mean values.\n",
    "    "
   ]
  },
  {
   "cell_type": "code",
   "execution_count": null,
   "metadata": {
    "collapsed": false,
    "nbpresent": {
     "id": "57bebe7b-a01b-4543-ad23-f5b62041e78a"
    },
    "tags": []
   },
   "outputs": [],
   "source": [
    "plt.style.use(\"fivethirtyeight\")\n",
    "sns.set_style(\"white\")\n",
    "\n",
    "data = pd.read_csv(\"inputs/datasets/raw/data.csv\", index_col=False)\n",
    "g = sns.PairGrid(\n",
    "    data[\n",
    "        [\n",
    "            data.columns[1],\n",
    "            data.columns[2],\n",
    "            data.columns[3],\n",
    "            data.columns[4],\n",
    "            data.columns[5],\n",
    "            data.columns[6],\n",
    "        ]\n",
    "    ],\n",
    "    hue=\"diagnosis\",\n",
    ")\n",
    "g = g.map_diag(plt.hist)\n",
    "g = g.map_offdiag(plt.scatter, s=3)\n",
    "plt.savefig(\"outputs/nb2/scatter.jpeg\")"
   ]
  },
  {
   "attachments": {},
   "cell_type": "markdown",
   "metadata": {
    "nbpresent": {
     "id": "02ff5f2d-748b-4d8f-929e-747ab2a7c7aa"
    }
   },
   "source": [
    "### Summary\n",
    "\n",
    "* Mean values of cell radius, perimeter, area, compactness, concavity\n",
    "    and concave points can be used in classification of the cancer. Larger\n",
    "    values of these parameters tends to show a correlation with malignant\n",
    "    tumors.\n",
    "* mean values of texture, smoothness, symmetry or fractual dimension\n",
    "    does not show a particular preference of one diagnosis over the other. \n",
    "    \n",
    "* In any of the histograms there are no noticeable large outliers that warrants further cleanup."
   ]
  }
 ],
 "metadata": {
  "anaconda-cloud": {},
  "kernelspec": {
   "display_name": "Python 3.8.12 64-bit ('3.8.12': pyenv)",
   "language": "python",
   "name": "python381264bit3812pyenv8dedd780ca1644a8a1755f41e5d49d61"
  },
  "language_info": {
   "codemirror_mode": {
    "name": "ipython",
    "version": 3
   },
   "file_extension": ".py",
   "mimetype": "text/x-python",
   "name": "python",
   "nbconvert_exporter": "python",
   "pygments_lexer": "ipython3",
   "version": "3.8.12-final"
  }
 },
 "nbformat": 4,
 "nbformat_minor": 2
}
